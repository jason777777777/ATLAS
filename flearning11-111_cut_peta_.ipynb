{
 "cells": [
  {
   "cell_type": "code",
   "execution_count": 1,
   "metadata": {},
   "outputs": [
    {
     "name": "stderr",
     "output_type": "stream",
     "text": [
      "Using TensorFlow backend.\n"
     ]
    }
   ],
   "source": [
    "from keras.models import Sequential\n",
    "from keras.models import load_model\n",
    "from keras.layers import Dense, Activation\n",
    "from keras.callbacks import EarlyStopping\n",
    "from keras import optimizers\n",
    "import numpy as np\n",
    "import matplotlib.pyplot as plt\n",
    "import pandas as pd\n",
    "import scipy as sp\n",
    "from scipy import optimize\n",
    "import numpy as np\n",
    "import matplotlib.pyplot as plt\n",
    "from mpl_toolkits.mplot3d import Axes3D\n",
    "from sklearn.metrics import roc_curve, precision_recall_curve "
   ]
  },
  {
   "cell_type": "code",
   "execution_count": 2,
   "metadata": {},
   "outputs": [],
   "source": [
    "a1 = np.load('f_ideal_x_number_1_cut.npy')\n",
    "a2 = np.load('f_ideal_x_number_2_cut.npy')\n",
    "a3 = np.load('f_ideal_x_number_3_cut.npy')\n",
    "a4 = np.load('f_ideal_x_number_4_cut.npy')\n",
    "a5 = np.load('f_ideal_x_number_5_cut.npy')\n",
    "a6 = np.load('f_ideal_x_number_6_cut.npy')\n",
    "a7 = np.load('f_ideal_x_number_7_cut.npy')\n",
    "a8 = np.load('f_ideal_x_number_8_cut.npy')\n",
    "a9 = np.load('f_ideal_x_number_9_cut.npy')\n",
    "a10 = np.load('f_ideal_x_number_10_cut.npy')\n",
    "a11 = np.load('f_ideal_x_number_11_cut.npy')\n",
    "a12 = np.load('f_ideal_x_number_12_cut.npy')\n",
    "a13 = np.load('f_ideal_x_number_13_cut.npy')\n",
    "a14 = np.load('f_ideal_x_number_14_cut.npy')\n",
    "a15 = np.load('f_ideal_x_number_15_cut.npy')\n",
    "a161 = np.load('f_ideal_x_number_161_cut.npy')\n",
    "a162 = np.load('f_ideal_x_number_162_cut.npy')\n",
    "a17 = np.load('f_ideal_x_number_17_cut.npy')\n",
    "a18 = np.load('f_ideal_x_number_18_cut.npy')\n",
    "a19 = np.load('f_ideal_x_number_19_cut.npy')\n",
    "a20 = np.load('f_ideal_x_number_20_cut.npy')\n",
    "a21 = np.load('f_ideal_x_number_21_cut.npy')\n",
    "a22 = np.load('f_ideal_x_number_22_cut.npy')\n",
    "a23 = np.load('f_ideal_x_number_23_cut.npy')\n",
    "a24 = np.load('f_ideal_x_number_24_cut.npy')\n",
    "a25 = np.load('f_ideal_x_number_25_cut.npy')\n",
    "a26 = np.load('f_ideal_x_number_26_cut.npy')\n",
    "a27 = np.load('f_ideal_x_number_27_cut.npy')\n",
    "\n",
    "X1 = np.concatenate((a1, a2, a3, a4, a5, a6, a7, a8, a9, a10, a11, a12, a13, a14, a15, a161, a162, a17, a18, a19, a20, a21, a22, a23, a24, a25, a26, a27)).copy()\n",
    "\n",
    "a0 = np.load('f_all_x_number_cut.npy')\n",
    "X0 = np.copy(a0)"
   ]
  },
  {
   "cell_type": "code",
   "execution_count": 3,
   "metadata": {},
   "outputs": [],
   "source": [
    "b1 = np.load('f_ideal_y_number_1_cut.npy')\n",
    "b2 = np.load('f_ideal_y_number_2_cut.npy')\n",
    "b3 = np.load('f_ideal_y_number_3_cut.npy')\n",
    "b4 = np.load('f_ideal_y_number_4_cut.npy')\n",
    "b5 = np.load('f_ideal_y_number_5_cut.npy')\n",
    "b6 = np.load('f_ideal_y_number_6_cut.npy')\n",
    "b7 = np.load('f_ideal_y_number_7_cut.npy')\n",
    "b8 = np.load('f_ideal_y_number_8_cut.npy')\n",
    "b9 = np.load('f_ideal_y_number_9_cut.npy')\n",
    "b10 = np.load('f_ideal_y_number_10_cut.npy')\n",
    "b11 = np.load('f_ideal_y_number_11_cut.npy')\n",
    "b12 = np.load('f_ideal_y_number_12_cut.npy')\n",
    "b13 = np.load('f_ideal_y_number_13_cut.npy')\n",
    "b14 = np.load('f_ideal_y_number_14_cut.npy')\n",
    "b15 = np.load('f_ideal_y_number_15_cut.npy')\n",
    "b161 = np.load('f_ideal_y_number_161_cut.npy')\n",
    "b162 = np.load('f_ideal_y_number_162_cut.npy')\n",
    "b17 = np.load('f_ideal_y_number_17_cut.npy')\n",
    "b18 = np.load('f_ideal_y_number_18_cut.npy')\n",
    "b19 = np.load('f_ideal_y_number_19_cut.npy')\n",
    "b20 = np.load('f_ideal_y_number_20_cut.npy')\n",
    "b21 = np.load('f_ideal_y_number_21_cut.npy')\n",
    "b22 = np.load('f_ideal_y_number_22_cut.npy')\n",
    "b23 = np.load('f_ideal_y_number_23_cut.npy')\n",
    "b24 = np.load('f_ideal_y_number_24_cut.npy')\n",
    "b25 = np.load('f_ideal_y_number_25_cut.npy')\n",
    "b26 = np.load('f_ideal_y_number_26_cut.npy')\n",
    "b27 = np.load('f_ideal_y_number_27_cut.npy')\n",
    "\n",
    "Y1 = np.concatenate((b1, b2, b3, b4, b5, b6, b7, b8, b9, b10, b11, b12, b13, b14, b15, b161, b162, b17, b18, b19, b20, b21, b22, b23, b24, b25, b26, b27)).copy()\n",
    "\n",
    "b0 = np.load('f_all_y_number_cut.npy')\n",
    "Y0 = np.copy(b0)"
   ]
  },
  {
   "cell_type": "code",
   "execution_count": 4,
   "metadata": {},
   "outputs": [],
   "source": [
    "c1 = np.load('f_ideal_z_number_1_cut.npy')\n",
    "c2 = np.load('f_ideal_z_number_2_cut.npy')\n",
    "c3 = np.load('f_ideal_z_number_3_cut.npy')\n",
    "c4 = np.load('f_ideal_z_number_4_cut.npy')\n",
    "c5 = np.load('f_ideal_z_number_5_cut.npy')\n",
    "c6 = np.load('f_ideal_z_number_6_cut.npy')\n",
    "c7 = np.load('f_ideal_z_number_7_cut.npy')\n",
    "c8 = np.load('f_ideal_z_number_8_cut.npy')\n",
    "c9 = np.load('f_ideal_z_number_9_cut.npy')\n",
    "c10 = np.load('f_ideal_z_number_10_cut.npy')\n",
    "c11 = np.load('f_ideal_z_number_11_cut.npy')\n",
    "c12 = np.load('f_ideal_z_number_12_cut.npy')\n",
    "c13 = np.load('f_ideal_z_number_13_cut.npy')\n",
    "c14 = np.load('f_ideal_z_number_14_cut.npy')\n",
    "c15 = np.load('f_ideal_z_number_15_cut.npy')\n",
    "c161 = np.load('f_ideal_z_number_161_cut.npy')\n",
    "c162 = np.load('f_ideal_z_number_162_cut.npy')\n",
    "c17 = np.load('f_ideal_z_number_17_cut.npy')\n",
    "c18 = np.load('f_ideal_z_number_18_cut.npy')\n",
    "c19 = np.load('f_ideal_z_number_19_cut.npy')\n",
    "c20 = np.load('f_ideal_z_number_20_cut.npy')\n",
    "c21 = np.load('f_ideal_z_number_21_cut.npy')\n",
    "c22 = np.load('f_ideal_z_number_22_cut.npy')\n",
    "c23 = np.load('f_ideal_z_number_23_cut.npy')\n",
    "c24 = np.load('f_ideal_z_number_24_cut.npy')\n",
    "c25 = np.load('f_ideal_z_number_25_cut.npy')\n",
    "c26 = np.load('f_ideal_z_number_26_cut.npy')\n",
    "c27 = np.load('f_ideal_z_number_27_cut.npy')\n",
    "\n",
    "Z1 = np.concatenate((c1, c2, c3, c4, c5, c6, c7, c8, c9, c10, c11, c12, c13, c14, c15, c161, c162, c17, c18, c19, c20, c21, c22, c23, c24, c25, c26, c27)).copy()\n",
    "\n",
    "c0 = np.load('f_all_z_number_cut.npy')\n",
    "Z0 = np.copy(c0)"
   ]
  },
  {
   "cell_type": "code",
   "execution_count": null,
   "metadata": {},
   "outputs": [],
   "source": []
  },
  {
   "cell_type": "code",
   "execution_count": 5,
   "metadata": {},
   "outputs": [],
   "source": [
    "position1 = np.load('position1_.npy')\n",
    "position0 = np.load('position0_.npy')\n",
    "\n",
    "position1_c = np.load('position1_c_.npy')\n",
    "position0_c = np.load('position0_c_.npy')\n",
    "\n",
    "position1_t = np.load('position1_t_.npy')\n",
    "position0_t = np.load('position0_t_.npy')"
   ]
  },
  {
   "cell_type": "code",
   "execution_count": 6,
   "metadata": {},
   "outputs": [],
   "source": [
    "def eta_transversemomentum_calculation(x, y, z):\n",
    "    # find the center of helix which connects three hits in x-y plane\n",
    "    #x, y, z are triplet arrays with xyz coordinates of three hits.\n",
    "    #xc, yc are numbers as the center of helix;\n",
    "    #calc_R returns a triplet as the transverse distance between hits and the center of helix in x-y plane;\n",
    "    #the ratio of z-coordinate over radial distance (distance from hits to the origin) is cos(theta) in which theta is the angle between total_momentum and the z-axis\n",
    "    #dz/dr = momentum_component_in_z_direction/total_momentum;\n",
    "    #leastsq returns the estimated doublet array (center) and a weird integer (_) for the center coordinates of the helix (xc, yc) for the calc_R function;\n",
    "    \n",
    "    def calc_R(xc, yc):\n",
    "        return np.sqrt((x-xc)**2 + (y-yc)**2)\n",
    "\n",
    "    def target(c):\n",
    "        relative_transverse_distance = calc_R(*c)\n",
    "        return relative_transverse_distance - relative_transverse_distance.mean()\n",
    "\n",
    "    radial_distance = np.sqrt(x**2 + y**2 + z**2)\n",
    "    coefficients = np.polyfit(radial_distance, z, 1)\n",
    "    dz_dr = coefficients[0]\n",
    "    theta = np.arccos(dz_dr)\n",
    "    eta = -np.log(np.tan(theta/2.))\n",
    "\n",
    "    center_estimate = np.mean(x), np.mean(y)\n",
    "    center, _ = optimize.leastsq(target, center_estimate)\n",
    "    R = calc_R(*center).mean()\n",
    "    \n",
    "    return eta, 0.6*R/1000"
   ]
  },
  {
   "cell_type": "code",
   "execution_count": null,
   "metadata": {},
   "outputs": [],
   "source": []
  },
  {
   "cell_type": "code",
   "execution_count": 7,
   "metadata": {},
   "outputs": [],
   "source": [
    "x1, y1, z1 = X1[position1], Y1[position1], Z1[position1]\n",
    "x0, y0, z0 = X0[position0], Y0[position0], Z0[position0]"
   ]
  },
  {
   "cell_type": "code",
   "execution_count": 8,
   "metadata": {},
   "outputs": [
    {
     "data": {
      "text/plain": [
       "array([[ 27.02260017,  62.65589905, 101.72499847],\n",
       "       [ 31.92009926,  70.20500183, 112.0719986 ],\n",
       "       [ 27.83110046,  61.88539886,  96.0266037 ],\n",
       "       ...,\n",
       "       [ 31.74440002,  72.20230103, 112.86199951],\n",
       "       [ 15.65460014,  36.67720032,  62.80970001],\n",
       "       [ 13.45790005,  31.0394001 ,  51.51029968]])"
      ]
     },
     "execution_count": 8,
     "metadata": {},
     "output_type": "execute_result"
    }
   ],
   "source": [
    "x1"
   ]
  },
  {
   "cell_type": "code",
   "execution_count": 9,
   "metadata": {},
   "outputs": [
    {
     "name": "stderr",
     "output_type": "stream",
     "text": [
      "/home/jsqason/.local/lib/python3.5/site-packages/ipykernel_launcher.py:20: RuntimeWarning: invalid value encountered in arccos\n"
     ]
    }
   ],
   "source": [
    "pt1, eta1 = [], []\n",
    "pt0, eta0 = [], []\n",
    "\n",
    "for i, j, k in zip(x1, y1, z1):\n",
    "    eta, pt = eta_transversemomentum_calculation(i, j, k)\n",
    "    eta1.append(eta)\n",
    "    pt1.append(pt)"
   ]
  },
  {
   "cell_type": "code",
   "execution_count": 10,
   "metadata": {},
   "outputs": [
    {
     "name": "stderr",
     "output_type": "stream",
     "text": [
      "/home/jsqason/.local/lib/python3.5/site-packages/ipykernel_launcher.py:20: RuntimeWarning: invalid value encountered in arccos\n"
     ]
    }
   ],
   "source": [
    "for i, j, k in zip(x0, y0, z0):\n",
    "    eta, pt = eta_transversemomentum_calculation(i, j, k)\n",
    "    eta0.append(eta)\n",
    "    pt0.append(pt)"
   ]
  },
  {
   "cell_type": "code",
   "execution_count": null,
   "metadata": {},
   "outputs": [],
   "source": []
  },
  {
   "cell_type": "code",
   "execution_count": 11,
   "metadata": {},
   "outputs": [],
   "source": [
    "x1_c, y1_c, z1_c = X1[position1_c], Y1[position1_c], Z1[position1_c]\n",
    "x0_c, y0_c, z0_c = X0[position0_c], Y0[position0_c], Z0[position0_c]"
   ]
  },
  {
   "cell_type": "code",
   "execution_count": 12,
   "metadata": {},
   "outputs": [
    {
     "name": "stderr",
     "output_type": "stream",
     "text": [
      "/home/jsqason/.local/lib/python3.5/site-packages/ipykernel_launcher.py:20: RuntimeWarning: invalid value encountered in arccos\n"
     ]
    }
   ],
   "source": [
    "pt1_c, eta1_c = [], []\n",
    "pt0_c, eta0_c = [], []\n",
    "\n",
    "for i, j, k in zip(x1_c, y1_c, z1_c):\n",
    "    eta, pt = eta_transversemomentum_calculation(i, j, k)\n",
    "    eta1_c.append(eta)\n",
    "    pt1_c.append(pt)"
   ]
  },
  {
   "cell_type": "code",
   "execution_count": 13,
   "metadata": {},
   "outputs": [
    {
     "name": "stderr",
     "output_type": "stream",
     "text": [
      "/home/jsqason/.local/lib/python3.5/site-packages/ipykernel_launcher.py:20: RuntimeWarning: invalid value encountered in arccos\n"
     ]
    }
   ],
   "source": [
    "for i, j, k in zip(x0_c, y0_c, z0_c):\n",
    "    eta, pt = eta_transversemomentum_calculation(i, j, k)\n",
    "    eta0_c.append(eta)\n",
    "    pt0_c.append(pt)"
   ]
  },
  {
   "cell_type": "code",
   "execution_count": null,
   "metadata": {},
   "outputs": [],
   "source": []
  },
  {
   "cell_type": "code",
   "execution_count": 14,
   "metadata": {},
   "outputs": [],
   "source": [
    "x1_t, y1_t, z1_t = X1[position1_t], Y1[position1_t], Z1[position1_t]\n",
    "x0_t, y0_t, z0_t = X0[position0_t], Y0[position0_t], Z0[position0_t]"
   ]
  },
  {
   "cell_type": "code",
   "execution_count": 15,
   "metadata": {},
   "outputs": [
    {
     "name": "stderr",
     "output_type": "stream",
     "text": [
      "/home/jsqason/.local/lib/python3.5/site-packages/ipykernel_launcher.py:20: RuntimeWarning: invalid value encountered in arccos\n"
     ]
    }
   ],
   "source": [
    "pt1_t, eta1_t = [], []\n",
    "pt0_t, eta0_t = [], []\n",
    "\n",
    "for i, j, k in zip(x1_t, y1_t, z1_t):\n",
    "    eta, pt = eta_transversemomentum_calculation(i, j, k)\n",
    "    eta1_t.append(eta)\n",
    "    pt1_t.append(pt)"
   ]
  },
  {
   "cell_type": "code",
   "execution_count": 16,
   "metadata": {},
   "outputs": [
    {
     "name": "stderr",
     "output_type": "stream",
     "text": [
      "/home/jsqason/.local/lib/python3.5/site-packages/ipykernel_launcher.py:20: RuntimeWarning: invalid value encountered in arccos\n"
     ]
    }
   ],
   "source": [
    "for i, j, k in zip(x0_t, y0_t, z0_t):\n",
    "    eta, pt = eta_transversemomentum_calculation(i, j, k)\n",
    "    eta0_t.append(eta)\n",
    "    pt0_t.append(pt)"
   ]
  },
  {
   "cell_type": "code",
   "execution_count": null,
   "metadata": {},
   "outputs": [],
   "source": []
  },
  {
   "cell_type": "code",
   "execution_count": 17,
   "metadata": {},
   "outputs": [],
   "source": [
    "np.save('pt1_.npy', pt1)\n",
    "np.save('eta1_.npy', eta1)\n",
    "np.save('pt0_.npy', pt0)\n",
    "np.save('eta0_.npy', eta0)\n",
    "\n",
    "np.save('pt1_c_.npy', pt1_c)\n",
    "np.save('eta1_c_.npy', eta1_c)\n",
    "np.save('pt0_c_.npy', pt0_c)\n",
    "np.save('eta0_c_.npy', eta0_c)\n",
    "\n",
    "np.save('pt1_t_.npy', pt1_t)\n",
    "np.save('eta1_t_.npy', eta1_t)\n",
    "np.save('pt0_t_.npy', pt0_t)\n",
    "np.save('eta0_t_.npy', eta0_t)"
   ]
  },
  {
   "cell_type": "code",
   "execution_count": 18,
   "metadata": {},
   "outputs": [
    {
     "data": {
      "text/plain": [
       "(4970531, 3138011)"
      ]
     },
     "execution_count": 18,
     "metadata": {},
     "output_type": "execute_result"
    }
   ],
   "source": [
    "len(pt1), len(pt0)"
   ]
  },
  {
   "cell_type": "code",
   "execution_count": 19,
   "metadata": {},
   "outputs": [
    {
     "data": {
      "text/plain": [
       "(5004258, 27496352)"
      ]
     },
     "execution_count": 19,
     "metadata": {},
     "output_type": "execute_result"
    }
   ],
   "source": [
    "len(pt1_c), len(pt0_c)"
   ]
  },
  {
   "cell_type": "code",
   "execution_count": 20,
   "metadata": {},
   "outputs": [
    {
     "data": {
      "text/plain": [
       "(4970530, 559448)"
      ]
     },
     "execution_count": 20,
     "metadata": {},
     "output_type": "execute_result"
    }
   ],
   "source": [
    "len(pt1_t), len(pt0_t)"
   ]
  },
  {
   "cell_type": "code",
   "execution_count": null,
   "metadata": {},
   "outputs": [],
   "source": []
  },
  {
   "cell_type": "code",
   "execution_count": null,
   "metadata": {},
   "outputs": [],
   "source": []
  },
  {
   "cell_type": "code",
   "execution_count": 21,
   "metadata": {},
   "outputs": [],
   "source": [
    "peta1 = np.c_[pt1, eta1]\n",
    "peta0 = np.c_[pt0, eta0]\n",
    "\n",
    "peta1_c = np.c_[pt1_c, eta1_c]\n",
    "peta0_c = np.c_[pt0_c, eta0_c]\n",
    "\n",
    "peta1_t = np.c_[pt1_t, eta1_t]\n",
    "peta0_t = np.c_[pt0_t, eta0_t]"
   ]
  },
  {
   "cell_type": "code",
   "execution_count": 22,
   "metadata": {},
   "outputs": [],
   "source": [
    "def data_decompress(data, eta_lower, eta_upper, pt_lower, pt_upper):\n",
    "    position_indicators = []\n",
    "    for i in range(len(data)):\n",
    "        pt, eta_magnitude = data[i][0], np.absolute(data[i][1])\n",
    "        if eta_magnitude >= eta_lower and eta_magnitude <= eta_upper and pt >= pt_lower and pt <= pt_upper:\n",
    "            position_indicators.append(i)\n",
    "    return np.array(position_indicators)"
   ]
  },
  {
   "cell_type": "code",
   "execution_count": 23,
   "metadata": {},
   "outputs": [
    {
     "data": {
      "text/plain": [
       "0.2"
      ]
     },
     "execution_count": 23,
     "metadata": {},
     "output_type": "execute_result"
    }
   ],
   "source": [
    "np.absolute(-0.2)"
   ]
  },
  {
   "cell_type": "code",
   "execution_count": null,
   "metadata": {},
   "outputs": [],
   "source": []
  },
  {
   "cell_type": "code",
   "execution_count": 24,
   "metadata": {},
   "outputs": [],
   "source": [
    "peta1_positions_1, peta0_positions_1 = data_decompress(peta1, 0, 1, 0, 0.5), data_decompress(peta0, 0, 1, 0, 0.5)\n",
    "peta1_positions_2, peta0_positions_2 = data_decompress(peta1, 1, 1.5, 0, 0.5), data_decompress(peta0, 1, 1.5, 0, 0.5)\n",
    "peta1_positions_3, peta0_positions_3 = data_decompress(peta1, 1.5, 2.1, 0, 0.5), data_decompress(peta0, 1.5, 2.1, 0, 0.5)\n",
    "peta1_positions_4, peta0_positions_4 = data_decompress(peta1, 2.1, 3, 0, 0.5), data_decompress(peta0, 2.1, 3, 0, 0.5)\n",
    "peta1_positions_5, peta0_positions_5 = data_decompress(peta1, 0, 1, 0.5, 1.0), data_decompress(peta0, 0, 1, 0.5, 1.0)\n",
    "peta1_positions_6, peta0_positions_6 = data_decompress(peta1, 1, 1.5, 0.5, 1.0), data_decompress(peta0, 1, 1.5, 0.5, 1.0)\n",
    "peta1_positions_7, peta0_positions_7 = data_decompress(peta1, 1.5, 2.1, 0.5, 1.0), data_decompress(peta0, 1.5, 2.1, 0.5, 1.0)\n",
    "peta1_positions_8, peta0_positions_8 = data_decompress(peta1, 2.1, 3, 0.5, 1.0), data_decompress(peta0, 2.1, 3, 0.5, 1.0)\n",
    "peta1_positions_9, peta0_positions_9 = data_decompress(peta1, 0, 1, 1, 1000), data_decompress(peta0, 0, 1, 1, 1000)\n",
    "peta1_positions_10, peta0_positions_10 = data_decompress(peta1, 1, 1.5, 1, 1000), data_decompress(peta0, 1, 1.5, 1, 1000)\n",
    "peta1_positions_11, peta0_positions_11 = data_decompress(peta1, 1.5, 2.1, 1, 1000), data_decompress(peta0, 1.5, 2.1, 1, 1000)\n",
    "peta1_positions_12, peta0_positions_12 = data_decompress(peta1, 2.1, 3, 1, 1000), data_decompress(peta0, 2.1, 3, 1, 1000)"
   ]
  },
  {
   "cell_type": "code",
   "execution_count": 25,
   "metadata": {},
   "outputs": [
    {
     "data": {
      "text/plain": [
       "(1804641,\n",
       " 463484,\n",
       " 97105,\n",
       " 26169,\n",
       " 1109491,\n",
       " 280208,\n",
       " 58771,\n",
       " 16142,\n",
       " 606786,\n",
       " 150763,\n",
       " 31099,\n",
       " 8246)"
      ]
     },
     "execution_count": 25,
     "metadata": {},
     "output_type": "execute_result"
    }
   ],
   "source": [
    "len(peta1_positions_1), len(peta1_positions_2), len(peta1_positions_3), len(peta1_positions_4), len(peta1_positions_5), len(peta1_positions_6), len(peta1_positions_7), len(peta1_positions_8), len(peta1_positions_9), len(peta1_positions_10), len(peta1_positions_11), len(peta1_positions_12)"
   ]
  },
  {
   "cell_type": "code",
   "execution_count": 26,
   "metadata": {},
   "outputs": [
    {
     "data": {
      "text/plain": [
       "4652905"
      ]
     },
     "execution_count": 26,
     "metadata": {},
     "output_type": "execute_result"
    }
   ],
   "source": [
    "len(peta1_positions_1) + len(peta1_positions_2) + len(peta1_positions_3) + len(peta1_positions_4) + len(peta1_positions_5) + len(peta1_positions_6) + len(peta1_positions_7) + len(peta1_positions_8) + len(peta1_positions_9) + len(peta1_positions_10) + len(peta1_positions_11) + len(peta1_positions_12)"
   ]
  },
  {
   "cell_type": "code",
   "execution_count": 27,
   "metadata": {},
   "outputs": [
    {
     "data": {
      "text/plain": [
       "4970531"
      ]
     },
     "execution_count": 27,
     "metadata": {},
     "output_type": "execute_result"
    }
   ],
   "source": [
    "len(peta1)"
   ]
  },
  {
   "cell_type": "code",
   "execution_count": 28,
   "metadata": {},
   "outputs": [
    {
     "data": {
      "text/plain": [
       "(1445827,\n",
       " 438949,\n",
       " 212210,\n",
       " 76097,\n",
       " 39767,\n",
       " 12035,\n",
       " 5779,\n",
       " 2038,\n",
       " 39840,\n",
       " 11976,\n",
       " 5919,\n",
       " 2086)"
      ]
     },
     "execution_count": 28,
     "metadata": {},
     "output_type": "execute_result"
    }
   ],
   "source": [
    "len(peta0_positions_1), len(peta0_positions_2), len(peta0_positions_3), len(peta0_positions_4), len(peta0_positions_5), len(peta0_positions_6), len(peta0_positions_7), len(peta0_positions_8), len(peta0_positions_9), len(peta0_positions_10), len(peta0_positions_11), len(peta0_positions_12)"
   ]
  },
  {
   "cell_type": "code",
   "execution_count": 29,
   "metadata": {},
   "outputs": [
    {
     "data": {
      "text/plain": [
       "2292523"
      ]
     },
     "execution_count": 29,
     "metadata": {},
     "output_type": "execute_result"
    }
   ],
   "source": [
    "len(peta0_positions_1) + len(peta0_positions_2) + len(peta0_positions_3) + len(peta0_positions_4) + len(peta0_positions_5) + len(peta0_positions_6) + len(peta0_positions_7) + len(peta0_positions_8) + len(peta0_positions_9) + len(peta0_positions_10) + len(peta0_positions_11) + len(peta0_positions_12)"
   ]
  },
  {
   "cell_type": "code",
   "execution_count": 30,
   "metadata": {},
   "outputs": [
    {
     "data": {
      "text/plain": [
       "3138011"
      ]
     },
     "execution_count": 30,
     "metadata": {},
     "output_type": "execute_result"
    }
   ],
   "source": [
    "len(peta0)"
   ]
  },
  {
   "cell_type": "code",
   "execution_count": null,
   "metadata": {},
   "outputs": [],
   "source": []
  },
  {
   "cell_type": "code",
   "execution_count": 31,
   "metadata": {},
   "outputs": [],
   "source": [
    "peta1_c_positions_1, peta0_c_positions_1 = data_decompress(peta1_c, 0, 1, 0, 0.5), data_decompress(peta0_c, 0, 1, 0, 0.5)\n",
    "peta1_c_positions_2, peta0_c_positions_2 = data_decompress(peta1_c, 1, 1.5, 0, 0.5), data_decompress(peta0_c, 1, 1.5, 0, 0.5)\n",
    "peta1_c_positions_3, peta0_c_positions_3 = data_decompress(peta1_c, 1.5, 2.1, 0, 0.5), data_decompress(peta0_c, 1.5, 2.1, 0, 0.5)\n",
    "peta1_c_positions_4, peta0_c_positions_4 = data_decompress(peta1_c, 2.1, 3, 0, 0.5), data_decompress(peta0_c, 2.1, 3, 0, 0.5)\n",
    "peta1_c_positions_5, peta0_c_positions_5 = data_decompress(peta1_c, 0, 1, 0.5, 1.0), data_decompress(peta0_c, 0, 1, 0.5, 1.0)\n",
    "peta1_c_positions_6, peta0_c_positions_6 = data_decompress(peta1_c, 1, 1.5, 0.5, 1.0), data_decompress(peta0_c, 1, 1.5, 0.5, 1.0)\n",
    "peta1_c_positions_7, peta0_c_positions_7 = data_decompress(peta1_c, 1.5, 2.1, 0.5, 1.0), data_decompress(peta0_c, 1.5, 2.1, 0.5, 1.0)\n",
    "peta1_c_positions_8, peta0_c_positions_8 = data_decompress(peta1_c, 2.1, 3, 0.5, 1.0), data_decompress(peta0_c, 2.1, 3, 0.5, 1.0)\n",
    "peta1_c_positions_9, peta0_c_positions_9 = data_decompress(peta1_c, 0, 1, 1, 1000), data_decompress(peta0_c, 0, 1, 1, 1000)\n",
    "peta1_c_positions_10, peta0_c_positions_10 = data_decompress(peta1_c, 1, 1.5, 1, 1000), data_decompress(peta0_c, 1, 1.5, 1, 1000)\n",
    "peta1_c_positions_11, peta0_c_positions_11 = data_decompress(peta1_c, 1.5, 2.1, 1, 1000), data_decompress(peta0_c, 1.5, 2.1, 1, 1000)\n",
    "peta1_c_positions_12, peta0_c_positions_12 = data_decompress(peta1_c, 2.1, 3, 1, 1000), data_decompress(peta0_c, 2.1, 3, 1, 1000)"
   ]
  },
  {
   "cell_type": "code",
   "execution_count": 32,
   "metadata": {},
   "outputs": [
    {
     "data": {
      "text/plain": [
       "(1828219,\n",
       " 469668,\n",
       " 99028,\n",
       " 26895,\n",
       " 1108464,\n",
       " 279377,\n",
       " 58319,\n",
       " 16030,\n",
       " 606013,\n",
       " 150047,\n",
       " 30793,\n",
       " 8179)"
      ]
     },
     "execution_count": 32,
     "metadata": {},
     "output_type": "execute_result"
    }
   ],
   "source": [
    "len(peta1_c_positions_1), len(peta1_c_positions_2), len(peta1_c_positions_3), len(peta1_c_positions_4), len(peta1_c_positions_5), len(peta1_c_positions_6), len(peta1_c_positions_7), len(peta1_c_positions_8), len(peta1_c_positions_9), len(peta1_c_positions_10), len(peta1_c_positions_11), len(peta1_c_positions_12)"
   ]
  },
  {
   "cell_type": "code",
   "execution_count": 33,
   "metadata": {},
   "outputs": [
    {
     "data": {
      "text/plain": [
       "4681032"
      ]
     },
     "execution_count": 33,
     "metadata": {},
     "output_type": "execute_result"
    }
   ],
   "source": [
    "len(peta1_c_positions_1) + len(peta1_c_positions_2) + len(peta1_c_positions_3) + len(peta1_c_positions_4) + len(peta1_c_positions_5) + len(peta1_c_positions_6) + len(peta1_c_positions_7) + len(peta1_c_positions_8) + len(peta1_c_positions_9) + len(peta1_c_positions_10) + len(peta1_c_positions_11) + len(peta1_c_positions_12)"
   ]
  },
  {
   "cell_type": "code",
   "execution_count": 34,
   "metadata": {},
   "outputs": [
    {
     "data": {
      "text/plain": [
       "5004258"
      ]
     },
     "execution_count": 34,
     "metadata": {},
     "output_type": "execute_result"
    }
   ],
   "source": [
    "len(peta1_c)"
   ]
  },
  {
   "cell_type": "code",
   "execution_count": 35,
   "metadata": {},
   "outputs": [
    {
     "data": {
      "text/plain": [
       "(12441864,\n",
       " 3866403,\n",
       " 1970748,\n",
       " 729653,\n",
       " 272802,\n",
       " 84693,\n",
       " 43215,\n",
       " 15936,\n",
       " 271760,\n",
       " 84674,\n",
       " 43184,\n",
       " 16071)"
      ]
     },
     "execution_count": 35,
     "metadata": {},
     "output_type": "execute_result"
    }
   ],
   "source": [
    "len(peta0_c_positions_1), len(peta0_c_positions_2), len(peta0_c_positions_3), len(peta0_c_positions_4), len(peta0_c_positions_5), len(peta0_c_positions_6), len(peta0_c_positions_7), len(peta0_c_positions_8), len(peta0_c_positions_9), len(peta0_c_positions_10), len(peta0_c_positions_11), len(peta0_c_positions_12)"
   ]
  },
  {
   "cell_type": "code",
   "execution_count": 36,
   "metadata": {},
   "outputs": [
    {
     "data": {
      "text/plain": [
       "19841003"
      ]
     },
     "execution_count": 36,
     "metadata": {},
     "output_type": "execute_result"
    }
   ],
   "source": [
    "len(peta0_c_positions_1) + len(peta0_c_positions_2) + len(peta0_c_positions_3) + len(peta0_c_positions_4) + len(peta0_c_positions_5) + len(peta0_c_positions_6) + len(peta0_c_positions_7) + len(peta0_c_positions_8) + len(peta0_c_positions_9) + len(peta0_c_positions_10) + len(peta0_c_positions_11) + len(peta0_c_positions_12)"
   ]
  },
  {
   "cell_type": "code",
   "execution_count": 37,
   "metadata": {},
   "outputs": [
    {
     "data": {
      "text/plain": [
       "27496352"
      ]
     },
     "execution_count": 37,
     "metadata": {},
     "output_type": "execute_result"
    }
   ],
   "source": [
    "len(peta0_c)"
   ]
  },
  {
   "cell_type": "code",
   "execution_count": null,
   "metadata": {},
   "outputs": [],
   "source": []
  },
  {
   "cell_type": "code",
   "execution_count": 38,
   "metadata": {},
   "outputs": [],
   "source": [
    "peta1_t_positions_1, peta0_t_positions_1 = data_decompress(peta1_t, 0, 1, 0, 0.5), data_decompress(peta0_t, 0, 1, 0, 0.5)\n",
    "peta1_t_positions_2, peta0_t_positions_2 = data_decompress(peta1_t, 1, 1.5, 0, 0.5), data_decompress(peta0_t, 1, 1.5, 0, 0.5)\n",
    "peta1_t_positions_3, peta0_t_positions_3 = data_decompress(peta1_t, 1.5, 2.1, 0, 0.5), data_decompress(peta0_t, 1.5, 2.1, 0, 0.5)\n",
    "peta1_t_positions_4, peta0_t_positions_4 = data_decompress(peta1_t, 2.1, 3, 0, 0.5), data_decompress(peta0_t, 2.1, 3, 0, 0.5)\n",
    "peta1_t_positions_5, peta0_t_positions_5 = data_decompress(peta1_t, 0, 1, 0.5, 1.0), data_decompress(peta0_t, 0, 1, 0.5, 1.0)\n",
    "peta1_t_positions_6, peta0_t_positions_6 = data_decompress(peta1_t, 1, 1.5, 0.5, 1.0), data_decompress(peta0_t, 1, 1.5, 0.5, 1.0)\n",
    "peta1_t_positions_7, peta0_t_positions_7 = data_decompress(peta1_t, 1.5, 2.1, 0.5, 1.0), data_decompress(peta0_t, 1.5, 2.1, 0.5, 1.0)\n",
    "peta1_t_positions_8, peta0_t_positions_8 = data_decompress(peta1_t, 2.1, 3, 0.5, 1.0), data_decompress(peta0_t, 2.1, 3, 0.5, 1.0)\n",
    "peta1_t_positions_9, peta0_t_positions_9 = data_decompress(peta1_t, 0, 1, 1, 1000), data_decompress(peta0_t, 0, 1, 1, 1000)\n",
    "peta1_t_positions_10, peta0_t_positions_10 = data_decompress(peta1_t, 1, 1.5, 1, 1000), data_decompress(peta0_t, 1, 1.5, 1, 1000)\n",
    "peta1_t_positions_11, peta0_t_positions_11 = data_decompress(peta1_t, 1.5, 2.1, 1, 1000), data_decompress(peta0_t, 1.5, 2.1, 1, 1000)\n",
    "peta1_t_positions_12, peta0_t_positions_12 = data_decompress(peta1_t, 2.1, 3, 1, 1000), data_decompress(peta0_t, 2.1, 3, 1, 1000)"
   ]
  },
  {
   "cell_type": "code",
   "execution_count": 39,
   "metadata": {},
   "outputs": [
    {
     "data": {
      "text/plain": [
       "(1797258,\n",
       " 466391,\n",
       " 98580,\n",
       " 26752,\n",
       " 1108492,\n",
       " 280047,\n",
       " 58665,\n",
       " 16104,\n",
       " 606468,\n",
       " 150572,\n",
       " 31016,\n",
       " 8215)"
      ]
     },
     "execution_count": 39,
     "metadata": {},
     "output_type": "execute_result"
    }
   ],
   "source": [
    "len(peta1_t_positions_1), len(peta1_t_positions_2), len(peta1_t_positions_3), len(peta1_t_positions_4), len(peta1_t_positions_5), len(peta1_t_positions_6), len(peta1_t_positions_7), len(peta1_t_positions_8), len(peta1_t_positions_9), len(peta1_t_positions_10), len(peta1_t_positions_11), len(peta1_t_positions_12)"
   ]
  },
  {
   "cell_type": "code",
   "execution_count": 40,
   "metadata": {},
   "outputs": [
    {
     "data": {
      "text/plain": [
       "4648560"
      ]
     },
     "execution_count": 40,
     "metadata": {},
     "output_type": "execute_result"
    }
   ],
   "source": [
    "len(peta1_t_positions_1) + len(peta1_t_positions_2) + len(peta1_t_positions_3) + len(peta1_t_positions_4) + len(peta1_t_positions_5) + len(peta1_t_positions_6) + len(peta1_t_positions_7) + len(peta1_t_positions_8) + len(peta1_t_positions_9) + len(peta1_t_positions_10) + len(peta1_t_positions_11) + len(peta1_t_positions_12)"
   ]
  },
  {
   "cell_type": "code",
   "execution_count": 41,
   "metadata": {},
   "outputs": [
    {
     "data": {
      "text/plain": [
       "4970530"
      ]
     },
     "execution_count": 41,
     "metadata": {},
     "output_type": "execute_result"
    }
   ],
   "source": [
    "len(peta1_t)"
   ]
  },
  {
   "cell_type": "code",
   "execution_count": 42,
   "metadata": {},
   "outputs": [
    {
     "data": {
      "text/plain": [
       "(264616, 79482, 37684, 13212, 7256, 2248, 1058, 332, 7320, 2227, 1062, 375)"
      ]
     },
     "execution_count": 42,
     "metadata": {},
     "output_type": "execute_result"
    }
   ],
   "source": [
    "len(peta0_t_positions_1), len(peta0_t_positions_2), len(peta0_t_positions_3), len(peta0_t_positions_4), len(peta0_t_positions_5), len(peta0_t_positions_6), len(peta0_t_positions_7), len(peta0_t_positions_8), len(peta0_t_positions_9), len(peta0_t_positions_10), len(peta0_t_positions_11), len(peta0_t_positions_12)"
   ]
  },
  {
   "cell_type": "code",
   "execution_count": 43,
   "metadata": {},
   "outputs": [
    {
     "data": {
      "text/plain": [
       "416872"
      ]
     },
     "execution_count": 43,
     "metadata": {},
     "output_type": "execute_result"
    }
   ],
   "source": [
    "len(peta0_t_positions_1) + len(peta0_t_positions_2) + len(peta0_t_positions_3) + len(peta0_t_positions_4) + len(peta0_t_positions_5) + len(peta0_t_positions_6) + len(peta0_t_positions_7) + len(peta0_t_positions_8) + len(peta0_t_positions_9) + len(peta0_t_positions_10) + len(peta0_t_positions_11) + len(peta0_t_positions_12)"
   ]
  },
  {
   "cell_type": "code",
   "execution_count": 44,
   "metadata": {},
   "outputs": [
    {
     "data": {
      "text/plain": [
       "559448"
      ]
     },
     "execution_count": 44,
     "metadata": {},
     "output_type": "execute_result"
    }
   ],
   "source": [
    "len(peta0_t)"
   ]
  },
  {
   "cell_type": "code",
   "execution_count": null,
   "metadata": {},
   "outputs": [],
   "source": []
  },
  {
   "cell_type": "code",
   "execution_count": 45,
   "metadata": {
    "scrolled": true
   },
   "outputs": [
    {
     "data": {
      "image/png": "[encoded data removed]",
      "text/plain": [
       "<Figure size 432x288 with 1 Axes>"
      ]
     },
     "metadata": {
      "needs_background": "light"
     },
     "output_type": "display_data"
    }
   ],
   "source": [
    "fig, ax = plt.subplots()\n",
    "data_range = ('$\\eta$ [0, 1], $p_t$[0, 0.5]GeV', '$\\eta$[1, 1.5], $p_t$[0, 0.5]GeV', '$\\eta$[1.5, 2.1], $p_t$[0, 0.5]GeV', '$\\eta$[2.1, 3], $p_t$[0, 0.5]GeV',\n",
    "              '$\\eta$[0, 1], $p_t$[0.5, 1.0]GeV', '$\\eta$[1, 1.5], $p_t$[0.5, 1.0]GeV', '$\\eta$[1.5, 2.1], $p_t$[0.5, 1.0]GeV', '$\\eta$[2.1, 3], $p_t$[0.5, 1.0]GeV', \n",
    "              '$\\eta$[0, 1], $p_t$[1.0, 1000]GeV', '$\\eta$[1, 1.5], $p_t$[1.0, 1000]GeV', '$\\eta$[1.5, 2.1], $p_t$[1.0, 1000]GeV', '$\\eta$[2.1, 3], $p_t$[1.0, 1000]GeV')\n",
    "y_pos = np.arange(len(data_range))\n",
    "height = 0.2\n",
    "\n",
    "num_triplets = [len(peta1_positions_1)+len(peta0_positions_1), len(peta1_positions_2)+len(peta0_positions_2), len(peta1_positions_3)+len(peta0_positions_3), len(peta1_positions_4)+len(peta0_positions_4), len(peta1_positions_5)+len(peta0_positions_5), len(peta1_positions_6)+len(peta0_positions_6), len(peta1_positions_7)+len(peta0_positions_7), len(peta1_positions_8)+len(peta0_positions_8), len(peta1_positions_9)+len(peta0_positions_9), len(peta1_positions_10)+len(peta0_positions_10), len(peta1_positions_11)+len(peta0_positions_11), len(peta1_positions_12)+len(peta0_positions_12)]\n",
    "num_triplets_c = [len(peta1_c_positions_1)+len(peta0_c_positions_1), len(peta1_c_positions_2)+len(peta0_c_positions_2), len(peta1_c_positions_3)+len(peta0_c_positions_3), len(peta1_c_positions_4)+len(peta0_c_positions_4), len(peta1_c_positions_5)+len(peta0_c_positions_5), len(peta1_c_positions_6)+len(peta0_c_positions_6), len(peta1_c_positions_7)+len(peta0_c_positions_7), len(peta1_c_positions_8)+len(peta0_c_positions_8), len(peta1_c_positions_9)+len(peta0_c_positions_9), len(peta1_c_positions_10)+len(peta0_c_positions_10), len(peta1_c_positions_11)+len(peta0_c_positions_11), len(peta1_c_positions_12)+len(peta0_c_positions_12)]\n",
    "num_triplets_t = [len(peta1_t_positions_1)+len(peta0_t_positions_1), len(peta1_t_positions_2)+len(peta0_t_positions_2), len(peta1_t_positions_3)+len(peta0_t_positions_3), len(peta1_t_positions_4)+len(peta0_t_positions_4), len(peta1_t_positions_5)+len(peta0_t_positions_5), len(peta1_t_positions_6)+len(peta0_t_positions_6), len(peta1_t_positions_7)+len(peta0_t_positions_7), len(peta1_t_positions_8)+len(peta0_t_positions_8), len(peta1_t_positions_9)+len(peta0_t_positions_9), len(peta1_t_positions_10)+len(peta0_t_positions_10), len(peta1_t_positions_11)+len(peta0_t_positions_11), len(peta1_t_positions_12)+len(peta0_t_positions_12)]\n",
    "\n",
    "rects1 = ax.barh(y_pos, np.array(num_triplets), height, align='center')\n",
    "rects2 = ax.barh(y_pos + 0.8*height, np.array(num_triplets_c), height, align='center')\n",
    "rects3 = ax.barh(y_pos - 0.8*height, np.array(num_triplets_t), height, align='center')                 \n",
    "\n",
    "ax.set_yticks(y_pos)\n",
    "ax.set_yticklabels(data_range)\n",
    "\n",
    "plt.legend(['spatial', 'cluster', 'combined'])\n",
    "plt.xlabel('number of triplets')\n",
    "plt.xscale('log')\n",
    "plt.title('all triplets for testing')\n",
    "plt.show()"
   ]
  },
  {
   "cell_type": "code",
   "execution_count": 46,
   "metadata": {},
   "outputs": [
    {
     "data": {
      "image/png": "[encoded data removed]",
      "text/plain": [
       "<Figure size 432x288 with 1 Axes>"
      ]
     },
     "metadata": {
      "needs_background": "light"
     },
     "output_type": "display_data"
    }
   ],
   "source": [
    "fig, ax = plt.subplots()\n",
    "data_range = ('$\\eta$ [0, 1], $p_t$[0, 0.5]GeV', '$\\eta$[1, 1.5], $p_t$[0, 0.5]GeV', '$\\eta$[1.5, 2.1], $p_t$[0, 0.5]GeV',\n",
    "              '$\\eta$[0, 1], $p_t$[0.5, 1.0]GeV', '$\\eta$[1, 1.5], $p_t$[0.5, 1.0]GeV', '$\\eta$[1.5, 2.1], $p_t$[0.5, 1.0]GeV', \n",
    "              '$\\eta$[0, 1], $p_t$[1.0, 1000]GeV', '$\\eta$[1, 1.5], $p_t$[1.0, 1000]GeV', '$\\eta$[1.5, 2.1], $p_t$[1.0, 1000]GeV')\n",
    "y_pos = np.arange(len(data_range))\n",
    "height = 0.2\n",
    "\n",
    "num_triplets = [len(peta1_positions_1)+len(peta0_positions_1), len(peta1_positions_2)+len(peta0_positions_2), len(peta1_positions_3)+len(peta0_positions_3), len(peta1_positions_5)+len(peta0_positions_5), len(peta1_positions_6)+len(peta0_positions_6), len(peta1_positions_7)+len(peta0_positions_7), len(peta1_positions_9)+len(peta0_positions_9), len(peta1_positions_10)+len(peta0_positions_10), len(peta1_positions_11)+len(peta0_positions_11)]\n",
    "num_triplets_c = [len(peta1_c_positions_1)+len(peta0_c_positions_1), len(peta1_c_positions_2)+len(peta0_c_positions_2), len(peta1_c_positions_3)+len(peta0_c_positions_3), len(peta1_c_positions_5)+len(peta0_c_positions_5), len(peta1_c_positions_6)+len(peta0_c_positions_6), len(peta1_c_positions_7)+len(peta0_c_positions_7), len(peta1_c_positions_9)+len(peta0_c_positions_9), len(peta1_c_positions_10)+len(peta0_c_positions_10), len(peta1_c_positions_11)+len(peta0_c_positions_11)]\n",
    "num_triplets_t = [len(peta1_t_positions_1)+len(peta0_t_positions_1), len(peta1_t_positions_2)+len(peta0_t_positions_2), len(peta1_t_positions_3)+len(peta0_t_positions_3), len(peta1_t_positions_5)+len(peta0_t_positions_5), len(peta1_t_positions_6)+len(peta0_t_positions_6), len(peta1_t_positions_7)+len(peta0_t_positions_7), len(peta1_t_positions_9)+len(peta0_t_positions_9), len(peta1_t_positions_10)+len(peta0_t_positions_10), len(peta1_t_positions_11)+len(peta0_t_positions_11)]\n",
    "\n",
    "rects1 = ax.barh(y_pos, np.array(num_triplets), height, align='center')\n",
    "rects2 = ax.barh(y_pos + 0.8*height, np.array(num_triplets_c), height, align='center')\n",
    "rects3 = ax.barh(y_pos - 0.8*height, np.array(num_triplets_t), height, align='center')                 \n",
    "\n",
    "ax.set_yticks(y_pos)\n",
    "ax.set_yticklabels(data_range)\n",
    "\n",
    "plt.legend(['spatial', 'cluster', 'combined'])\n",
    "plt.xlabel('number of triplets')\n",
    "plt.xscale('log')\n",
    "plt.title('all triplets for testing')\n",
    "plt.show()\n",
    "fig.savefig('pt eta distribution.pdf', bbox_inches='tight')"
   ]
  },
  {
   "cell_type": "code",
   "execution_count": null,
   "metadata": {},
   "outputs": [],
   "source": []
  },
  {
   "cell_type": "code",
   "execution_count": null,
   "metadata": {},
   "outputs": [],
   "source": []
  },
  {
   "cell_type": "code",
   "execution_count": 47,
   "metadata": {},
   "outputs": [],
   "source": [
    "np.save('peta1_positions_1_.npy', peta1_positions_1)\n",
    "np.save('peta1_positions_2_.npy', peta1_positions_2)\n",
    "np.save('peta1_positions_3_.npy', peta1_positions_3)\n",
    "np.save('peta1_positions_4_.npy', peta1_positions_4)\n",
    "np.save('peta1_positions_5_.npy', peta1_positions_5)\n",
    "np.save('peta1_positions_6_.npy', peta1_positions_6)\n",
    "np.save('peta1_positions_7_.npy', peta1_positions_7)\n",
    "np.save('peta1_positions_8_.npy', peta1_positions_8)\n",
    "np.save('peta1_positions_9_.npy', peta1_positions_9)\n",
    "np.save('peta1_positions_10_.npy', peta1_positions_10)\n",
    "np.save('peta1_positions_11_.npy', peta1_positions_11)\n",
    "np.save('peta1_positions_12_.npy', peta1_positions_12)\n",
    "\n",
    "np.save('peta1_c_positions_1_.npy', peta1_c_positions_1)\n",
    "np.save('peta1_c_positions_2_.npy', peta1_c_positions_2)\n",
    "np.save('peta1_c_positions_3_.npy', peta1_c_positions_3)\n",
    "np.save('peta1_c_positions_4_.npy', peta1_c_positions_4)\n",
    "np.save('peta1_c_positions_5_.npy', peta1_c_positions_5)\n",
    "np.save('peta1_c_positions_6_.npy', peta1_c_positions_6)\n",
    "np.save('peta1_c_positions_7_.npy', peta1_c_positions_7)\n",
    "np.save('peta1_c_positions_8_.npy', peta1_c_positions_8)\n",
    "np.save('peta1_c_positions_9_.npy', peta1_c_positions_9)\n",
    "np.save('peta1_c_positions_10_.npy', peta1_c_positions_10)\n",
    "np.save('peta1_c_positions_11_.npy', peta1_c_positions_11)\n",
    "np.save('peta1_c_positions_12_.npy', peta1_c_positions_12)\n",
    "\n",
    "np.save('peta1_t_positions_1_.npy', peta1_t_positions_1)\n",
    "np.save('peta1_t_positions_2_.npy', peta1_t_positions_2)\n",
    "np.save('peta1_t_positions_3_.npy', peta1_t_positions_3)\n",
    "np.save('peta1_t_positions_4_.npy', peta1_t_positions_4)\n",
    "np.save('peta1_t_positions_5_.npy', peta1_t_positions_5)\n",
    "np.save('peta1_t_positions_6_.npy', peta1_t_positions_6)\n",
    "np.save('peta1_t_positions_7_.npy', peta1_t_positions_7)\n",
    "np.save('peta1_t_positions_8_.npy', peta1_t_positions_8)\n",
    "np.save('peta1_t_positions_9_.npy', peta1_t_positions_9)\n",
    "np.save('peta1_t_positions_10_.npy', peta1_t_positions_10)\n",
    "np.save('peta1_t_positions_11_.npy', peta1_t_positions_11)\n",
    "np.save('peta1_t_positions_12_.npy', peta1_t_positions_12)"
   ]
  },
  {
   "cell_type": "code",
   "execution_count": 48,
   "metadata": {},
   "outputs": [],
   "source": [
    "np.save('peta0_positions_1_.npy', peta0_positions_1)\n",
    "np.save('peta0_positions_2_.npy', peta0_positions_2)\n",
    "np.save('peta0_positions_3_.npy', peta0_positions_3)\n",
    "np.save('peta0_positions_4_.npy', peta0_positions_4)\n",
    "np.save('peta0_positions_5_.npy', peta0_positions_5)\n",
    "np.save('peta0_positions_6_.npy', peta0_positions_6)\n",
    "np.save('peta0_positions_7_.npy', peta0_positions_7)\n",
    "np.save('peta0_positions_8_.npy', peta0_positions_8)\n",
    "np.save('peta0_positions_9_.npy', peta0_positions_9)\n",
    "np.save('peta0_positions_10_.npy', peta0_positions_10)\n",
    "np.save('peta0_positions_11_.npy', peta0_positions_11)\n",
    "np.save('peta0_positions_12_.npy', peta0_positions_12)\n",
    "\n",
    "np.save('peta0_c_positions_1_.npy', peta0_c_positions_1)\n",
    "np.save('peta0_c_positions_2_.npy', peta0_c_positions_2)\n",
    "np.save('peta0_c_positions_3_.npy', peta0_c_positions_3)\n",
    "np.save('peta0_c_positions_4_.npy', peta0_c_positions_4)\n",
    "np.save('peta0_c_positions_5_.npy', peta0_c_positions_5)\n",
    "np.save('peta0_c_positions_6_.npy', peta0_c_positions_6)\n",
    "np.save('peta0_c_positions_7_.npy', peta0_c_positions_7)\n",
    "np.save('peta0_c_positions_8_.npy', peta0_c_positions_8)\n",
    "np.save('peta0_c_positions_9_.npy', peta0_c_positions_9)\n",
    "np.save('peta0_c_positions_10_.npy', peta0_c_positions_10)\n",
    "np.save('peta0_c_positions_11_.npy', peta0_c_positions_11)\n",
    "np.save('peta0_c_positions_12_.npy', peta0_c_positions_12)\n",
    "\n",
    "np.save('peta0_t_positions_1_.npy', peta0_t_positions_1)\n",
    "np.save('peta0_t_positions_2_.npy', peta0_t_positions_2)\n",
    "np.save('peta0_t_positions_3_.npy', peta0_t_positions_3)\n",
    "np.save('peta0_t_positions_4_.npy', peta0_t_positions_4)\n",
    "np.save('peta0_t_positions_5_.npy', peta0_t_positions_5)\n",
    "np.save('peta0_t_positions_6_.npy', peta0_t_positions_6)\n",
    "np.save('peta0_t_positions_7_.npy', peta0_t_positions_7)\n",
    "np.save('peta0_t_positions_8_.npy', peta0_t_positions_8)\n",
    "np.save('peta0_t_positions_9_.npy', peta0_t_positions_9)\n",
    "np.save('peta0_t_positions_10_.npy', peta0_t_positions_10)\n",
    "np.save('peta0_t_positions_11_.npy', peta0_t_positions_11)\n",
    "np.save('peta0_t_positions_12_.npy', peta0_t_positions_12)"
   ]
  },
  {
   "cell_type": "code",
   "execution_count": null,
   "metadata": {},
   "outputs": [],
   "source": []
  },
  {
   "cell_type": "code",
   "execution_count": null,
   "metadata": {},
   "outputs": [],
   "source": []
  },
  {
   "cell_type": "code",
   "execution_count": 49,
   "metadata": {},
   "outputs": [
    {
     "data": {
      "text/plain": [
       "5020738"
      ]
     },
     "execution_count": 49,
     "metadata": {},
     "output_type": "execute_result"
    }
   ],
   "source": [
    "len(Y1)"
   ]
  },
  {
   "cell_type": "code",
   "execution_count": 50,
   "metadata": {},
   "outputs": [
    {
     "name": "stderr",
     "output_type": "stream",
     "text": [
      "/home/jsqason/.local/lib/python3.5/site-packages/ipykernel_launcher.py:20: RuntimeWarning: invalid value encountered in arccos\n"
     ]
    }
   ],
   "source": [
    "pt1_before_filter, eta1_before_filter = [], []\n",
    "for i, j, k in zip(X1, Y1, Z1):\n",
    "    eta, pt = eta_transversemomentum_calculation(i, j, k)\n",
    "    eta1_before_filter.append(eta)\n",
    "    pt1_before_filter.append(pt)"
   ]
  },
  {
   "cell_type": "code",
   "execution_count": 51,
   "metadata": {},
   "outputs": [],
   "source": [
    "np.save('pt1_before_filter_.npy', pt1_before_filter)\n",
    "np.save('eta1_before_filter_.npy', eta1_before_filter)"
   ]
  },
  {
   "cell_type": "code",
   "execution_count": 52,
   "metadata": {},
   "outputs": [],
   "source": [
    "peta1_before_filter = np.c_[pt1_before_filter, eta1_before_filter]"
   ]
  },
  {
   "cell_type": "code",
   "execution_count": 53,
   "metadata": {},
   "outputs": [],
   "source": [
    "peta1_before_filter_positions_1 = data_decompress(peta1_before_filter, 0, 1, 0, 0.5) \n",
    "peta1_before_filter_positions_2 = data_decompress(peta1_before_filter, 1, 1.5, 0, 0.5)\n",
    "peta1_before_filter_positions_3 = data_decompress(peta1_before_filter, 1.5, 2.1, 0, 0.5)\n",
    "peta1_before_filter_positions_4 = data_decompress(peta1_before_filter, 2.1, 3, 0, 0.5)\n",
    "peta1_before_filter_positions_5 = data_decompress(peta1_before_filter, 0, 1, 0.5, 1.0)\n",
    "peta1_before_filter_positions_6 = data_decompress(peta1_before_filter, 1, 1.5, 0.5, 1.0)\n",
    "peta1_before_filter_positions_7 = data_decompress(peta1_before_filter, 1.5, 2.1, 0.5, 1.0)\n",
    "peta1_before_filter_positions_8 = data_decompress(peta1_before_filter, 2.1, 3, 0.5, 1.0)\n",
    "peta1_before_filter_positions_9 = data_decompress(peta1_before_filter, 0, 1, 1, 1000)\n",
    "peta1_before_filter_positions_10 = data_decompress(peta1_before_filter, 1, 1.5, 1, 1000)\n",
    "peta1_before_filter_positions_11 = data_decompress(peta1_before_filter, 1.5, 2.1, 1, 1000)\n",
    "peta1_before_filter_positions_12 = data_decompress(peta1_before_filter, 2.1, 3, 1, 1000)\n"
   ]
  },
  {
   "cell_type": "code",
   "execution_count": 54,
   "metadata": {},
   "outputs": [],
   "source": [
    "np.save('peta1_before_filter_positions_1_.npy', peta1_before_filter_positions_1)\n",
    "np.save('peta1_before_filter_positions_2_.npy', peta1_before_filter_positions_2)\n",
    "np.save('peta1_before_filter_positions_3_.npy', peta1_before_filter_positions_3)\n",
    "np.save('peta1_before_filter_positions_4_.npy', peta1_before_filter_positions_4)\n",
    "np.save('peta1_before_filter_positions_5_.npy', peta1_before_filter_positions_5)\n",
    "np.save('peta1_before_filter_positions_6_.npy', peta1_before_filter_positions_6)\n",
    "np.save('peta1_before_filter_positions_7_.npy', peta1_before_filter_positions_7)\n",
    "np.save('peta1_before_filter_positions_8_.npy', peta1_before_filter_positions_8)\n",
    "np.save('peta1_before_filter_positions_9_.npy', peta1_before_filter_positions_9)\n",
    "np.save('peta1_before_filter_positions_10_.npy', peta1_before_filter_positions_10)\n",
    "np.save('peta1_before_filter_positions_11_.npy', peta1_before_filter_positions_11)\n",
    "np.save('peta1_before_filter_positions_12_.npy', peta1_before_filter_positions_12)"
   ]
  },
  {
   "cell_type": "code",
   "execution_count": 55,
   "metadata": {},
   "outputs": [],
   "source": [
    "peta1_positions = [peta1_positions_1, peta1_positions_2, peta1_positions_3, peta1_positions_4, peta1_positions_5, peta1_positions_6, peta1_positions_7, peta1_positions_8, peta1_positions_9, peta1_positions_10, peta1_positions_11, peta1_positions_12]\n",
    "peta1_c_positions = [peta1_c_positions_1, peta1_c_positions_2, peta1_c_positions_3, peta1_c_positions_4, peta1_c_positions_5, peta1_c_positions_6, peta1_c_positions_7, peta1_c_positions_8, peta1_c_positions_9, peta1_c_positions_10, peta1_c_positions_11, peta1_c_positions_12]\n",
    "peta1_t_positions = [peta1_t_positions_1, peta1_t_positions_2, peta1_t_positions_3, peta1_t_positions_4, peta1_t_positions_5, peta1_t_positions_6, peta1_t_positions_7, peta1_t_positions_8, peta1_t_positions_9, peta1_t_positions_10, peta1_t_positions_11, peta1_t_positions_12]\n",
    "\n",
    "peta1_before_filter_positions = [peta1_before_filter_positions_1, peta1_before_filter_positions_2, peta1_before_filter_positions_3, peta1_before_filter_positions_4, peta1_before_filter_positions_5, peta1_before_filter_positions_6, peta1_before_filter_positions_7, peta1_before_filter_positions_8, peta1_before_filter_positions_9, peta1_before_filter_positions_10, peta1_before_filter_positions_11, peta1_before_filter_positions_12]\n",
    "\n"
   ]
  },
  {
   "cell_type": "code",
   "execution_count": 56,
   "metadata": {},
   "outputs": [
    {
     "data": {
      "text/plain": [
       "(26169, 27238)"
      ]
     },
     "execution_count": 56,
     "metadata": {},
     "output_type": "execute_result"
    }
   ],
   "source": [
    "len(peta1_positions_4), len(peta1_before_filter_positions_4)"
   ]
  },
  {
   "cell_type": "code",
   "execution_count": 57,
   "metadata": {},
   "outputs": [],
   "source": [
    "efffs = np.array([len(i)/len(j) for i, j in zip (peta1_positions, peta1_before_filter_positions)])\n",
    "efffs_c = np.array([len(i)/len(j) for i, j in zip (peta1_c_positions, peta1_before_filter_positions)])\n",
    "efffs_t = np.array([len(i)/len(j) for i, j in zip (peta1_t_positions, peta1_before_filter_positions)])\n"
   ]
  },
  {
   "cell_type": "code",
   "execution_count": 58,
   "metadata": {},
   "outputs": [],
   "source": [
    "np.save('efficiency_cuts_doublet_1_.npy', efffs)\n",
    "np.save('efficiency_cuts_doublet_c1_.npy', efffs_c)\n",
    "np.save('efficiency_cuts_doublet_total1_.npy', efffs_t)"
   ]
  },
  {
   "cell_type": "code",
   "execution_count": 59,
   "metadata": {},
   "outputs": [],
   "source": [
    "efffs = np.load('efficiency_cuts_doublet_1_.npy')\n",
    "efffs_c = np.load('efficiency_cuts_doublet_c1_.npy')\n",
    "efffs_t = np.load('efficiency_cuts_doublet_total1_.npy')"
   ]
  },
  {
   "cell_type": "code",
   "execution_count": 60,
   "metadata": {},
   "outputs": [
    {
     "data": {
      "text/plain": [
       "array([0.98482307, 0.98060099, 0.96769211, 0.96075336, 0.9994559 ,\n",
       "       0.99875605, 0.99818268, 0.99820667, 0.99979733, 0.99980768,\n",
       "       0.99961428, 0.9992729 ])"
      ]
     },
     "execution_count": 60,
     "metadata": {},
     "output_type": "execute_result"
    }
   ],
   "source": [
    "#efficiency cuts after doublet NN, position method, in the order of increasing pt&eta \n",
    "efffs"
   ]
  },
  {
   "cell_type": "code",
   "execution_count": 61,
   "metadata": {},
   "outputs": [
    {
     "data": {
      "text/plain": [
       "array([0.99768998, 0.99368458, 0.98685561, 0.9874073 , 0.99853076,\n",
       "       0.99579408, 0.99050579, 0.99128069, 0.99852367, 0.99505942,\n",
       "       0.98977853, 0.99115366])"
      ]
     },
     "execution_count": 61,
     "metadata": {},
     "output_type": "execute_result"
    }
   ],
   "source": [
    "#efficiency cuts after doublet NN, cluster method, in the order of increasing pt&eta \n",
    "efffs_c"
   ]
  },
  {
   "cell_type": "code",
   "execution_count": 62,
   "metadata": {},
   "outputs": [
    {
     "data": {
      "text/plain": [
       "array([0.98079404, 0.98675138, 0.9823911 , 0.98215728, 0.99855598,\n",
       "       0.99818219, 0.99638235, 0.99585678, 0.99927337, 0.99854104,\n",
       "       0.99694642, 0.99551624])"
      ]
     },
     "execution_count": 62,
     "metadata": {},
     "output_type": "execute_result"
    }
   ],
   "source": [
    "#efficiency cuts after doublet NN, combined method, in the order of increasing pt&eta \n",
    "efffs_t"
   ]
  },
  {
   "cell_type": "code",
   "execution_count": 63,
   "metadata": {},
   "outputs": [
    {
     "data": {
      "image/png": "[encoded data removed]",
      "text/plain": [
       "<Figure size 432x288 with 1 Axes>"
      ]
     },
     "metadata": {
      "needs_background": "light"
     },
     "output_type": "display_data"
    }
   ],
   "source": [
    "fig, ax = plt.subplots()\n",
    "data_range = ('$\\eta$ [0, 1], $p_t$[0, 0.5]GeV', '$\\eta$[1, 1.5], $p_t$[0, 0.5]GeV', '$\\eta$[1.5, 2.1], $p_t$[0, 0.5]GeV', '$\\eta$[2.1, 3], $p_t$[0, 0.5]GeV',\n",
    "              '$\\eta$[0, 1], $p_t$[0.5, 1.0]GeV', '$\\eta$[1, 1.5], $p_t$[0.5, 1.0]GeV', '$\\eta$[1.5, 2.1], $p_t$[0.5, 1.0]GeV', '$\\eta$[2.1, 3], $p_t$[0.5, 1.0]GeV', \n",
    "              '$\\eta$[0, 1], $p_t$[1.0, 1000]GeV', '$\\eta$[1, 1.5], $p_t$[1.0, 1000]GeV', '$\\eta$[1.5, 2.1], $p_t$[1.0, 1000]GeV', '$\\eta$[2.1, 3], $p_t$[1.0, 1000]GeV')\n",
    "y_pos = np.arange(len(data_range))\n",
    "height = 0.2\n",
    "\n",
    "rects1 = ax.barh(y_pos, np.array(efffs), height, align='center')\n",
    "rects2 = ax.barh(y_pos + 0.9*height, np.array(efffs_c), height, align='center')\n",
    "rects3 = ax.barh(y_pos - 0.9*height, np.array(efffs_t), height, align='center')                 \n",
    "\n",
    "ax.set_yticks(y_pos)\n",
    "ax.set_yticklabels(data_range)\n",
    "\n",
    "plt.legend(['location', 'cluster', 'combined'])\n",
    "plt.xlabel('efficiency cuts from doublet NN')\n",
    "plt.xlim([0.8, 1])\n",
    "plt.title('efficiency cuts distribution')\n",
    "plt.show()"
   ]
  },
  {
   "cell_type": "code",
   "execution_count": null,
   "metadata": {},
   "outputs": [],
   "source": []
  },
  {
   "cell_type": "code",
   "execution_count": 64,
   "metadata": {},
   "outputs": [],
   "source": [
    "peta1_positions_1 = np.load('peta1_positions_1_.npy')\n",
    "peta1_positions_2 = np.load('peta1_positions_2_.npy')\n",
    "peta1_positions_3 = np.load('peta1_positions_3_.npy')\n",
    "peta1_positions_4 = np.load('peta1_positions_4_.npy')\n",
    "peta1_positions_5 = np.load('peta1_positions_5_.npy')\n",
    "peta1_positions_6 = np.load('peta1_positions_6_.npy')\n",
    "peta1_positions_7 = np.load('peta1_positions_7_.npy')\n",
    "peta1_positions_8 = np.load('peta1_positions_8_.npy')\n",
    "peta1_positions_9 = np.load('peta1_positions_9_.npy')\n",
    "peta1_positions_10 = np.load('peta1_positions_10_.npy')\n",
    "peta1_positions_11 = np.load('peta1_positions_11_.npy')\n",
    "peta1_positions_12 = np.load('peta1_positions_12_.npy')\n",
    "\n",
    "peta1_c_positions_1 = np.load('peta1_c_positions_1_.npy')\n",
    "peta1_c_positions_2 = np.load('peta1_c_positions_2_.npy')\n",
    "peta1_c_positions_3 = np.load('peta1_c_positions_3_.npy')\n",
    "peta1_c_positions_4 = np.load('peta1_c_positions_4_.npy')\n",
    "peta1_c_positions_5 = np.load('peta1_c_positions_5_.npy')\n",
    "peta1_c_positions_6 = np.load('peta1_c_positions_6_.npy')\n",
    "peta1_c_positions_7 = np.load('peta1_c_positions_7_.npy')\n",
    "peta1_c_positions_8 = np.load('peta1_c_positions_8_.npy')\n",
    "peta1_c_positions_9 = np.load('peta1_c_positions_9_.npy')\n",
    "peta1_c_positions_10 = np.load('peta1_c_positions_10_.npy')\n",
    "peta1_c_positions_11 = np.load('peta1_c_positions_11_.npy')\n",
    "peta1_c_positions_12 = np.load('peta1_c_positions_12_.npy')\n",
    "\n",
    "peta1_t_positions_1 = np.load('peta1_t_positions_1_.npy')\n",
    "peta1_t_positions_2 = np.load('peta1_t_positions_2_.npy')\n",
    "peta1_t_positions_3 = np.load('peta1_t_positions_3_.npy')\n",
    "peta1_t_positions_4 = np.load('peta1_t_positions_4_.npy')\n",
    "peta1_t_positions_5 = np.load('peta1_t_positions_5_.npy')\n",
    "peta1_t_positions_6 = np.load('peta1_t_positions_6_.npy')\n",
    "peta1_t_positions_7 = np.load('peta1_t_positions_7_.npy')\n",
    "peta1_t_positions_8 = np.load('peta1_t_positions_8_.npy')\n",
    "peta1_t_positions_9 = np.load('peta1_t_positions_9_.npy')\n",
    "peta1_t_positions_10 = np.load('peta1_t_positions_10_.npy')\n",
    "peta1_t_positions_11 = np.load('peta1_t_positions_11_.npy')\n",
    "peta1_t_positions_12 = np.load('peta1_t_positions_12_.npy')"
   ]
  },
  {
   "cell_type": "code",
   "execution_count": 65,
   "metadata": {},
   "outputs": [],
   "source": [
    "peta0_positions_1 = np.load('peta0_positions_1_.npy')\n",
    "peta0_positions_2 = np.load('peta0_positions_2_.npy')\n",
    "peta0_positions_3 = np.load('peta0_positions_3_.npy')\n",
    "peta0_positions_4 = np.load('peta0_positions_4_.npy')\n",
    "peta0_positions_5 = np.load('peta0_positions_5_.npy')\n",
    "peta0_positions_6 = np.load('peta0_positions_6_.npy')\n",
    "peta0_positions_7 = np.load('peta0_positions_7_.npy')\n",
    "peta0_positions_8 = np.load('peta0_positions_8_.npy')\n",
    "peta0_positions_9 = np.load('peta0_positions_9_.npy')\n",
    "peta0_positions_10 = np.load('peta0_positions_10_.npy')\n",
    "peta0_positions_11 = np.load('peta0_positions_11_.npy')\n",
    "peta0_positions_12 = np.load('peta0_positions_12_.npy')\n",
    "\n",
    "peta0_c_positions_1 = np.load('peta0_c_positions_1_.npy')\n",
    "peta0_c_positions_2 = np.load('peta0_c_positions_2_.npy')\n",
    "peta0_c_positions_3 = np.load('peta0_c_positions_3_.npy')\n",
    "peta0_c_positions_4 = np.load('peta0_c_positions_4_.npy')\n",
    "peta0_c_positions_5 = np.load('peta0_c_positions_5_.npy')\n",
    "peta0_c_positions_6 = np.load('peta0_c_positions_6_.npy')\n",
    "peta0_c_positions_7 = np.load('peta0_c_positions_7_.npy')\n",
    "peta0_c_positions_8 = np.load('peta0_c_positions_8_.npy')\n",
    "peta0_c_positions_9 = np.load('peta0_c_positions_9_.npy')\n",
    "peta0_c_positions_10 = np.load('peta0_c_positions_10_.npy')\n",
    "peta0_c_positions_11 = np.load('peta0_c_positions_11_.npy')\n",
    "peta0_c_positions_12 = np.load('peta0_c_positions_12_.npy')\n",
    "\n",
    "peta0_t_positions_1 = np.load('peta0_t_positions_1_.npy')\n",
    "peta0_t_positions_2 = np.load('peta0_t_positions_2_.npy')\n",
    "peta0_t_positions_3 = np.load('peta0_t_positions_3_.npy')\n",
    "peta0_t_positions_4 = np.load('peta0_t_positions_4_.npy')\n",
    "peta0_t_positions_5 = np.load('peta0_t_positions_5_.npy')\n",
    "peta0_t_positions_6 = np.load('peta0_t_positions_6_.npy')\n",
    "peta0_t_positions_7 = np.load('peta0_t_positions_7_.npy')\n",
    "peta0_t_positions_8 = np.load('peta0_t_positions_8_.npy')\n",
    "peta0_t_positions_9 = np.load('peta0_t_positions_9_.npy')\n",
    "peta0_t_positions_10 = np.load('peta0_t_positions_10_.npy')\n",
    "peta0_t_positions_11 = np.load('peta0_t_positions_11_.npy')\n",
    "peta0_t_positions_12 = np.load('peta0_t_positions_12_.npy')"
   ]
  },
  {
   "cell_type": "code",
   "execution_count": 66,
   "metadata": {},
   "outputs": [],
   "source": [
    "peta1_before_filter_positions_1 = np.load('peta1_before_filter_positions_1_.npy')\n",
    "peta1_before_filter_positions_2 = np.load('peta1_before_filter_positions_2_.npy')\n",
    "peta1_before_filter_positions_3 = np.load('peta1_before_filter_positions_3_.npy')\n",
    "peta1_before_filter_positions_4 = np.load('peta1_before_filter_positions_4_.npy')\n",
    "peta1_before_filter_positions_5 = np.load('peta1_before_filter_positions_5_.npy')\n",
    "peta1_before_filter_positions_6 = np.load('peta1_before_filter_positions_6_.npy')\n",
    "peta1_before_filter_positions_7 = np.load('peta1_before_filter_positions_7_.npy')\n",
    "peta1_before_filter_positions_8 = np.load('peta1_before_filter_positions_8_.npy')\n",
    "peta1_before_filter_positions_9 = np.load('peta1_before_filter_positions_9_.npy')\n",
    "peta1_before_filter_positions_10 = np.load('peta1_before_filter_positions_10_.npy')\n",
    "peta1_before_filter_positions_11 = np.load('peta1_before_filter_positions_11_.npy')\n",
    "peta1_before_filter_positions_12 = np.load('peta1_before_filter_positions_12_.npy')\n"
   ]
  },
  {
   "cell_type": "code",
   "execution_count": null,
   "metadata": {},
   "outputs": [],
   "source": []
  },
  {
   "cell_type": "code",
   "execution_count": 25,
   "metadata": {},
   "outputs": [],
   "source": [
    "peta1_purities = np.load('peta1_purities_.npy')\n",
    "peta2_purities = np.load('peta2_purities_.npy')\n",
    "peta3_purities = np.load('peta3_purities_.npy')\n",
    "peta5_purities = np.load('peta5_purities_.npy')\n",
    "peta6_purities = np.load('peta6_purities_.npy')\n",
    "peta7_purities = np.load('peta7_purities_.npy')\n",
    "peta9_purities = np.load('peta9_purities_.npy')\n",
    "peta10_purities = np.load('peta10_purities_.npy')\n",
    "peta11_purities = np.load('peta11_purities_.npy')\n",
    "\n",
    "purities = np.array([peta1_purities[0], peta2_purities[0], peta3_purities[0], peta5_purities[0], peta6_purities[0], peta7_purities[0], peta9_purities[0], peta10_purities[0], peta11_purities[0]])\n",
    "purities_c = np.array([peta1_purities[1], peta2_purities[1], peta3_purities[1], peta5_purities[1], peta6_purities[1], peta7_purities[1], peta9_purities[1], peta10_purities[1], peta11_purities[1]])\n",
    "purities_t = np.array([peta1_purities[2], peta2_purities[2], peta3_purities[2], peta5_purities[2], peta6_purities[2], peta7_purities[2], peta9_purities[2], peta10_purities[2], peta11_purities[2]]) \n",
    "\n"
   ]
  },
  {
   "cell_type": "code",
   "execution_count": 26,
   "metadata": {},
   "outputs": [],
   "source": [
    "peta1_purities_uncertainty = np.load('peta1_purities_uncertainty_.npy')\n",
    "peta2_purities_uncertainty = np.load('peta2_purities_uncertainty_.npy')\n",
    "peta3_purities_uncertainty = np.load('peta3_purities_uncertainty_.npy')\n",
    "peta5_purities_uncertainty = np.load('peta5_purities_uncertainty_.npy')\n",
    "peta6_purities_uncertainty = np.load('peta6_purities_uncertainty_.npy')\n",
    "peta7_purities_uncertainty = np.load('peta7_purities_uncertainty_.npy')\n",
    "peta9_purities_uncertainty = np.load('peta9_purities_uncertainty_.npy')\n",
    "peta10_purities_uncertainty = np.load('peta10_purities_uncertainty_.npy')\n",
    "peta11_purities_uncertainty = np.load('peta11_purities_uncertainty_.npy')\n",
    "\n",
    "purities_uncertainty_ = np.array([peta1_purities_uncertainty[0], peta2_purities_uncertainty[0], peta3_purities_uncertainty[0], peta5_purities_uncertainty[0], peta6_purities_uncertainty[0], peta7_purities_uncertainty[0], peta9_purities_uncertainty[0], peta10_purities_uncertainty[0], peta11_purities_uncertainty[0]])\n",
    "purities_c_uncertainty_ = np.array([peta1_purities_uncertainty[1], peta2_purities_uncertainty[1], peta3_purities_uncertainty[1], peta5_purities_uncertainty[1], peta6_purities_uncertainty[1], peta7_purities_uncertainty[1], peta9_purities_uncertainty[1], peta10_purities_uncertainty[1], peta11_purities_uncertainty[1]])\n",
    "purities_t_uncertainty_ = np.array([peta1_purities_uncertainty[2], peta2_purities_uncertainty[2], peta3_purities_uncertainty[2], peta5_purities_uncertainty[2], peta6_purities_uncertainty[2], peta7_purities_uncertainty[2], peta9_purities_uncertainty[2], peta10_purities_uncertainty[2], peta11_purities_uncertainty[2]]) \n",
    "\n"
   ]
  },
  {
   "cell_type": "code",
   "execution_count": 27,
   "metadata": {},
   "outputs": [
    {
     "data": {
      "text/plain": [
       "array([[1.81410753e-02, 2.23281258e-02],\n",
       "       [3.07948866e-07, 3.08474392e-07],\n",
       "       [5.34022049e-02, 7.41218167e-02]])"
      ]
     },
     "execution_count": 27,
     "metadata": {},
     "output_type": "execute_result"
    }
   ],
   "source": [
    "peta1_purities_uncertainty"
   ]
  },
  {
   "cell_type": "code",
   "execution_count": 28,
   "metadata": {},
   "outputs": [
    {
     "data": {
      "text/plain": [
       "array([[1.06348721e-02, 1.43660582e-02],\n",
       "       [4.90551198e-07, 4.92282430e-07],\n",
       "       [3.66687618e-02, 6.60741975e-02]])"
      ]
     },
     "execution_count": 28,
     "metadata": {},
     "output_type": "execute_result"
    }
   ],
   "source": [
    "peta2_purities_uncertainty"
   ]
  },
  {
   "cell_type": "code",
   "execution_count": 29,
   "metadata": {},
   "outputs": [
    {
     "data": {
      "text/plain": [
       "array([[1.81410753e-02, 2.23281258e-02],\n",
       "       [1.06348721e-02, 1.43660582e-02],\n",
       "       [1.55420506e-06, 1.56979646e-06],\n",
       "       [1.62370820e-01, 3.67705343e-01],\n",
       "       [1.28210630e-01, 2.27662788e-01],\n",
       "       [5.15498118e-01, 1.00487343e+00],\n",
       "       [8.31933770e-02, 1.74981718e-01],\n",
       "       [5.36960775e-01, 1.00280107e+00],\n",
       "       [1.60637032e-02, 3.17946450e-02]])"
      ]
     },
     "execution_count": 29,
     "metadata": {},
     "output_type": "execute_result"
    }
   ],
   "source": [
    "purities_uncertainty_"
   ]
  },
  {
   "cell_type": "code",
   "execution_count": 30,
   "metadata": {},
   "outputs": [],
   "source": [
    "purities_uncertainty = np.array([i[1] - i[0] for i in purities_uncertainty_])\n",
    "purities_c_uncertainty = np.array([i[1] - i[0] for i in purities_c_uncertainty_])\n",
    "purities_t_uncertainty = np.array([i[1] - i[0] for i in purities_t_uncertainty_])\n"
   ]
  },
  {
   "cell_type": "code",
   "execution_count": 33,
   "metadata": {
    "scrolled": true
   },
   "outputs": [
    {
     "data": {
      "image/png": "[encoded data removed]",
      "text/plain": [
       "<Figure size 432x288 with 1 Axes>"
      ]
     },
     "metadata": {
      "needs_background": "light"
     },
     "output_type": "display_data"
    }
   ],
   "source": [
    "fig, ax = plt.subplots()\n",
    "data_range = ('$\\eta$ [0, 1], $p_t$[0, 0.5]GeV', '$\\eta$[1, 1.5], $p_t$[0, 0.5]GeV', '$\\eta$[1.5, 2.1], $p_t$[0, 0.5]GeV', \n",
    "              '$\\eta$[0, 1], $p_t$[0.5, 1.0]GeV', '$\\eta$[1, 1.5], $p_t$[0.5, 1.0]GeV', '$\\eta$[1.5, 2.1], $p_t$[0.5, 1.0]GeV',\n",
    "              '$\\eta$[0, 1], $p_t$[1.0, 1000]GeV', '$\\eta$[1, 1.5], $p_t$[1.0, 1000]GeV', '$\\eta$[1.5, 2.1], $p_t$[1.0, 1000]GeV')\n",
    "y_pos = np.arange(len(data_range))\n",
    "height = 0.2\n",
    "\n",
    "rects1 = ax.barh(y_pos, np.array(purities), height, align='center')\n",
    "rects2 = ax.barh(y_pos + 0.9*height, np.array(purities_c), height, align='center')\n",
    "rects3 = ax.barh(y_pos - 0.9*height, np.array(purities_t), height, align='center') \n",
    "rects1_ = ax.barh(y_pos, np.array(purities_uncertainty), height, align='center', left = np.array(purities_uncertainty_[:, 0]), color = 'C7', hatch = '////////')\n",
    "rects2_ = ax.barh(y_pos + 0.9*height, np.array(purities_c_uncertainty), height, align='center', left = np.array(purities_c_uncertainty_[:, 0]), color = 'C7', hatch = '////////')\n",
    "rects3_ = ax.barh(y_pos - 0.9*height, np.array(purities_t_uncertainty), height, align='center', left = np.array(purities_t_uncertainty_[:, 0]), color = 'C7', hatch = '////////')\n",
    "\n",
    "\n",
    "ax.set_yticks(y_pos)\n",
    "ax.set_yticklabels(data_range)\n",
    "\n",
    "plt.xlabel('purity at 97% efficiency')\n",
    "plt.legend(['spatial', 'cluster', 'combined', 'uncertainty'], loc = 'upper center')\n",
    "plt.xscale('log')\n",
    "plt.xlim([0.0000001, 1.3])\n",
    "\n",
    "plt.title('purities distribution')\n",
    "\n",
    "plt.show()\n",
    "fig.savefig('purity distribution.pdf', bbox_inches='tight')"
   ]
  }
 ],
 "metadata": {
  "kernelspec": {
   "display_name": "Python 3",
   "language": "python",
   "name": "python3"
  },
  "language_info": {
   "codemirror_mode": {
    "name": "ipython",
    "version": 3
   },
   "file_extension": ".py",
   "mimetype": "text/x-python",
   "name": "python",
   "nbconvert_exporter": "python",
   "pygments_lexer": "ipython3",
   "version": "3.5.2"
  }
 },
 "nbformat": 4,
 "nbformat_minor": 2
}
