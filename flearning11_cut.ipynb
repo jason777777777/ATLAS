{
 "cells": [
  {
   "cell_type": "code",
   "execution_count": 1,
   "metadata": {},
   "outputs": [
    {
     "name": "stderr",
     "output_type": "stream",
     "text": [
      "Using TensorFlow backend.\n"
     ]
    }
   ],
   "source": [
    "from keras.models import Sequential\n",
    "from keras.models import load_model\n",
    "from keras.layers import Dense, Activation\n",
    "from keras.callbacks import EarlyStopping\n",
    "from keras import optimizers\n",
    "import numpy as np\n",
    "import matplotlib.pyplot as plt\n",
    "import pandas as pd\n",
    "import scipy as sp\n",
    "import numpy as np\n",
    "import matplotlib.pyplot as plt\n",
    "from mpl_toolkits.mplot3d import Axes3D\n",
    "from sklearn.metrics import roc_curve, precision_recall_curve "
   ]
  },
  {
   "cell_type": "code",
   "execution_count": 2,
   "metadata": {},
   "outputs": [],
   "source": [
    "# Seed value\n",
    "# Apparently you may use different seed values at each stage\n",
    "seed_value= 7\n",
    "\n",
    "# 1. Set the `PYTHONHASHSEED` environment variable at a fixed value\n",
    "import os\n",
    "os.environ['PYTHONHASHSEED']=str(seed_value)\n",
    "\n",
    "# 2. Set the `python` built-in pseudo-random generator at a fixed value\n",
    "import random\n",
    "random.seed(seed_value)\n",
    "\n",
    "# 3. Set the `numpy` pseudo-random generator at a fixed value\n",
    "import numpy as np\n",
    "np.random.seed(seed_value)\n",
    "\n",
    "# 4. Set the `tensorflow` pseudo-random generator at a fixed value\n",
    "import tensorflow as tf\n",
    "tf.compat.v1.set_random_seed(seed_value)\n",
    "\n",
    "# 5. Configure a new global `tensorflow` session\n",
    "session_conf = tf.compat.v1.ConfigProto(intra_op_parallelism_threads=1, inter_op_parallelism_threads=1)\n",
    "sess = tf.compat.v1.Session(graph=tf.compat.v1.get_default_graph(), config=session_conf)\n",
    "tf.compat.v1.keras.backend.set_session(sess)"
   ]
  },
  {
   "cell_type": "markdown",
   "metadata": {},
   "source": [
    "c1 = np.load('f_ideal_ch1_number_1.npy')\n",
    "c1_0 = np.load('f_all_ch1_number.npy')\n",
    "\n",
    "s1 = np.load('f_ideal_z_number_1.npy')\n",
    "s1_0 = np.load('f_all_z_number.npy')\n",
    "\n",
    "c2 = np.load('f_ideal_ch1_number_2.npy')\n",
    "s2 = np.load('f_ideal_z_number_2.npy')\n",
    "\n",
    "c3 = np.load('f_ideal_ch1_number_3.npy')\n",
    "s3 = np.load('f_ideal_z_number_3.npy')\n",
    "\n",
    "CH11 = np.concatenate((c1, c2,  c3))\n",
    "CH10 = np.copy(c1_0)\n",
    "\n",
    "z1 = np.concatenate((s1, s2, s3))\n",
    "z0 = np.copy(s1_0)\n",
    "\n",
    "\n",
    "a1 = np.load('f_ideal_x_number_1.npy')\n",
    "a1_0 = np.load('f_all_x_number.npy')\n",
    "b1 = np.load('f_ideal_y_number_1.npy')\n",
    "b1_0 = np.load('f_all_y_number.npy')\n",
    "\n",
    "a2 = np.load('f_ideal_x_number_2.npy')\n",
    "b2 = np.load('f_ideal_y_number_2.npy')\n",
    "\n",
    "a3 = np.load('f_ideal_x_number_3.npy')\n",
    "b3 = np.load('f_ideal_y_number_3.npy')\n",
    "\n",
    "\n",
    "x1 = np.concatenate((a1, a2, a3))\n",
    "x0 = np.copy(a1_0)\n",
    "\n",
    "y1 = np.concatenate((b1, b2, b3))\n",
    "y0 = np.copy(b1_0)\n",
    "\n",
    "\n",
    "d1 = np.load('f_ideal_diff_lay24_1.npy')\n",
    "d1_0 = np.load('f_all_diff_lay24.npy')\n",
    "e1 = np.load('f_ideal_diff_lay46_1.npy')\n",
    "e1_0 = np.load('f_all_diff_lay46.npy')\n",
    "\n",
    "d2 = np.load('f_ideal_diff_lay24_2.npy')\n",
    "e2 = np.load('f_ideal_diff_lay46_2.npy')\n",
    "\n",
    "d3 = np.load('f_ideal_diff_lay24_3.npy')\n",
    "e3 = np.load('f_ideal_diff_lay46_3.npy')\n",
    "\n",
    "diff_24_1 = np.concatenate((d1, d2, d3))\n",
    "diff_24_0 = np.copy(d1_0)\n",
    "\n",
    "diff_46_1 = np.concatenate((e1, e2, e3))\n",
    "diff_46_0 = np.copy(e1_0)\n",
    "\n",
    "diff1 = np.concatenate((diff_24_1, diff_46_1), axis = 1)\n",
    "diff0 = np.concatenate((diff_24_0, diff_46_0), axis = 1)"
   ]
  },
  {
   "cell_type": "code",
   "execution_count": 3,
   "metadata": {},
   "outputs": [],
   "source": [
    "c1 = np.load('f_ideal_ch1_number_1_cut.npy')\n",
    "c2 = np.load('f_ideal_ch1_number_2_cut.npy')\n",
    "c3 = np.load('f_ideal_ch1_number_3_cut.npy')\n",
    "c4 = np.load('f_ideal_ch1_number_4_cut.npy')\n",
    "c5 = np.load('f_ideal_ch1_number_5_cut.npy')\n",
    "c6 = np.load('f_ideal_ch1_number_6_cut.npy')\n",
    "c7 = np.load('f_ideal_ch1_number_7_cut.npy')\n",
    "c8 = np.load('f_ideal_ch1_number_8_cut.npy')\n",
    "c9 = np.load('f_ideal_ch1_number_9_cut.npy')\n",
    "c10 = np.load('f_ideal_ch1_number_10_cut.npy')\n",
    "c11 = np.load('f_ideal_ch1_number_11_cut.npy')\n",
    "c12 = np.load('f_ideal_ch1_number_12_cut.npy')\n",
    "c13 = np.load('f_ideal_ch1_number_13_cut.npy')\n",
    "c14 = np.load('f_ideal_ch1_number_14_cut.npy')\n",
    "c15 = np.load('f_ideal_ch1_number_15_cut.npy')\n",
    "c161 = np.load('f_ideal_ch1_number_161_cut.npy')\n",
    "c162 = np.load('f_ideal_ch1_number_162_cut.npy')\n",
    "\n",
    "c17 = np.load('f_ideal_ch1_number_17_cut.npy')\n",
    "c18 = np.load('f_ideal_ch1_number_18_cut.npy')\n",
    "c19 = np.load('f_ideal_ch1_number_19_cut.npy')\n",
    "c20 = np.load('f_ideal_ch1_number_20_cut.npy')\n",
    "c21 = np.load('f_ideal_ch1_number_21_cut.npy')\n",
    "c22 = np.load('f_ideal_ch1_number_22_cut.npy')\n",
    "c23 = np.load('f_ideal_ch1_number_23_cut.npy')\n",
    "c24 = np.load('f_ideal_ch1_number_24_cut.npy')\n",
    "c25 = np.load('f_ideal_ch1_number_25_cut.npy')\n",
    "c26 = np.load('f_ideal_ch1_number_26_cut.npy')\n",
    "c27 = np.load('f_ideal_ch1_number_27_cut.npy')\n",
    "\n",
    "c1_0 = np.load('f_all_ch1_number_24_cut.npy')\n",
    "CH11 = np.concatenate((c1, c2, c3, c4, c5, c6, c7, c8, c9, c10, c11, c12, c13, c14, c15, c161, c162, c17, c18, c19, c20, c21, c22, c23, c24, c25, c26, c27))[:, 0:2]\n",
    "CH10 = np.copy(c1_0)"
   ]
  },
  {
   "cell_type": "code",
   "execution_count": 4,
   "metadata": {},
   "outputs": [
    {
     "data": {
      "text/plain": [
       "5020738"
      ]
     },
     "execution_count": 4,
     "metadata": {},
     "output_type": "execute_result"
    }
   ],
   "source": [
    "len(CH11)"
   ]
  },
  {
   "cell_type": "code",
   "execution_count": 5,
   "metadata": {},
   "outputs": [],
   "source": [
    "d1 = np.load('f_ideal_diff_lay24_1_cut.npy')\n",
    "d2 = np.load('f_ideal_diff_lay24_2_cut.npy')\n",
    "d3 = np.load('f_ideal_diff_lay24_3_cut.npy')\n",
    "d4 = np.load('f_ideal_diff_lay24_4_cut.npy')\n",
    "d5 = np.load('f_ideal_diff_lay24_5_cut.npy')\n",
    "d6 = np.load('f_ideal_diff_lay24_6_cut.npy')\n",
    "d7 = np.load('f_ideal_diff_lay24_7_cut.npy')\n",
    "d8 = np.load('f_ideal_diff_lay24_8_cut.npy')\n",
    "d9 = np.load('f_ideal_diff_lay24_9_cut.npy')\n",
    "d10 = np.load('f_ideal_diff_lay24_10_cut.npy')\n",
    "d11 = np.load('f_ideal_diff_lay24_11_cut.npy')\n",
    "d12 = np.load('f_ideal_diff_lay24_12_cut.npy')\n",
    "d13 = np.load('f_ideal_diff_lay24_13_cut.npy')\n",
    "d14 = np.load('f_ideal_diff_lay24_14_cut.npy')\n",
    "d15 = np.load('f_ideal_diff_lay24_15_cut.npy')\n",
    "d161 = np.load('f_ideal_diff_lay24_161_cut.npy')\n",
    "d162 = np.load('f_ideal_diff_lay24_162_cut.npy')\n",
    "d17 = np.load('f_ideal_diff_lay24_17_cut.npy')\n",
    "d18 = np.load('f_ideal_diff_lay24_18_cut.npy')\n",
    "d19 = np.load('f_ideal_diff_lay24_19_cut.npy')\n",
    "d20 = np.load('f_ideal_diff_lay24_20_cut.npy')\n",
    "d21 = np.load('f_ideal_diff_lay24_21_cut.npy')\n",
    "d22 = np.load('f_ideal_diff_lay24_22_cut.npy')\n",
    "d23 = np.load('f_ideal_diff_lay24_23_cut.npy')\n",
    "d24 = np.load('f_ideal_diff_lay24_24_cut.npy')\n",
    "d25 = np.load('f_ideal_diff_lay24_25_cut.npy')\n",
    "d26 = np.load('f_ideal_diff_lay24_26_cut.npy')\n",
    "d27 = np.load('f_ideal_diff_lay24_27_cut.npy')\n",
    "\n",
    "\n",
    "diff1 = np.concatenate((d1, d2, d3, d4, d5, d6, d7, d8, d9, d10, d11, d12, d13, d14, d15, d161, d162, d17, d18, d19, d20, d21, d22, d23, d24, d25, d26, d27)).copy()\n",
    "diff0 = np.load('f_all_diff_lay24__cut.npy')"
   ]
  },
  {
   "cell_type": "code",
   "execution_count": null,
   "metadata": {},
   "outputs": [],
   "source": []
  },
  {
   "cell_type": "code",
   "execution_count": 6,
   "metadata": {},
   "outputs": [
    {
     "data": {
      "text/plain": [
       "<matplotlib.legend.Legend at 0x7f383e94c080>"
      ]
     },
     "execution_count": 6,
     "metadata": {},
     "output_type": "execute_result"
    },
    {
     "data": {
      "image/png": "[encoded data removed]",
      "text/plain": [
       "<Figure size 432x288 with 6 Axes>"
      ]
     },
     "metadata": {
      "needs_background": "light"
     },
     "output_type": "display_data"
    }
   ],
   "source": [
    "fig, axs = plt.subplots(2, 3)\n",
    "b1 = np.linspace(1, 10, 50)\n",
    "axs[0, 0].hist(diff1[:, 0], histtype='step', color = 'green', label='signal_dphi', density = True)\n",
    "axs[0, 0].hist(diff0[:, 0], histtype='step', color='green', linestyle='dashed', label='bkg_dphi', density = True)\n",
    "axs[0, 0].set_title('dphi')\n",
    "\n",
    "b2 = np.linspace(-200, 200, 50)\n",
    "axs[0, 1].hist(diff1[:, 1], histtype='step', color = 'yellow', label='signal_dz', density = True)\n",
    "axs[0, 1].hist(diff0[:, 1], histtype='step', color='yellow', linestyle='dashed', label='bkg_dz', density = True)\n",
    "axs[0, 1].set_title('dz')\n",
    "\n",
    "b3 = np.linspace(36, 43, 50)\n",
    "axs[0, 2].hist(diff1[:, 2], histtype='step', color = 'red', label='signal_dr', density = True)\n",
    "axs[0, 2].hist(diff0[:, 2], histtype='step', color='red', linestyle='dashed', label='bkg_dr', density = True)\n",
    "axs[0, 2].set_title('dr')\n",
    "\n",
    "b4 = np.linspace(-0.1, 0.3, 50)\n",
    "axs[1, 0].hist(diff1[:, 3], histtype='step', color = 'blue', label='signal_phislope', density = True)\n",
    "axs[1, 0].hist(diff0[:, 3], histtype='step', color='blue', linestyle='dashed', label='bkg_phislope', density = True)\n",
    "axs[1, 0].set_title('phi_slope')\n",
    "\n",
    "b5 = np.linspace(-200, 200, 50)\n",
    "axs[1, 1].hist(diff1[:, 4], histtype='step', color = 'orange', label='signal_z0', density = True)\n",
    "axs[1, 1].hist(diff0[:, 4], histtype='step', color='orange', linestyle='dashed', label='bkg_z0', density = True)\n",
    "axs[1, 1].set_title('z0')\n",
    "\n",
    "b6 = np.linspace(-3, 3, 50)\n",
    "axs[1, 2].hist(diff1[:, 5], histtype='step', color = 'purple', label='signal_deta', density = True)\n",
    "axs[1, 2].hist(diff0[:, 5], histtype='step', color='purple', linestyle='dashed', label='bkg_deta', density = True)\n",
    "axs[1, 2].set_title('deta')\n",
    "plt.tight_layout()\n",
    "\n",
    "fig.legend(['sigz-24', 'bkg-24'])"
   ]
  },
  {
   "cell_type": "code",
   "execution_count": null,
   "metadata": {},
   "outputs": [],
   "source": []
  },
  {
   "cell_type": "code",
   "execution_count": 7,
   "metadata": {},
   "outputs": [
    {
     "data": {
      "text/plain": [
       "<matplotlib.legend.Legend at 0x7f383e80c470>"
      ]
     },
     "execution_count": 7,
     "metadata": {},
     "output_type": "execute_result"
    },
    {
     "data": {
      "image/png": "[encoded data removed]",
      "text/plain": [
       "<Figure size 432x288 with 6 Axes>"
      ]
     },
     "metadata": {
      "needs_background": "light"
     },
     "output_type": "display_data"
    }
   ],
   "source": [
    "fig, axs = plt.subplots(2, 3)\n",
    "b1 = np.linspace(-1, 1, 50)\n",
    "axs[0, 0].hist(diff1[:, 0], histtype='step', color = 'green', label='signal_dphi', density = True, bins = b1)\n",
    "axs[0, 0].hist(diff0[:, 0], histtype='step', color='green', linestyle='dashed', label='bkg_dphi', density = True, bins = b1)\n",
    "axs[0, 0].set_title('dphi')\n",
    "\n",
    "b2 = np.linspace(-200, 200, 50)\n",
    "axs[0, 1].hist(diff1[:, 1], histtype='step', color = 'yellow', label='signal_dz', density = True, bins = b2)\n",
    "axs[0, 1].hist(diff0[:, 1], histtype='step', color='yellow', linestyle='dashed', label='bkg_dz', density = True, bins = b2)\n",
    "axs[0, 1].set_title('dz')\n",
    "\n",
    "b3 = np.linspace(36, 43, 50)\n",
    "axs[0, 2].hist(diff1[:, 2], histtype='step', color = 'red', label='signal_dr', density = True, bins = b3)\n",
    "axs[0, 2].hist(diff0[:, 2], histtype='step', color='red', linestyle='dashed', label='bkg_dr', density = True, bins = b3)\n",
    "axs[0, 2].set_title('dr')\n",
    "\n",
    "b4 = np.linspace(-0.1, 0.3, 50)\n",
    "axs[1, 0].hist(diff1[:, 3], histtype='step', color = 'blue', label='signal_phislope', density = True, bins = b4)\n",
    "axs[1, 0].hist(diff0[:, 3], histtype='step', color='blue', linestyle='dashed', label='bkg_phislope', density = True, bins = b4)\n",
    "axs[1, 0].set_title('phi_slope')\n",
    "\n",
    "b5 = np.linspace(-200, 200, 50)\n",
    "axs[1, 1].hist(diff1[:, 4], histtype='step', color = 'orange', label='signal_z0', density = True, bins = b5)\n",
    "axs[1, 1].hist(diff0[:, 4], histtype='step', color='orange', linestyle='dashed', label='bkg_z0', density = True, bins = b5)\n",
    "axs[1, 1].set_title('z0')\n",
    "\n",
    "b6 = np.linspace(-3, 3, 50)\n",
    "axs[1, 2].hist(diff1[:, 5], histtype='step', color = 'purple', label='signal_deta', density = True, bins = b6)\n",
    "axs[1, 2].hist(diff0[:, 5], histtype='step', color='purple', linestyle='dashed', label='bkg_deta', density = True, bins = b6)\n",
    "axs[1, 2].set_title('deta')\n",
    "plt.tight_layout()\n",
    "\n",
    "fig.legend(['sig', 'bkg'])"
   ]
  },
  {
   "cell_type": "code",
   "execution_count": 8,
   "metadata": {},
   "outputs": [],
   "source": [
    "from sklearn import preprocessing\n",
    "ddd = preprocessing.scale(np.concatenate([diff1, diff0]))\n",
    "ddiff1 = ddd[:len(diff1), :]\n",
    "ddiff0 = ddd[len(diff1):, :]"
   ]
  },
  {
   "cell_type": "code",
   "execution_count": 9,
   "metadata": {},
   "outputs": [
    {
     "data": {
      "image/png": "[encoded data removed]",
      "text/plain": [
       "<Figure size 432x288 with 6 Axes>"
      ]
     },
     "metadata": {
      "needs_background": "light"
     },
     "output_type": "display_data"
    }
   ],
   "source": [
    "fig, axs = plt.subplots(2, 3)\n",
    "b1 = np.linspace(-1, 1, 50)\n",
    "axs[0, 0].hist(ddiff1[:, 0], histtype='step', color = 'green', label='signal_dphi', density = True, bins = b1)\n",
    "axs[0, 0].hist(ddiff0[:, 0], histtype='step', color='green', linestyle='dashed', label='bkg_dphi', density = True, bins = b1)\n",
    "axs[0, 0].set_title('dphi')\n",
    "\n",
    "b2 = np.linspace(-3, 3, 50)\n",
    "axs[0, 1].hist(ddiff1[:, 1], histtype='step', color = 'yellow', label='signal_dz', density = True, bins = b2)\n",
    "axs[0, 1].hist(ddiff0[:, 1], histtype='step', color='yellow', linestyle='dashed', label='bkg_dz', density = True, bins = b2)\n",
    "axs[0, 1].set_title('dz')\n",
    "\n",
    "b3 = np.linspace(-3, 3, 50)\n",
    "axs[0, 2].hist(ddiff1[:, 2], histtype='step', color = 'red', label='signal_dr', density = True, bins = b3)\n",
    "axs[0, 2].hist(ddiff0[:, 2], histtype='step', color='red', linestyle='dashed', label='bkg_dr', density = True, bins = b3)\n",
    "axs[0, 2].set_title('dr')\n",
    "\n",
    "b4 = np.linspace(-1, 1, 50)\n",
    "axs[1, 0].hist(ddiff1[:, 3], histtype='step', color = 'blue', label='signal_phislope', density = True, bins = b4)\n",
    "axs[1, 0].hist(ddiff0[:, 3], histtype='step', color='blue', linestyle='dashed', label='bkg_phislope', density = True, bins = b4)\n",
    "axs[1, 0].set_title('phi_slope')\n",
    "\n",
    "b5 = np.linspace(-3, 3, 50)\n",
    "axs[1, 1].hist(ddiff1[:, 4], histtype='step', color = 'orange', label='signal_z0', density = True, bins = b5)\n",
    "axs[1, 1].hist(ddiff0[:, 4], histtype='step', color='orange', linestyle='dashed', label='bkg_z0', density = True, bins = b5)\n",
    "axs[1, 1].set_title('z0')\n",
    "\n",
    "b6 = np.linspace(-3, 3, 50)\n",
    "axs[1, 2].hist(ddiff1[:, 5], histtype='step', color = 'purple', label='signal_deta', density = True, bins = b5)\n",
    "axs[1, 2].hist(ddiff0[:, 5], histtype='step', color='purple', linestyle='dashed', label='bkg_deta', density = True, bins = b5)\n",
    "axs[1, 2].set_title('deta')\n",
    "plt.tight_layout()\n",
    "\n",
    "fig.legend(['sig', 'bkg'])\n",
    "fig.savefig('spatial parameters distribution.pdf', bbox_inches='tight')"
   ]
  },
  {
   "cell_type": "code",
   "execution_count": 10,
   "metadata": {},
   "outputs": [
    {
     "data": {
      "text/plain": [
       "array([[-4.88041473e-03, -2.17709007e+01,  3.97975205e+01,\n",
       "        -1.22631125e-04,  5.58730049e+00, -8.26607302e-02],\n",
       "       [-4.88041473e-03, -2.17709007e+01,  3.97975205e+01,\n",
       "        -1.22631125e-04,  5.58730049e+00, -8.26607302e-02],\n",
       "       [-4.81598709e-03, -2.07368011e+01,  3.79059905e+01,\n",
       "        -1.27050818e-04,  5.58787451e+00, -8.08503310e-02],\n",
       "       ...,\n",
       "       [-5.81259270e-02,  3.51961021e+01,  4.13927705e+01,\n",
       "        -1.40425312e-03,  1.10047765e+01, -1.33725268e-01],\n",
       "       [-5.48840889e-02, -2.98335109e+01,  4.03580364e+01,\n",
       "        -1.35992961e-03,  6.08383131e+01, -9.05373028e-01],\n",
       "       [ 3.54378164e-02,  1.05188007e+01,  4.08878700e+01,\n",
       "         8.66707323e-04,  6.14845438e+00, -1.01108036e-01]])"
      ]
     },
     "execution_count": 10,
     "metadata": {},
     "output_type": "execute_result"
    }
   ],
   "source": [
    "diff1"
   ]
  },
  {
   "cell_type": "code",
   "execution_count": 11,
   "metadata": {},
   "outputs": [],
   "source": [
    "trues = np.array(len(CH11)*[1])\n",
    "falses = np.array(len(CH10)*[0])"
   ]
  },
  {
   "cell_type": "code",
   "execution_count": 12,
   "metadata": {},
   "outputs": [
    {
     "data": {
      "text/plain": [
       "(9345375, 5020738)"
      ]
     },
     "execution_count": 12,
     "metadata": {},
     "output_type": "execute_result"
    }
   ],
   "source": [
    "len(falses), len(trues)"
   ]
  },
  {
   "cell_type": "code",
   "execution_count": 13,
   "metadata": {},
   "outputs": [],
   "source": [
    "train_number_signal = int(np.rint(len(CH11)*0.8))\n",
    "validation_number_signal = int(np.rint(len(CH11)*0.1))\n",
    "test_number_signal = len(CH11)-train_number_signal-validation_number_signal\n",
    "\n",
    "train_number_background = int(np.rint(len(CH10)*0.8))\n",
    "validation_number_background = int(np.rint(len(CH10)*0.1))\n",
    "test_number_background = len(CH10)-train_number_background-validation_number_background"
   ]
  },
  {
   "cell_type": "code",
   "execution_count": 14,
   "metadata": {},
   "outputs": [
    {
     "data": {
      "text/plain": [
       "4016590"
      ]
     },
     "execution_count": 14,
     "metadata": {},
     "output_type": "execute_result"
    }
   ],
   "source": [
    "train_number_signal"
   ]
  },
  {
   "cell_type": "code",
   "execution_count": 15,
   "metadata": {},
   "outputs": [
    {
     "data": {
      "text/plain": [
       "7476300"
      ]
     },
     "execution_count": 15,
     "metadata": {},
     "output_type": "execute_result"
    }
   ],
   "source": [
    "train_number_background"
   ]
  },
  {
   "cell_type": "code",
   "execution_count": 16,
   "metadata": {},
   "outputs": [
    {
     "data": {
      "text/plain": [
       "934537"
      ]
     },
     "execution_count": 16,
     "metadata": {},
     "output_type": "execute_result"
    }
   ],
   "source": [
    "test_number_background"
   ]
  },
  {
   "cell_type": "code",
   "execution_count": 17,
   "metadata": {},
   "outputs": [
    {
     "data": {
      "text/plain": [
       "502074"
      ]
     },
     "execution_count": 17,
     "metadata": {},
     "output_type": "execute_result"
    }
   ],
   "source": [
    "test_number_signal"
   ]
  },
  {
   "cell_type": "code",
   "execution_count": 18,
   "metadata": {},
   "outputs": [
    {
     "data": {
      "text/plain": [
       "0.53724302128058"
      ]
     },
     "execution_count": 18,
     "metadata": {},
     "output_type": "execute_result"
    }
   ],
   "source": [
    "train_number_signal/train_number_background"
   ]
  },
  {
   "cell_type": "code",
   "execution_count": 19,
   "metadata": {},
   "outputs": [
    {
     "data": {
      "text/plain": [
       "0.00019100357128526142"
      ]
     },
     "execution_count": 19,
     "metadata": {},
     "output_type": "execute_result"
    }
   ],
   "source": [
    "1785/9345375"
   ]
  },
  {
   "cell_type": "code",
   "execution_count": 20,
   "metadata": {},
   "outputs": [],
   "source": [
    "np.random.seed(0)\n",
    "indices_1 = np.random.permutation(len(CH11))\n",
    "train_c1 = CH11[indices_1[:train_number_signal]]\n",
    "test_c1 = CH11[indices_1[train_number_signal+validation_number_signal:]]\n",
    "validate_c1 = CH11[indices_1[train_number_signal:train_number_signal+validation_number_signal]]\n",
    "\n",
    "train_1 = diff1[indices_1[:train_number_signal]]\n",
    "test_1 = diff1[indices_1[train_number_signal+validation_number_signal:]]\n",
    "validate_1 = diff1[indices_1[train_number_signal:train_number_signal+validation_number_signal]]"
   ]
  },
  {
   "cell_type": "code",
   "execution_count": 21,
   "metadata": {},
   "outputs": [],
   "source": [
    "np.random.seed(1)\n",
    "indices_0 = np.random.permutation(len(CH10))\n",
    "train_c0 = CH10[indices_0[:train_number_background]]\n",
    "test_c0 = CH10[indices_0[train_number_background+validation_number_background:]]\n",
    "validate_c0 = CH10[indices_0[train_number_background:train_number_background+validation_number_background]]\n",
    "\n",
    "train_0 = diff0[indices_0[:train_number_background]]\n",
    "test_0 = diff0[indices_0[train_number_background+validation_number_background:]]\n",
    "validate_0 = diff0[indices_0[train_number_background:train_number_background+validation_number_background]]"
   ]
  },
  {
   "cell_type": "code",
   "execution_count": 22,
   "metadata": {},
   "outputs": [
    {
     "data": {
      "text/plain": [
       "array([[2., 6.],\n",
       "       [3., 3.],\n",
       "       [3., 5.],\n",
       "       ...,\n",
       "       [2., 2.],\n",
       "       [6., 6.],\n",
       "       [3., 2.]])"
      ]
     },
     "execution_count": 22,
     "metadata": {},
     "output_type": "execute_result"
    }
   ],
   "source": [
    "train_c0"
   ]
  },
  {
   "cell_type": "code",
   "execution_count": 23,
   "metadata": {},
   "outputs": [],
   "source": [
    "trues_train = trues[indices_1[:train_number_signal]]\n",
    "trues_test = trues[indices_1[train_number_signal+validation_number_signal:]]\n",
    "trues_validate = trues[indices_1[train_number_signal:train_number_signal+validation_number_signal]]\n",
    "falses_train = falses[indices_0[:train_number_background]]\n",
    "falses_test = falses[indices_0[train_number_background+validation_number_background:]]\n",
    "falses_validate = falses[indices_0[train_number_background:train_number_background+validation_number_background]]"
   ]
  },
  {
   "cell_type": "code",
   "execution_count": 24,
   "metadata": {},
   "outputs": [],
   "source": [
    "train_total_1 = np.c_[train_1, train_c1]\n",
    "test_total_1 = np.c_[test_1, test_c1]\n",
    "validate_total_1 = np.c_[validate_1, validate_c1]\n",
    "train_total_0 = np.c_[train_0, train_c0]\n",
    "test_total_0 = np.c_[test_0, test_c0]\n",
    "validate_total_0 = np.c_[validate_0, validate_c0]"
   ]
  },
  {
   "cell_type": "code",
   "execution_count": 25,
   "metadata": {},
   "outputs": [],
   "source": [
    "train = np.array(list(train_1) + list(train_0))\n",
    "test = np.array(list(test_1) + list(test_0))\n",
    "validate = np.array(list(validate_1) + list(validate_0))\n",
    "\n",
    "train_c = np.array(list(train_c1) + list(train_c0))\n",
    "test_c = np.array(list(test_c1) + list(test_c0))\n",
    "validate_c = np.array(list(validate_c1) + list(validate_c0))\n",
    "\n",
    "indicator_train = np.array(list(trues_train) + list(falses_train))\n",
    "indicator_test = np.array(list(trues_test) + list(falses_test))\n",
    "indicator_validate = np.array(list(trues_validate) + list(falses_validate))\n",
    "\n",
    "train_total = np.array(list(train_total_1) + list(train_total_0))\n",
    "test_total = np.array(list(test_total_1) + list(test_total_0))\n",
    "validate_total = np.array(list(validate_total_1) + list(validate_total_0))"
   ]
  },
  {
   "cell_type": "markdown",
   "metadata": {},
   "source": [
    "from sklearn import preprocessing\n",
    "\n",
    "train_scaled = preprocessing.scale(train)\n",
    "validate_scaled = preprocessing.scale(validate)\n",
    "test_scaled = preprocessing.scale(test)\n",
    "\n",
    "train_total_scaled = np.c_[train_scaled, train_c]\n",
    "test_total_scaled = np.c_[test_scaled, test_c]\n",
    "validate_total_scaled = np.c_[validate_scaled, validate_c]"
   ]
  },
  {
   "cell_type": "code",
   "execution_count": 26,
   "metadata": {},
   "outputs": [
    {
     "data": {
      "text/plain": [
       "(11492890, 6)"
      ]
     },
     "execution_count": 26,
     "metadata": {},
     "output_type": "execute_result"
    }
   ],
   "source": [
    "np.shape(train)"
   ]
  },
  {
   "cell_type": "code",
   "execution_count": 27,
   "metadata": {},
   "outputs": [
    {
     "data": {
      "text/plain": [
       "array([[ 4.13467007e-02, -3.43034000e+01,  4.05592896e+01,\n",
       "         1.01941383e-03,  5.14907131e+00, -7.20282454e-02],\n",
       "       [ 2.83177831e-02, -2.25191994e+01,  3.92171944e+01,\n",
       "         7.22075701e-04, -2.15863330e+01,  2.51132140e-01],\n",
       "       [-4.65456603e-02, -1.38558006e+01,  4.11778059e+01,\n",
       "        -1.13035795e-03, -3.00398438e+01,  3.72420230e-01],\n",
       "       ...,\n",
       "       [-2.13818335e+00,  8.01819000e+01,  3.87066744e+01,\n",
       "        -5.52406887e-02, -1.01499809e+02,  1.52508608e+00],\n",
       "       [-3.14048199e+00,  1.02917702e+02,  3.88925673e+01,\n",
       "        -8.07476134e-02, -1.21314998e+02,  1.80433665e+00],\n",
       "       [ 2.94860751e+00,  8.58848991e+01,  3.88855070e+01,\n",
       "         7.58279302e-02, -9.83148277e+01,  1.47492976e+00]])"
      ]
     },
     "execution_count": 27,
     "metadata": {},
     "output_type": "execute_result"
    }
   ],
   "source": [
    "train"
   ]
  },
  {
   "cell_type": "code",
   "execution_count": 28,
   "metadata": {},
   "outputs": [
    {
     "data": {
      "text/plain": [
       "array([1, 1, 1, ..., 0, 0, 0])"
      ]
     },
     "execution_count": 28,
     "metadata": {},
     "output_type": "execute_result"
    }
   ],
   "source": [
    "indicator_train"
   ]
  },
  {
   "cell_type": "code",
   "execution_count": 29,
   "metadata": {},
   "outputs": [
    {
     "name": "stdout",
     "output_type": "stream",
     "text": [
      "WARNING:tensorflow:From /home/jsqason/.local/lib/python3.5/site-packages/tensorflow/python/framework/op_def_library.py:263: colocate_with (from tensorflow.python.framework.ops) is deprecated and will be removed in a future version.\n",
      "Instructions for updating:\n",
      "Colocations handled automatically by placer.\n"
     ]
    }
   ],
   "source": [
    "# create model\n",
    "model_clasify = Sequential()\n",
    "es = EarlyStopping(monitor='val_acc', min_delta=0.0001)\n",
    "model_clasify.add(Dense(128, input_dim=6, activation='relu'))\n",
    "model_clasify.add(Dense(64, activation='relu'))\n",
    "model_clasify.add(Dense(32, activation='relu'))\n",
    "model_clasify.add(Dense(1, activation='sigmoid'))\n",
    "adam = optimizers.Adam(lr = 0.001)"
   ]
  },
  {
   "cell_type": "code",
   "execution_count": 30,
   "metadata": {},
   "outputs": [
    {
     "name": "stdout",
     "output_type": "stream",
     "text": [
      "_________________________________________________________________\n",
      "Layer (type)                 Output Shape              Param #   \n",
      "=================================================================\n",
      "dense_1 (Dense)              (None, 128)               896       \n",
      "_________________________________________________________________\n",
      "dense_2 (Dense)              (None, 64)                8256      \n",
      "_________________________________________________________________\n",
      "dense_3 (Dense)              (None, 32)                2080      \n",
      "_________________________________________________________________\n",
      "dense_4 (Dense)              (None, 1)                 33        \n",
      "=================================================================\n",
      "Total params: 11,265\n",
      "Trainable params: 11,265\n",
      "Non-trainable params: 0\n",
      "_________________________________________________________________\n"
     ]
    }
   ],
   "source": [
    "model_clasify.summary()"
   ]
  },
  {
   "cell_type": "code",
   "execution_count": 31,
   "metadata": {},
   "outputs": [],
   "source": [
    "model_clasify.compile(loss='binary_crossentropy', optimizer=adam, metrics=['accuracy'])"
   ]
  },
  {
   "cell_type": "code",
   "execution_count": 32,
   "metadata": {},
   "outputs": [
    {
     "name": "stdout",
     "output_type": "stream",
     "text": [
      "WARNING:tensorflow:From /home/jsqason/.local/lib/python3.5/site-packages/tensorflow/python/ops/math_ops.py:3066: to_int32 (from tensorflow.python.ops.math_ops) is deprecated and will be removed in a future version.\n",
      "Instructions for updating:\n",
      "Use tf.cast instead.\n",
      "Train on 11492890 samples, validate on 1436612 samples\n",
      "Epoch 1/3000\n",
      "11492890/11492890 [==============================] - 64s 6us/step - loss: 0.1442 - acc: 0.9591 - val_loss: 0.0901 - val_acc: 0.9733\n",
      "Epoch 2/3000\n",
      "11492890/11492890 [==============================] - 64s 6us/step - loss: 0.1068 - acc: 0.9748 - val_loss: 0.0914 - val_acc: 0.9732\n"
     ]
    }
   ],
   "source": [
    "a = model_clasify.fit(train, indicator_train, validation_data = (validate, indicator_validate), epochs=3000, callbacks = [es], batch_size=2000, class_weight={0: 1, 1: len(falses)/len(trues)})"
   ]
  },
  {
   "cell_type": "code",
   "execution_count": 33,
   "metadata": {},
   "outputs": [
    {
     "data": {
      "text/plain": [
       "<matplotlib.legend.Legend at 0x7f37e415b940>"
      ]
     },
     "execution_count": 33,
     "metadata": {},
     "output_type": "execute_result"
    },
    {
     "data": {
      "image/png": "[encoded data removed]",
      "text/plain": [
       "<Figure size 432x288 with 1 Axes>"
      ]
     },
     "metadata": {
      "needs_background": "light"
     },
     "output_type": "display_data"
    }
   ],
   "source": [
    "plt.plot(a.history['loss'])\n",
    "plt.plot(a.history['val_loss'])\n",
    "plt.title('xyz-loss')\n",
    "plt.legend(['loss', 'val_loss'])"
   ]
  },
  {
   "cell_type": "code",
   "execution_count": 34,
   "metadata": {},
   "outputs": [
    {
     "data": {
      "text/plain": [
       "array([[9.7330308e-01],\n",
       "       [9.4315445e-01],\n",
       "       [9.9250007e-01],\n",
       "       ...,\n",
       "       [1.0647892e-03],\n",
       "       [6.0418888e-04],\n",
       "       [7.0918938e-03]], dtype=float32)"
      ]
     },
     "execution_count": 34,
     "metadata": {},
     "output_type": "execute_result"
    }
   ],
   "source": [
    "predictions_clasify = model_clasify.predict(test)\n",
    "predictions_clasify"
   ]
  },
  {
   "cell_type": "code",
   "execution_count": 35,
   "metadata": {},
   "outputs": [
    {
     "data": {
      "text/plain": [
       "1436611"
      ]
     },
     "execution_count": 35,
     "metadata": {},
     "output_type": "execute_result"
    }
   ],
   "source": [
    "len(predictions_clasify)"
   ]
  },
  {
   "cell_type": "code",
   "execution_count": 36,
   "metadata": {},
   "outputs": [
    {
     "data": {
      "text/plain": [
       "0.46022865"
      ]
     },
     "execution_count": 36,
     "metadata": {},
     "output_type": "execute_result"
    }
   ],
   "source": [
    "np.std(predictions_clasify)"
   ]
  },
  {
   "cell_type": "code",
   "execution_count": 37,
   "metadata": {},
   "outputs": [
    {
     "data": {
      "text/plain": [
       "array([1, 1, 1, ..., 0, 0, 0])"
      ]
     },
     "execution_count": 37,
     "metadata": {},
     "output_type": "execute_result"
    }
   ],
   "source": [
    "indicator_test"
   ]
  },
  {
   "cell_type": "code",
   "execution_count": 38,
   "metadata": {},
   "outputs": [],
   "source": [
    "fpr_clasify, tpr_clasify, _ = roc_curve(indicator_test, predictions_clasify)"
   ]
  },
  {
   "cell_type": "code",
   "execution_count": 39,
   "metadata": {},
   "outputs": [
    {
     "data": {
      "text/plain": [
       "Text(0, 0.5, 'true-positive-rate')"
      ]
     },
     "execution_count": 39,
     "metadata": {},
     "output_type": "execute_result"
    },
    {
     "data": {
      "image/png": "[encoded data removed]",
      "text/plain": [
       "<Figure size 432x288 with 1 Axes>"
      ]
     },
     "metadata": {
      "needs_background": "light"
     },
     "output_type": "display_data"
    }
   ],
   "source": [
    "fig = plt.figure()\n",
    "ax = plt.axes()\n",
    "ax.plot(fpr_clasify, tpr_clasify, color='black')\n",
    "plt.title('ROC-Classification of Ideal Particles')\n",
    "plt.xlabel('false-positive-rate')\n",
    "plt.ylabel('true-positive-rate')"
   ]
  },
  {
   "cell_type": "code",
   "execution_count": 40,
   "metadata": {},
   "outputs": [
    {
     "data": {
      "text/plain": [
       "array([[6., 6.],\n",
       "       [2., 3.],\n",
       "       [2., 2.],\n",
       "       ...,\n",
       "       [2., 2.],\n",
       "       [6., 6.],\n",
       "       [3., 2.]])"
      ]
     },
     "execution_count": 40,
     "metadata": {},
     "output_type": "execute_result"
    }
   ],
   "source": [
    "train_c"
   ]
  },
  {
   "cell_type": "code",
   "execution_count": 41,
   "metadata": {},
   "outputs": [],
   "source": [
    "# create model\n",
    "model_clasify_c = Sequential()\n",
    "es = EarlyStopping(monitor='val_acc', min_delta=0.0001)\n",
    "model_clasify_c.add(Dense(128, input_dim=2, activation='relu'))\n",
    "model_clasify_c.add(Dense(64, activation='relu'))\n",
    "model_clasify_c.add(Dense(32, activation='relu'))\n",
    "model_clasify_c.add(Dense(1, activation='sigmoid'))\n",
    "adam = optimizers.Adam(lr = 0.001)\n",
    "model_clasify_c.compile(loss='binary_crossentropy', optimizer=adam, metrics=['accuracy'])"
   ]
  },
  {
   "cell_type": "code",
   "execution_count": 42,
   "metadata": {},
   "outputs": [
    {
     "name": "stdout",
     "output_type": "stream",
     "text": [
      "Train on 11492890 samples, validate on 1436612 samples\n",
      "Epoch 1/3000\n",
      "11492890/11492890 [==============================] - 64s 6us/step - loss: 0.5497 - acc: 0.7516 - val_loss: 0.4316 - val_acc: 0.7531\n",
      "Epoch 2/3000\n",
      "11492890/11492890 [==============================] - 63s 5us/step - loss: 0.5453 - acc: 0.7502 - val_loss: 0.4380 - val_acc: 0.7531\n"
     ]
    }
   ],
   "source": [
    "b = model_clasify_c.fit(train_c, indicator_train, validation_data = (validate_c, indicator_validate), epochs=3000, callbacks = [es], class_weight={0: 1, 1: len(falses)/len(trues)}, batch_size=2000)"
   ]
  },
  {
   "cell_type": "code",
   "execution_count": 43,
   "metadata": {},
   "outputs": [
    {
     "data": {
      "text/plain": [
       "array([1, 1, 1, ..., 0, 0, 0])"
      ]
     },
     "execution_count": 43,
     "metadata": {},
     "output_type": "execute_result"
    }
   ],
   "source": [
    "indicator_train"
   ]
  },
  {
   "cell_type": "code",
   "execution_count": 44,
   "metadata": {},
   "outputs": [
    {
     "data": {
      "text/plain": [
       "<matplotlib.legend.Legend at 0x7f3718a667b8>"
      ]
     },
     "execution_count": 44,
     "metadata": {},
     "output_type": "execute_result"
    },
    {
     "data": {
      "image/png": "[encoded data removed]",
      "text/plain": [
       "<Figure size 432x288 with 1 Axes>"
      ]
     },
     "metadata": {
      "needs_background": "light"
     },
     "output_type": "display_data"
    }
   ],
   "source": [
    "plt.plot(b.history['loss'])\n",
    "plt.plot(b.history['val_loss'])\n",
    "plt.title('ch1_number-loss')\n",
    "plt.legend(['loss', 'val_loss'])"
   ]
  },
  {
   "cell_type": "code",
   "execution_count": 45,
   "metadata": {},
   "outputs": [
    {
     "data": {
      "text/plain": [
       "array([[0.8709927 ],\n",
       "       [0.8709927 ],\n",
       "       [0.7597616 ],\n",
       "       ...,\n",
       "       [0.5630924 ],\n",
       "       [0.00359946],\n",
       "       [0.4991832 ]], dtype=float32)"
      ]
     },
     "execution_count": 45,
     "metadata": {},
     "output_type": "execute_result"
    }
   ],
   "source": [
    "predictions_clasify_c = model_clasify_c.predict(test_c)\n",
    "predictions_clasify_c"
   ]
  },
  {
   "cell_type": "code",
   "execution_count": null,
   "metadata": {},
   "outputs": [],
   "source": []
  },
  {
   "cell_type": "code",
   "execution_count": 46,
   "metadata": {},
   "outputs": [],
   "source": [
    "fpr_clasify_c, tpr_clasify_c, _ = roc_curve(indicator_test, predictions_clasify_c)"
   ]
  },
  {
   "cell_type": "code",
   "execution_count": 47,
   "metadata": {},
   "outputs": [
    {
     "data": {
      "text/plain": [
       "Text(0.5, 1.0, 'ROC-CURVE')"
      ]
     },
     "execution_count": 47,
     "metadata": {},
     "output_type": "execute_result"
    },
    {
     "data": {
      "image/png": "[encoded data removed]",
      "text/plain": [
       "<Figure size 432x288 with 1 Axes>"
      ]
     },
     "metadata": {
      "needs_background": "light"
     },
     "output_type": "display_data"
    }
   ],
   "source": [
    "plt.plot(fpr_clasify, tpr_clasify)\n",
    "plt.plot(fpr_clasify_c, tpr_clasify_c)\n",
    "plt.xlabel('false positive rate')\n",
    "plt.ylabel('true positive rate')\n",
    "plt.legend(['x-y-z_prediction', 'ch1-num_prediction'])\n",
    "plt.title('ROC-CURVE')"
   ]
  },
  {
   "cell_type": "code",
   "execution_count": 48,
   "metadata": {},
   "outputs": [],
   "source": [
    "a_ = []\n",
    "for i in fpr_clasify:\n",
    "    if i == 0:\n",
    "        a_.append(test_number_background)\n",
    "    else:\n",
    "        a_.append(1.0/i)"
   ]
  },
  {
   "cell_type": "code",
   "execution_count": 49,
   "metadata": {},
   "outputs": [],
   "source": [
    "b_ = []\n",
    "for i in fpr_clasify_c:\n",
    "    if i == 0:\n",
    "        b_.append(test_number_background)\n",
    "    else:\n",
    "        b_.append(1.0/i)"
   ]
  },
  {
   "cell_type": "code",
   "execution_count": 50,
   "metadata": {},
   "outputs": [
    {
     "data": {
      "image/png": "[encoded data removed]",
      "text/plain": [
       "<Figure size 432x288 with 1 Axes>"
      ]
     },
     "metadata": {
      "needs_background": "light"
     },
     "output_type": "display_data"
    }
   ],
   "source": [
    "plt.plot(tpr_clasify, np.array(a_))\n",
    "plt.plot(tpr_clasify_c, np.array(b_))\n",
    "plt.xlabel('true positive rate')\n",
    "plt.ylabel('1/false positive rate')\n",
    "plt.legend(['x-y-z_prediction', 'ch1-num_prediction'])\n",
    "plt.title('REVISED-ROC-CURVE')\n",
    "plt.yscale('log')"
   ]
  },
  {
   "cell_type": "code",
   "execution_count": null,
   "metadata": {},
   "outputs": [],
   "source": []
  },
  {
   "cell_type": "code",
   "execution_count": 51,
   "metadata": {},
   "outputs": [],
   "source": [
    "model_clasify_t = Sequential()\n",
    "adam = optimizers.Adam(lr = 0.001)\n",
    "es = EarlyStopping(monitor='val_acc', min_delta=0.0001)\n",
    "model_clasify_t.add(Dense(128, input_dim=8, activation='relu'))\n",
    "model_clasify_t.add(Dense(64, activation='relu'))\n",
    "model_clasify_t.add(Dense(32, activation='relu'))\n",
    "model_clasify_t.add(Dense(1, activation='sigmoid'))\n",
    "model_clasify_t.compile(loss='binary_crossentropy', optimizer=adam, metrics=['accuracy'])"
   ]
  },
  {
   "cell_type": "code",
   "execution_count": 52,
   "metadata": {
    "scrolled": true
   },
   "outputs": [
    {
     "name": "stdout",
     "output_type": "stream",
     "text": [
      "Train on 11492890 samples, validate on 1436612 samples\n",
      "Epoch 1/3000\n",
      "11492890/11492890 [==============================] - 67s 6us/step - loss: 0.0913 - acc: 0.9754 - val_loss: 0.0391 - val_acc: 0.9890\n",
      "Epoch 2/3000\n",
      "11492890/11492890 [==============================] - 64s 6us/step - loss: 0.0466 - acc: 0.9892 - val_loss: 0.0356 - val_acc: 0.9895\n",
      "Epoch 3/3000\n",
      "11492890/11492890 [==============================] - 64s 6us/step - loss: 0.0434 - acc: 0.9897 - val_loss: 0.0326 - val_acc: 0.9902\n",
      "Epoch 4/3000\n",
      "11492890/11492890 [==============================] - 64s 6us/step - loss: 0.0417 - acc: 0.9899 - val_loss: 0.0320 - val_acc: 0.9902\n"
     ]
    }
   ],
   "source": [
    "c = model_clasify_t.fit(train_total, indicator_train, validation_data = (validate_total, indicator_validate), epochs=3000, callbacks = [es], batch_size=2000, class_weight={0: 1, 1: len(falses)/len(trues)})"
   ]
  },
  {
   "cell_type": "code",
   "execution_count": 53,
   "metadata": {},
   "outputs": [
    {
     "data": {
      "text/plain": [
       "<matplotlib.legend.Legend at 0x7f3699b83128>"
      ]
     },
     "execution_count": 53,
     "metadata": {},
     "output_type": "execute_result"
    },
    {
     "data": {
      "image/png": "[encoded data removed]",
      "text/plain": [
       "<Figure size 432x288 with 1 Axes>"
      ]
     },
     "metadata": {
      "needs_background": "light"
     },
     "output_type": "display_data"
    }
   ],
   "source": [
    "plt.plot(c.history['loss'])\n",
    "plt.plot(c.history['val_loss'])\n",
    "plt.title('combined-loss')\n",
    "plt.legend(['loss', 'val_loss'])"
   ]
  },
  {
   "cell_type": "code",
   "execution_count": 54,
   "metadata": {
    "scrolled": true
   },
   "outputs": [
    {
     "data": {
      "text/plain": [
       "array([[9.9952966e-01],\n",
       "       [9.9971902e-01],\n",
       "       [9.9974895e-01],\n",
       "       ...,\n",
       "       [1.0975752e-03],\n",
       "       [9.2126269e-05],\n",
       "       [5.8324014e-05]], dtype=float32)"
      ]
     },
     "execution_count": 54,
     "metadata": {},
     "output_type": "execute_result"
    }
   ],
   "source": [
    "predictions_clasify_t = model_clasify_t.predict(test_total)\n",
    "predictions_clasify_t"
   ]
  },
  {
   "cell_type": "code",
   "execution_count": 55,
   "metadata": {},
   "outputs": [],
   "source": [
    "fpr_clasify_t, tpr_clasify_t, _ = roc_curve(indicator_test, predictions_clasify_t)"
   ]
  },
  {
   "cell_type": "code",
   "execution_count": 56,
   "metadata": {},
   "outputs": [
    {
     "data": {
      "image/png": "[encoded data removed]",
      "text/plain": [
       "<Figure size 432x288 with 1 Axes>"
      ]
     },
     "metadata": {
      "needs_background": "light"
     },
     "output_type": "display_data"
    }
   ],
   "source": [
    "plt.plot(fpr_clasify, tpr_clasify)\n",
    "plt.plot(fpr_clasify_c, tpr_clasify_c)\n",
    "plt.plot(fpr_clasify_t, tpr_clasify_t)\n",
    "plt.xlabel('false positive rate')\n",
    "plt.ylabel('true positive rate')\n",
    "plt.legend(['spatial', 'cluster', 'combined'])\n",
    "plt.title('Doublet ROC-CURVE')\n",
    "plt.savefig('doublet roc curve.pdf', bbox_inches='tight')"
   ]
  },
  {
   "cell_type": "code",
   "execution_count": 57,
   "metadata": {},
   "outputs": [],
   "source": [
    "c_ = []\n",
    "for i in fpr_clasify_t:\n",
    "    if i == 0:\n",
    "        c_.append(test_number_background)\n",
    "    else:\n",
    "        c_.append(1.0/i)"
   ]
  },
  {
   "cell_type": "code",
   "execution_count": 58,
   "metadata": {},
   "outputs": [
    {
     "data": {
      "image/png": "[encoded data removed]",
      "text/plain": [
       "<Figure size 432x288 with 1 Axes>"
      ]
     },
     "metadata": {
      "needs_background": "light"
     },
     "output_type": "display_data"
    }
   ],
   "source": [
    "plt.plot(tpr_clasify, np.array(a_))\n",
    "plt.plot(tpr_clasify_c, np.array(b_))\n",
    "plt.plot(tpr_clasify_t, np.array(c_))\n",
    "plt.xlabel('true positive rate')\n",
    "plt.ylabel('1/false positive rate')\n",
    "plt.legend(['x-y-z_prediction', 'ch1-num_prediction', 'combined_approach'])\n",
    "plt.title('REVISED-ROC-CURVE')\n",
    "plt.yscale('log')"
   ]
  },
  {
   "cell_type": "code",
   "execution_count": 59,
   "metadata": {},
   "outputs": [
    {
     "data": {
      "text/plain": [
       "<matplotlib.legend.Legend at 0x7f36996db080>"
      ]
     },
     "execution_count": 59,
     "metadata": {},
     "output_type": "execute_result"
    },
    {
     "data": {
      "image/png": "[encoded data removed]",
      "text/plain": [
       "<Figure size 432x288 with 1 Axes>"
      ]
     },
     "metadata": {
      "needs_background": "light"
     },
     "output_type": "display_data"
    }
   ],
   "source": [
    "bb = np.linspace(0, 1, 50)\n",
    "plt.hist(predictions_clasify[:len(trues_test)], histtype='step', color='green', label='signal', density=True, bins = bb)\n",
    "plt.hist(predictions_clasify[len(trues_test):], histtype='step', color='green', linestyle='dashed', label='bkg', density =True, bins = bb)\n",
    "plt.hist(predictions_clasify_c[:len(trues_test)], histtype='step', color='orange', label='signal_c', density =True, bins = bb)\n",
    "plt.hist(predictions_clasify_c[len(trues_test):], histtype='step', color='orange', linestyle='dashed', label='bkg_c', density =True, bins = bb)\n",
    "plt.hist(predictions_clasify_t[:len(trues_test)], histtype='step', color='blue', label='signal_t', density =True, bins = bb)\n",
    "plt.hist(predictions_clasify_t[len(trues_test):], histtype='step', color='blue', linestyle='dashed', label='bkg_t', density =True, bins = bb)\n",
    "\n",
    "plt.yscale('log')\n",
    "plt.legend()"
   ]
  },
  {
   "cell_type": "code",
   "execution_count": 60,
   "metadata": {},
   "outputs": [
    {
     "data": {
      "text/html": [
       "<div>\n",
       "<style scoped>\n",
       "    .dataframe tbody tr th:only-of-type {\n",
       "        vertical-align: middle;\n",
       "    }\n",
       "\n",
       "    .dataframe tbody tr th {\n",
       "        vertical-align: top;\n",
       "    }\n",
       "\n",
       "    .dataframe thead th {\n",
       "        text-align: right;\n",
       "    }\n",
       "</style>\n",
       "<table border=\"1\" class=\"dataframe\">\n",
       "  <thead>\n",
       "    <tr style=\"text-align: right;\">\n",
       "      <th></th>\n",
       "      <th>event_id</th>\n",
       "      <th>hit_id</th>\n",
       "      <th>eta</th>\n",
       "      <th>layer_id</th>\n",
       "      <th>module_id</th>\n",
       "      <th>nch0</th>\n",
       "      <th>nch1</th>\n",
       "      <th>particle_id</th>\n",
       "      <th>tpx</th>\n",
       "      <th>tpy</th>\n",
       "      <th>tpz</th>\n",
       "      <th>volume_id</th>\n",
       "      <th>x</th>\n",
       "      <th>y</th>\n",
       "      <th>z</th>\n",
       "    </tr>\n",
       "  </thead>\n",
       "  <tbody>\n",
       "    <tr>\n",
       "      <th>20042</th>\n",
       "      <td>1000</td>\n",
       "      <td>20043.0</td>\n",
       "      <td>-0.372461</td>\n",
       "      <td>2.0</td>\n",
       "      <td>97.0</td>\n",
       "      <td>3.0</td>\n",
       "      <td>2.0</td>\n",
       "      <td>1.080958e+17</td>\n",
       "      <td>-2.771100</td>\n",
       "      <td>-0.023715</td>\n",
       "      <td>-1.515780</td>\n",
       "      <td>8.0</td>\n",
       "      <td>-33.674000</td>\n",
       "      <td>-0.446628</td>\n",
       "      <td>-12.835400</td>\n",
       "    </tr>\n",
       "    <tr>\n",
       "      <th>21826</th>\n",
       "      <td>1000</td>\n",
       "      <td>21827.0</td>\n",
       "      <td>-0.364603</td>\n",
       "      <td>2.0</td>\n",
       "      <td>112.0</td>\n",
       "      <td>1.0</td>\n",
       "      <td>2.0</td>\n",
       "      <td>1.080958e+17</td>\n",
       "      <td>-2.771340</td>\n",
       "      <td>-0.024289</td>\n",
       "      <td>-1.515410</td>\n",
       "      <td>8.0</td>\n",
       "      <td>-32.010101</td>\n",
       "      <td>-0.440721</td>\n",
       "      <td>-11.932400</td>\n",
       "    </tr>\n",
       "    <tr>\n",
       "      <th>29668</th>\n",
       "      <td>1000</td>\n",
       "      <td>29669.0</td>\n",
       "      <td>-0.455122</td>\n",
       "      <td>4.0</td>\n",
       "      <td>193.0</td>\n",
       "      <td>3.0</td>\n",
       "      <td>2.0</td>\n",
       "      <td>1.080958e+17</td>\n",
       "      <td>-2.770970</td>\n",
       "      <td>0.000340</td>\n",
       "      <td>-1.514780</td>\n",
       "      <td>8.0</td>\n",
       "      <td>-73.471901</td>\n",
       "      <td>-0.615863</td>\n",
       "      <td>-34.606300</td>\n",
       "    </tr>\n",
       "    <tr>\n",
       "      <th>30703</th>\n",
       "      <td>1000</td>\n",
       "      <td>30704.0</td>\n",
       "      <td>-0.453312</td>\n",
       "      <td>4.0</td>\n",
       "      <td>224.0</td>\n",
       "      <td>1.0</td>\n",
       "      <td>3.0</td>\n",
       "      <td>1.080958e+17</td>\n",
       "      <td>-2.770980</td>\n",
       "      <td>-0.001129</td>\n",
       "      <td>-1.515090</td>\n",
       "      <td>8.0</td>\n",
       "      <td>-71.580399</td>\n",
       "      <td>-0.604620</td>\n",
       "      <td>-33.572201</td>\n",
       "    </tr>\n",
       "    <tr>\n",
       "      <th>37345</th>\n",
       "      <td>1000</td>\n",
       "      <td>37346.0</td>\n",
       "      <td>-0.480718</td>\n",
       "      <td>6.0</td>\n",
       "      <td>313.0</td>\n",
       "      <td>2.0</td>\n",
       "      <td>2.0</td>\n",
       "      <td>1.080958e+17</td>\n",
       "      <td>-2.768900</td>\n",
       "      <td>0.027852</td>\n",
       "      <td>-1.513700</td>\n",
       "      <td>8.0</td>\n",
       "      <td>-117.384003</td>\n",
       "      <td>-0.393283</td>\n",
       "      <td>-58.627499</td>\n",
       "    </tr>\n",
       "    <tr>\n",
       "      <th>38162</th>\n",
       "      <td>1000</td>\n",
       "      <td>38163.0</td>\n",
       "      <td>-0.479987</td>\n",
       "      <td>6.0</td>\n",
       "      <td>364.0</td>\n",
       "      <td>2.0</td>\n",
       "      <td>2.0</td>\n",
       "      <td>1.080958e+17</td>\n",
       "      <td>-2.768750</td>\n",
       "      <td>0.026067</td>\n",
       "      <td>-1.514100</td>\n",
       "      <td>8.0</td>\n",
       "      <td>-115.445999</td>\n",
       "      <td>-0.404245</td>\n",
       "      <td>-57.565300</td>\n",
       "    </tr>\n",
       "    <tr>\n",
       "      <th>43651</th>\n",
       "      <td>1000</td>\n",
       "      <td>43652.0</td>\n",
       "      <td>-0.494011</td>\n",
       "      <td>8.0</td>\n",
       "      <td>391.0</td>\n",
       "      <td>2.0</td>\n",
       "      <td>2.0</td>\n",
       "      <td>1.080958e+17</td>\n",
       "      <td>-2.768500</td>\n",
       "      <td>0.058717</td>\n",
       "      <td>-1.512330</td>\n",
       "      <td>8.0</td>\n",
       "      <td>-172.957001</td>\n",
       "      <td>0.472070</td>\n",
       "      <td>-88.960899</td>\n",
       "    </tr>\n",
       "    <tr>\n",
       "      <th>44183</th>\n",
       "      <td>1000</td>\n",
       "      <td>44184.0</td>\n",
       "      <td>-0.493657</td>\n",
       "      <td>8.0</td>\n",
       "      <td>468.0</td>\n",
       "      <td>2.0</td>\n",
       "      <td>3.0</td>\n",
       "      <td>1.080958e+17</td>\n",
       "      <td>-2.768770</td>\n",
       "      <td>0.057969</td>\n",
       "      <td>-1.511960</td>\n",
       "      <td>8.0</td>\n",
       "      <td>-170.962006</td>\n",
       "      <td>0.427640</td>\n",
       "      <td>-87.866699</td>\n",
       "    </tr>\n",
       "    <tr>\n",
       "      <th>20043</th>\n",
       "      <td>1000</td>\n",
       "      <td>20044.0</td>\n",
       "      <td>-1.095952</td>\n",
       "      <td>2.0</td>\n",
       "      <td>97.0</td>\n",
       "      <td>2.0</td>\n",
       "      <td>5.0</td>\n",
       "      <td>5.944780e+17</td>\n",
       "      <td>-0.319480</td>\n",
       "      <td>0.002672</td>\n",
       "      <td>-0.442060</td>\n",
       "      <td>8.0</td>\n",
       "      <td>-34.331402</td>\n",
       "      <td>1.433860</td>\n",
       "      <td>-45.662899</td>\n",
       "    </tr>\n",
       "    <tr>\n",
       "      <th>21914</th>\n",
       "      <td>1000</td>\n",
       "      <td>21915.0</td>\n",
       "      <td>-1.093295</td>\n",
       "      <td>2.0</td>\n",
       "      <td>112.0</td>\n",
       "      <td>1.0</td>\n",
       "      <td>5.0</td>\n",
       "      <td>5.944780e+17</td>\n",
       "      <td>-0.319730</td>\n",
       "      <td>0.004456</td>\n",
       "      <td>-0.442086</td>\n",
       "      <td>8.0</td>\n",
       "      <td>-31.905899</td>\n",
       "      <td>1.406340</td>\n",
       "      <td>-42.300098</td>\n",
       "    </tr>\n",
       "    <tr>\n",
       "      <th>28817</th>\n",
       "      <td>1000</td>\n",
       "      <td>28818.0</td>\n",
       "      <td>-1.113451</td>\n",
       "      <td>4.0</td>\n",
       "      <td>161.0</td>\n",
       "      <td>2.0</td>\n",
       "      <td>5.0</td>\n",
       "      <td>5.944780e+17</td>\n",
       "      <td>-0.317850</td>\n",
       "      <td>-0.021670</td>\n",
       "      <td>-0.441839</td>\n",
       "      <td>8.0</td>\n",
       "      <td>-73.185799</td>\n",
       "      <td>0.304351</td>\n",
       "      <td>-99.402702</td>\n",
       "    </tr>\n",
       "    <tr>\n",
       "      <th>29629</th>\n",
       "      <td>1000</td>\n",
       "      <td>29630.0</td>\n",
       "      <td>-1.112944</td>\n",
       "      <td>4.0</td>\n",
       "      <td>192.0</td>\n",
       "      <td>1.0</td>\n",
       "      <td>5.0</td>\n",
       "      <td>5.944780e+17</td>\n",
       "      <td>-0.318506</td>\n",
       "      <td>-0.020061</td>\n",
       "      <td>-0.441521</td>\n",
       "      <td>8.0</td>\n",
       "      <td>-71.128799</td>\n",
       "      <td>0.445410</td>\n",
       "      <td>-96.549103</td>\n",
       "    </tr>\n",
       "    <tr>\n",
       "      <th>36144</th>\n",
       "      <td>1000</td>\n",
       "      <td>36145.0</td>\n",
       "      <td>-1.119386</td>\n",
       "      <td>6.0</td>\n",
       "      <td>209.0</td>\n",
       "      <td>2.0</td>\n",
       "      <td>5.0</td>\n",
       "      <td>5.944780e+17</td>\n",
       "      <td>-0.315475</td>\n",
       "      <td>-0.047228</td>\n",
       "      <td>-0.440719</td>\n",
       "      <td>8.0</td>\n",
       "      <td>-116.559998</td>\n",
       "      <td>-4.449530</td>\n",
       "      <td>-159.598999</td>\n",
       "    </tr>\n",
       "    <tr>\n",
       "      <th>42695</th>\n",
       "      <td>1000</td>\n",
       "      <td>42696.0</td>\n",
       "      <td>-1.123841</td>\n",
       "      <td>8.0</td>\n",
       "      <td>236.0</td>\n",
       "      <td>1.0</td>\n",
       "      <td>5.0</td>\n",
       "      <td>5.944780e+17</td>\n",
       "      <td>-0.308661</td>\n",
       "      <td>-0.080400</td>\n",
       "      <td>-0.439943</td>\n",
       "      <td>8.0</td>\n",
       "      <td>-171.828003</td>\n",
       "      <td>-15.719700</td>\n",
       "      <td>-237.389999</td>\n",
       "    </tr>\n",
       "    <tr>\n",
       "      <th>20044</th>\n",
       "      <td>1000</td>\n",
       "      <td>20045.0</td>\n",
       "      <td>-0.444202</td>\n",
       "      <td>2.0</td>\n",
       "      <td>97.0</td>\n",
       "      <td>2.0</td>\n",
       "      <td>3.0</td>\n",
       "      <td>3.242789e+17</td>\n",
       "      <td>-0.173558</td>\n",
       "      <td>-0.040211</td>\n",
       "      <td>-0.141946</td>\n",
       "      <td>8.0</td>\n",
       "      <td>-30.644300</td>\n",
       "      <td>-9.111690</td>\n",
       "      <td>-14.672900</td>\n",
       "    </tr>\n",
       "    <tr>\n",
       "      <th>29706</th>\n",
       "      <td>1000</td>\n",
       "      <td>29707.0</td>\n",
       "      <td>-0.611055</td>\n",
       "      <td>4.0</td>\n",
       "      <td>194.0</td>\n",
       "      <td>2.0</td>\n",
       "      <td>3.0</td>\n",
       "      <td>3.242789e+17</td>\n",
       "      <td>-0.176376</td>\n",
       "      <td>-0.021280</td>\n",
       "      <td>-0.141222</td>\n",
       "      <td>8.0</td>\n",
       "      <td>-71.110397</td>\n",
       "      <td>-16.725300</td>\n",
       "      <td>-47.468300</td>\n",
       "    </tr>\n",
       "    <tr>\n",
       "      <th>36678</th>\n",
       "      <td>1000</td>\n",
       "      <td>36679.0</td>\n",
       "      <td>-0.660674</td>\n",
       "      <td>6.0</td>\n",
       "      <td>262.0</td>\n",
       "      <td>3.0</td>\n",
       "      <td>3.0</td>\n",
       "      <td>3.242789e+17</td>\n",
       "      <td>-0.175910</td>\n",
       "      <td>0.003210</td>\n",
       "      <td>-0.141995</td>\n",
       "      <td>8.0</td>\n",
       "      <td>-114.474998</td>\n",
       "      <td>-18.998600</td>\n",
       "      <td>-82.365402</td>\n",
       "    </tr>\n",
       "    <tr>\n",
       "      <th>43643</th>\n",
       "      <td>1000</td>\n",
       "      <td>43644.0</td>\n",
       "      <td>-0.687908</td>\n",
       "      <td>8.0</td>\n",
       "      <td>391.0</td>\n",
       "      <td>3.0</td>\n",
       "      <td>3.0</td>\n",
       "      <td>3.242789e+17</td>\n",
       "      <td>-0.166469</td>\n",
       "      <td>0.039125</td>\n",
       "      <td>-0.134691</td>\n",
       "      <td>8.0</td>\n",
       "      <td>-170.772003</td>\n",
       "      <td>-11.519400</td>\n",
       "      <td>-127.250999</td>\n",
       "    </tr>\n",
       "    <tr>\n",
       "      <th>20045</th>\n",
       "      <td>1000</td>\n",
       "      <td>20046.0</td>\n",
       "      <td>-0.375021</td>\n",
       "      <td>2.0</td>\n",
       "      <td>97.0</td>\n",
       "      <td>1.0</td>\n",
       "      <td>3.0</td>\n",
       "      <td>9.052242e+17</td>\n",
       "      <td>-0.562073</td>\n",
       "      <td>-0.241740</td>\n",
       "      <td>-0.400883</td>\n",
       "      <td>8.0</td>\n",
       "      <td>-29.223301</td>\n",
       "      <td>-13.176100</td>\n",
       "      <td>-12.305600</td>\n",
       "    </tr>\n",
       "    <tr>\n",
       "      <th>20189</th>\n",
       "      <td>1000</td>\n",
       "      <td>20190.0</td>\n",
       "      <td>-0.385834</td>\n",
       "      <td>2.0</td>\n",
       "      <td>98.0</td>\n",
       "      <td>2.0</td>\n",
       "      <td>3.0</td>\n",
       "      <td>9.052242e+17</td>\n",
       "      <td>-0.562552</td>\n",
       "      <td>-0.241164</td>\n",
       "      <td>-0.400475</td>\n",
       "      <td>8.0</td>\n",
       "      <td>-30.537399</td>\n",
       "      <td>-13.749600</td>\n",
       "      <td>-13.244600</td>\n",
       "    </tr>\n",
       "    <tr>\n",
       "      <th>29698</th>\n",
       "      <td>1000</td>\n",
       "      <td>29699.0</td>\n",
       "      <td>-0.510141</td>\n",
       "      <td>4.0</td>\n",
       "      <td>194.0</td>\n",
       "      <td>2.0</td>\n",
       "      <td>3.0</td>\n",
       "      <td>9.052242e+17</td>\n",
       "      <td>-0.570939</td>\n",
       "      <td>-0.219893</td>\n",
       "      <td>-0.400044</td>\n",
       "      <td>8.0</td>\n",
       "      <td>-65.824799</td>\n",
       "      <td>-28.113899</td>\n",
       "      <td>-38.118999</td>\n",
       "    </tr>\n",
       "    <tr>\n",
       "      <th>29752</th>\n",
       "      <td>1000</td>\n",
       "      <td>29753.0</td>\n",
       "      <td>-0.512882</td>\n",
       "      <td>4.0</td>\n",
       "      <td>195.0</td>\n",
       "      <td>2.0</td>\n",
       "      <td>3.0</td>\n",
       "      <td>9.052242e+17</td>\n",
       "      <td>-0.571077</td>\n",
       "      <td>-0.218620</td>\n",
       "      <td>-0.400455</td>\n",
       "      <td>8.0</td>\n",
       "      <td>-67.573898</td>\n",
       "      <td>-28.780800</td>\n",
       "      <td>-39.343399</td>\n",
       "    </tr>\n",
       "    <tr>\n",
       "      <th>37408</th>\n",
       "      <td>1000</td>\n",
       "      <td>37409.0</td>\n",
       "      <td>-0.550877</td>\n",
       "      <td>6.0</td>\n",
       "      <td>316.0</td>\n",
       "      <td>3.0</td>\n",
       "      <td>2.0</td>\n",
       "      <td>9.052242e+17</td>\n",
       "      <td>-0.580369</td>\n",
       "      <td>-0.193576</td>\n",
       "      <td>-0.399001</td>\n",
       "      <td>8.0</td>\n",
       "      <td>-108.681999</td>\n",
       "      <td>-43.473400</td>\n",
       "      <td>-67.793701</td>\n",
       "    </tr>\n",
       "    <tr>\n",
       "      <th>43673</th>\n",
       "      <td>1000</td>\n",
       "      <td>43674.0</td>\n",
       "      <td>-0.570195</td>\n",
       "      <td>8.0</td>\n",
       "      <td>395.0</td>\n",
       "      <td>2.0</td>\n",
       "      <td>3.0</td>\n",
       "      <td>9.052242e+17</td>\n",
       "      <td>-0.587155</td>\n",
       "      <td>-0.161078</td>\n",
       "      <td>-0.393518</td>\n",
       "      <td>8.0</td>\n",
       "      <td>-161.380005</td>\n",
       "      <td>-59.464100</td>\n",
       "      <td>-103.467003</td>\n",
       "    </tr>\n",
       "    <tr>\n",
       "      <th>20046</th>\n",
       "      <td>1000</td>\n",
       "      <td>20047.0</td>\n",
       "      <td>0.000687</td>\n",
       "      <td>2.0</td>\n",
       "      <td>97.0</td>\n",
       "      <td>1.0</td>\n",
       "      <td>3.0</td>\n",
       "      <td>8.602094e+17</td>\n",
       "      <td>-0.394165</td>\n",
       "      <td>-0.084308</td>\n",
       "      <td>0.248263</td>\n",
       "      <td>8.0</td>\n",
       "      <td>-29.652300</td>\n",
       "      <td>-11.948900</td>\n",
       "      <td>0.021978</td>\n",
       "    </tr>\n",
       "    <tr>\n",
       "      <th>21947</th>\n",
       "      <td>1000</td>\n",
       "      <td>21948.0</td>\n",
       "      <td>-0.009091</td>\n",
       "      <td>2.0</td>\n",
       "      <td>113.0</td>\n",
       "      <td>2.0</td>\n",
       "      <td>3.0</td>\n",
       "      <td>8.602094e+17</td>\n",
       "      <td>-0.394291</td>\n",
       "      <td>-0.084734</td>\n",
       "      <td>0.248000</td>\n",
       "      <td>8.0</td>\n",
       "      <td>-29.165100</td>\n",
       "      <td>-11.842300</td>\n",
       "      <td>-0.286176</td>\n",
       "    </tr>\n",
       "    <tr>\n",
       "      <th>22152</th>\n",
       "      <td>1000</td>\n",
       "      <td>22153.0</td>\n",
       "      <td>0.029532</td>\n",
       "      <td>2.0</td>\n",
       "      <td>114.0</td>\n",
       "      <td>3.0</td>\n",
       "      <td>3.0</td>\n",
       "      <td>8.602094e+17</td>\n",
       "      <td>-0.394039</td>\n",
       "      <td>-0.085074</td>\n",
       "      <td>0.248064</td>\n",
       "      <td>8.0</td>\n",
       "      <td>-31.193300</td>\n",
       "      <td>-12.272100</td>\n",
       "      <td>0.990079</td>\n",
       "    </tr>\n",
       "    <tr>\n",
       "      <th>30789</th>\n",
       "      <td>1000</td>\n",
       "      <td>30790.0</td>\n",
       "      <td>0.337004</td>\n",
       "      <td>4.0</td>\n",
       "      <td>226.0</td>\n",
       "      <td>2.0</td>\n",
       "      <td>3.0</td>\n",
       "      <td>8.602094e+17</td>\n",
       "      <td>-0.388094</td>\n",
       "      <td>-0.106753</td>\n",
       "      <td>0.248100</td>\n",
       "      <td>8.0</td>\n",
       "      <td>-68.419701</td>\n",
       "      <td>-21.346701</td>\n",
       "      <td>24.613701</td>\n",
       "    </tr>\n",
       "    <tr>\n",
       "      <th>38210</th>\n",
       "      <td>1000</td>\n",
       "      <td>38211.0</td>\n",
       "      <td>0.433398</td>\n",
       "      <td>6.0</td>\n",
       "      <td>367.0</td>\n",
       "      <td>2.0</td>\n",
       "      <td>3.0</td>\n",
       "      <td>8.602094e+17</td>\n",
       "      <td>-0.379584</td>\n",
       "      <td>-0.132309</td>\n",
       "      <td>0.247433</td>\n",
       "      <td>8.0</td>\n",
       "      <td>-110.496002</td>\n",
       "      <td>-34.464199</td>\n",
       "      <td>51.749401</td>\n",
       "    </tr>\n",
       "    <tr>\n",
       "      <th>45494</th>\n",
       "      <td>1000</td>\n",
       "      <td>45495.0</td>\n",
       "      <td>0.484890</td>\n",
       "      <td>8.0</td>\n",
       "      <td>628.0</td>\n",
       "      <td>1.0</td>\n",
       "      <td>2.0</td>\n",
       "      <td>8.602094e+17</td>\n",
       "      <td>-0.365828</td>\n",
       "      <td>-0.162365</td>\n",
       "      <td>0.249284</td>\n",
       "      <td>8.0</td>\n",
       "      <td>-162.298996</td>\n",
       "      <td>-54.941299</td>\n",
       "      <td>86.378304</td>\n",
       "    </tr>\n",
       "    <tr>\n",
       "      <th>...</th>\n",
       "      <td>...</td>\n",
       "      <td>...</td>\n",
       "      <td>...</td>\n",
       "      <td>...</td>\n",
       "      <td>...</td>\n",
       "      <td>...</td>\n",
       "      <td>...</td>\n",
       "      <td>...</td>\n",
       "      <td>...</td>\n",
       "      <td>...</td>\n",
       "      <td>...</td>\n",
       "      <td>...</td>\n",
       "      <td>...</td>\n",
       "      <td>...</td>\n",
       "      <td>...</td>\n",
       "    </tr>\n",
       "    <tr>\n",
       "      <th>43857</th>\n",
       "      <td>2949</td>\n",
       "      <td>43858.0</td>\n",
       "      <td>1.133360</td>\n",
       "      <td>8.0</td>\n",
       "      <td>853.0</td>\n",
       "      <td>1.0</td>\n",
       "      <td>4.0</td>\n",
       "      <td>7.160778e+17</td>\n",
       "      <td>-0.605595</td>\n",
       "      <td>0.243456</td>\n",
       "      <td>0.945856</td>\n",
       "      <td>8.0</td>\n",
       "      <td>-154.587997</td>\n",
       "      <td>77.141701</td>\n",
       "      <td>240.501999</td>\n",
       "    </tr>\n",
       "    <tr>\n",
       "      <th>43859</th>\n",
       "      <td>2949</td>\n",
       "      <td>43860.0</td>\n",
       "      <td>1.090091</td>\n",
       "      <td>8.0</td>\n",
       "      <td>853.0</td>\n",
       "      <td>3.0</td>\n",
       "      <td>6.0</td>\n",
       "      <td>4.188423e+17</td>\n",
       "      <td>-0.145556</td>\n",
       "      <td>0.123365</td>\n",
       "      <td>0.330025</td>\n",
       "      <td>8.0</td>\n",
       "      <td>-157.389999</td>\n",
       "      <td>68.178802</td>\n",
       "      <td>226.268997</td>\n",
       "    </tr>\n",
       "    <tr>\n",
       "      <th>43861</th>\n",
       "      <td>2949</td>\n",
       "      <td>43862.0</td>\n",
       "      <td>1.103009</td>\n",
       "      <td>8.0</td>\n",
       "      <td>853.0</td>\n",
       "      <td>3.0</td>\n",
       "      <td>5.0</td>\n",
       "      <td>5.314352e+17</td>\n",
       "      <td>-0.107506</td>\n",
       "      <td>0.110159</td>\n",
       "      <td>0.192544</td>\n",
       "      <td>8.0</td>\n",
       "      <td>-154.944000</td>\n",
       "      <td>76.002403</td>\n",
       "      <td>231.373993</td>\n",
       "    </tr>\n",
       "    <tr>\n",
       "      <th>43862</th>\n",
       "      <td>2949</td>\n",
       "      <td>43863.0</td>\n",
       "      <td>1.084209</td>\n",
       "      <td>8.0</td>\n",
       "      <td>853.0</td>\n",
       "      <td>2.0</td>\n",
       "      <td>4.0</td>\n",
       "      <td>1.351226e+17</td>\n",
       "      <td>-2.327500</td>\n",
       "      <td>1.066320</td>\n",
       "      <td>2.945770</td>\n",
       "      <td>8.0</td>\n",
       "      <td>-155.266006</td>\n",
       "      <td>74.972298</td>\n",
       "      <td>225.776993</td>\n",
       "    </tr>\n",
       "    <tr>\n",
       "      <th>43863</th>\n",
       "      <td>2949</td>\n",
       "      <td>43864.0</td>\n",
       "      <td>1.166144</td>\n",
       "      <td>8.0</td>\n",
       "      <td>853.0</td>\n",
       "      <td>5.0</td>\n",
       "      <td>4.0</td>\n",
       "      <td>0.000000e+00</td>\n",
       "      <td>-286412.000000</td>\n",
       "      <td>779388.000000</td>\n",
       "      <td>557246.000000</td>\n",
       "      <td>8.0</td>\n",
       "      <td>-156.113007</td>\n",
       "      <td>72.264397</td>\n",
       "      <td>249.270004</td>\n",
       "    </tr>\n",
       "    <tr>\n",
       "      <th>43865</th>\n",
       "      <td>2949</td>\n",
       "      <td>43866.0</td>\n",
       "      <td>1.110827</td>\n",
       "      <td>8.0</td>\n",
       "      <td>854.0</td>\n",
       "      <td>4.0</td>\n",
       "      <td>3.0</td>\n",
       "      <td>0.000000e+00</td>\n",
       "      <td>-416695.000000</td>\n",
       "      <td>695395.000000</td>\n",
       "      <td>585484.000000</td>\n",
       "      <td>8.0</td>\n",
       "      <td>-159.639008</td>\n",
       "      <td>67.347801</td>\n",
       "      <td>234.563004</td>\n",
       "    </tr>\n",
       "    <tr>\n",
       "      <th>43866</th>\n",
       "      <td>2949</td>\n",
       "      <td>43867.0</td>\n",
       "      <td>1.155412</td>\n",
       "      <td>8.0</td>\n",
       "      <td>854.0</td>\n",
       "      <td>2.0</td>\n",
       "      <td>4.0</td>\n",
       "      <td>6.079961e+17</td>\n",
       "      <td>-0.477454</td>\n",
       "      <td>0.114009</td>\n",
       "      <td>0.680334</td>\n",
       "      <td>8.0</td>\n",
       "      <td>-161.936996</td>\n",
       "      <td>57.189301</td>\n",
       "      <td>245.621002</td>\n",
       "    </tr>\n",
       "    <tr>\n",
       "      <th>43867</th>\n",
       "      <td>2949</td>\n",
       "      <td>43868.0</td>\n",
       "      <td>1.098493</td>\n",
       "      <td>8.0</td>\n",
       "      <td>854.0</td>\n",
       "      <td>1.0</td>\n",
       "      <td>4.0</td>\n",
       "      <td>9.232410e+17</td>\n",
       "      <td>-0.279385</td>\n",
       "      <td>0.050235</td>\n",
       "      <td>0.328462</td>\n",
       "      <td>8.0</td>\n",
       "      <td>-161.429993</td>\n",
       "      <td>59.429298</td>\n",
       "      <td>229.328003</td>\n",
       "    </tr>\n",
       "    <tr>\n",
       "      <th>43870</th>\n",
       "      <td>2949</td>\n",
       "      <td>43871.0</td>\n",
       "      <td>1.036007</td>\n",
       "      <td>8.0</td>\n",
       "      <td>854.0</td>\n",
       "      <td>2.0</td>\n",
       "      <td>1.0</td>\n",
       "      <td>7.206687e+16</td>\n",
       "      <td>-0.236331</td>\n",
       "      <td>-0.007293</td>\n",
       "      <td>0.056858</td>\n",
       "      <td>8.0</td>\n",
       "      <td>-162.112000</td>\n",
       "      <td>56.416302</td>\n",
       "      <td>211.391006</td>\n",
       "    </tr>\n",
       "    <tr>\n",
       "      <th>43872</th>\n",
       "      <td>2949</td>\n",
       "      <td>43873.0</td>\n",
       "      <td>1.048490</td>\n",
       "      <td>8.0</td>\n",
       "      <td>854.0</td>\n",
       "      <td>3.0</td>\n",
       "      <td>5.0</td>\n",
       "      <td>3.963200e+17</td>\n",
       "      <td>-0.151325</td>\n",
       "      <td>0.147511</td>\n",
       "      <td>0.233659</td>\n",
       "      <td>8.0</td>\n",
       "      <td>-159.444000</td>\n",
       "      <td>68.208199</td>\n",
       "      <td>217.024994</td>\n",
       "    </tr>\n",
       "    <tr>\n",
       "      <th>43873</th>\n",
       "      <td>2949</td>\n",
       "      <td>43874.0</td>\n",
       "      <td>1.185632</td>\n",
       "      <td>8.0</td>\n",
       "      <td>855.0</td>\n",
       "      <td>2.0</td>\n",
       "      <td>5.0</td>\n",
       "      <td>4.503635e+17</td>\n",
       "      <td>-0.468310</td>\n",
       "      <td>0.198389</td>\n",
       "      <td>0.762144</td>\n",
       "      <td>8.0</td>\n",
       "      <td>-165.063004</td>\n",
       "      <td>50.625801</td>\n",
       "      <td>256.147003</td>\n",
       "    </tr>\n",
       "    <tr>\n",
       "      <th>43877</th>\n",
       "      <td>2949</td>\n",
       "      <td>43878.0</td>\n",
       "      <td>1.179845</td>\n",
       "      <td>8.0</td>\n",
       "      <td>855.0</td>\n",
       "      <td>2.0</td>\n",
       "      <td>6.0</td>\n",
       "      <td>2.206904e+17</td>\n",
       "      <td>-0.243302</td>\n",
       "      <td>0.110001</td>\n",
       "      <td>0.519695</td>\n",
       "      <td>8.0</td>\n",
       "      <td>-166.550003</td>\n",
       "      <td>40.217400</td>\n",
       "      <td>252.425995</td>\n",
       "    </tr>\n",
       "    <tr>\n",
       "      <th>43881</th>\n",
       "      <td>2949</td>\n",
       "      <td>43882.0</td>\n",
       "      <td>1.186802</td>\n",
       "      <td>8.0</td>\n",
       "      <td>856.0</td>\n",
       "      <td>2.0</td>\n",
       "      <td>5.0</td>\n",
       "      <td>5.674551e+17</td>\n",
       "      <td>-0.374397</td>\n",
       "      <td>0.032974</td>\n",
       "      <td>0.538951</td>\n",
       "      <td>8.0</td>\n",
       "      <td>-168.529007</td>\n",
       "      <td>38.357498</td>\n",
       "      <td>256.786011</td>\n",
       "    </tr>\n",
       "    <tr>\n",
       "      <th>43882</th>\n",
       "      <td>2949</td>\n",
       "      <td>43883.0</td>\n",
       "      <td>1.039002</td>\n",
       "      <td>8.0</td>\n",
       "      <td>856.0</td>\n",
       "      <td>3.0</td>\n",
       "      <td>3.0</td>\n",
       "      <td>8.196612e+17</td>\n",
       "      <td>-0.230445</td>\n",
       "      <td>0.101295</td>\n",
       "      <td>0.225757</td>\n",
       "      <td>8.0</td>\n",
       "      <td>-168.615005</td>\n",
       "      <td>36.957100</td>\n",
       "      <td>213.406006</td>\n",
       "    </tr>\n",
       "    <tr>\n",
       "      <th>43883</th>\n",
       "      <td>2949</td>\n",
       "      <td>43884.0</td>\n",
       "      <td>1.076290</td>\n",
       "      <td>8.0</td>\n",
       "      <td>856.0</td>\n",
       "      <td>1.0</td>\n",
       "      <td>4.0</td>\n",
       "      <td>6.845513e+17</td>\n",
       "      <td>-0.219764</td>\n",
       "      <td>-0.013500</td>\n",
       "      <td>0.248687</td>\n",
       "      <td>8.0</td>\n",
       "      <td>-169.022995</td>\n",
       "      <td>30.319099</td>\n",
       "      <td>222.628998</td>\n",
       "    </tr>\n",
       "    <tr>\n",
       "      <th>43884</th>\n",
       "      <td>2949</td>\n",
       "      <td>43885.0</td>\n",
       "      <td>1.186399</td>\n",
       "      <td>8.0</td>\n",
       "      <td>856.0</td>\n",
       "      <td>2.0</td>\n",
       "      <td>2.0</td>\n",
       "      <td>0.000000e+00</td>\n",
       "      <td>-881295.000000</td>\n",
       "      <td>-392329.000000</td>\n",
       "      <td>263432.000000</td>\n",
       "      <td>8.0</td>\n",
       "      <td>-168.975006</td>\n",
       "      <td>31.096500</td>\n",
       "      <td>255.136993</td>\n",
       "    </tr>\n",
       "    <tr>\n",
       "      <th>43885</th>\n",
       "      <td>2949</td>\n",
       "      <td>43886.0</td>\n",
       "      <td>1.183109</td>\n",
       "      <td>8.0</td>\n",
       "      <td>856.0</td>\n",
       "      <td>3.0</td>\n",
       "      <td>6.0</td>\n",
       "      <td>2.206904e+17</td>\n",
       "      <td>-0.243336</td>\n",
       "      <td>0.111666</td>\n",
       "      <td>0.519085</td>\n",
       "      <td>8.0</td>\n",
       "      <td>-168.363998</td>\n",
       "      <td>41.039600</td>\n",
       "      <td>256.316986</td>\n",
       "    </tr>\n",
       "    <tr>\n",
       "      <th>43886</th>\n",
       "      <td>2949</td>\n",
       "      <td>43887.0</td>\n",
       "      <td>1.032094</td>\n",
       "      <td>8.0</td>\n",
       "      <td>857.0</td>\n",
       "      <td>1.0</td>\n",
       "      <td>5.0</td>\n",
       "      <td>1.441167e+17</td>\n",
       "      <td>-0.760234</td>\n",
       "      <td>0.011245</td>\n",
       "      <td>1.072010</td>\n",
       "      <td>8.0</td>\n",
       "      <td>-170.867996</td>\n",
       "      <td>14.170600</td>\n",
       "      <td>210.089996</td>\n",
       "    </tr>\n",
       "    <tr>\n",
       "      <th>43888</th>\n",
       "      <td>2949</td>\n",
       "      <td>43889.0</td>\n",
       "      <td>1.134160</td>\n",
       "      <td>8.0</td>\n",
       "      <td>857.0</td>\n",
       "      <td>1.0</td>\n",
       "      <td>4.0</td>\n",
       "      <td>3.557861e+17</td>\n",
       "      <td>-0.377281</td>\n",
       "      <td>-0.019195</td>\n",
       "      <td>0.393595</td>\n",
       "      <td>8.0</td>\n",
       "      <td>-170.888000</td>\n",
       "      <td>15.220400</td>\n",
       "      <td>239.063995</td>\n",
       "    </tr>\n",
       "    <tr>\n",
       "      <th>43890</th>\n",
       "      <td>2949</td>\n",
       "      <td>43891.0</td>\n",
       "      <td>1.054062</td>\n",
       "      <td>8.0</td>\n",
       "      <td>857.0</td>\n",
       "      <td>2.0</td>\n",
       "      <td>5.0</td>\n",
       "      <td>1.981661e+17</td>\n",
       "      <td>-0.337182</td>\n",
       "      <td>0.096598</td>\n",
       "      <td>0.487484</td>\n",
       "      <td>8.0</td>\n",
       "      <td>-171.033005</td>\n",
       "      <td>22.782400</td>\n",
       "      <td>217.470993</td>\n",
       "    </tr>\n",
       "    <tr>\n",
       "      <th>43891</th>\n",
       "      <td>2949</td>\n",
       "      <td>43892.0</td>\n",
       "      <td>1.118681</td>\n",
       "      <td>8.0</td>\n",
       "      <td>857.0</td>\n",
       "      <td>2.0</td>\n",
       "      <td>3.0</td>\n",
       "      <td>4.524078e+15</td>\n",
       "      <td>-0.374243</td>\n",
       "      <td>0.096627</td>\n",
       "      <td>0.365412</td>\n",
       "      <td>8.0</td>\n",
       "      <td>-170.987000</td>\n",
       "      <td>20.382000</td>\n",
       "      <td>235.403000</td>\n",
       "    </tr>\n",
       "    <tr>\n",
       "      <th>43892</th>\n",
       "      <td>2949</td>\n",
       "      <td>43893.0</td>\n",
       "      <td>1.130824</td>\n",
       "      <td>8.0</td>\n",
       "      <td>857.0</td>\n",
       "      <td>2.0</td>\n",
       "      <td>6.0</td>\n",
       "      <td>0.000000e+00</td>\n",
       "      <td>-454820.000000</td>\n",
       "      <td>-207428.000000</td>\n",
       "      <td>866090.000000</td>\n",
       "      <td>8.0</td>\n",
       "      <td>-170.979004</td>\n",
       "      <td>19.975700</td>\n",
       "      <td>238.884995</td>\n",
       "    </tr>\n",
       "    <tr>\n",
       "      <th>43894</th>\n",
       "      <td>2949</td>\n",
       "      <td>43895.0</td>\n",
       "      <td>1.033466</td>\n",
       "      <td>8.0</td>\n",
       "      <td>858.0</td>\n",
       "      <td>2.0</td>\n",
       "      <td>5.0</td>\n",
       "      <td>1.441167e+17</td>\n",
       "      <td>-0.759758</td>\n",
       "      <td>0.010258</td>\n",
       "      <td>1.072290</td>\n",
       "      <td>8.0</td>\n",
       "      <td>-172.835999</td>\n",
       "      <td>14.193200</td>\n",
       "      <td>212.871994</td>\n",
       "    </tr>\n",
       "    <tr>\n",
       "      <th>43895</th>\n",
       "      <td>2949</td>\n",
       "      <td>43896.0</td>\n",
       "      <td>1.160027</td>\n",
       "      <td>8.0</td>\n",
       "      <td>858.0</td>\n",
       "      <td>1.0</td>\n",
       "      <td>4.0</td>\n",
       "      <td>4.503696e+16</td>\n",
       "      <td>-0.424738</td>\n",
       "      <td>-0.037711</td>\n",
       "      <td>0.514999</td>\n",
       "      <td>8.0</td>\n",
       "      <td>-171.947006</td>\n",
       "      <td>5.300890</td>\n",
       "      <td>247.423996</td>\n",
       "    </tr>\n",
       "    <tr>\n",
       "      <th>43896</th>\n",
       "      <td>2949</td>\n",
       "      <td>43897.0</td>\n",
       "      <td>1.131829</td>\n",
       "      <td>8.0</td>\n",
       "      <td>858.0</td>\n",
       "      <td>2.0</td>\n",
       "      <td>4.0</td>\n",
       "      <td>3.557861e+17</td>\n",
       "      <td>-0.377651</td>\n",
       "      <td>-0.019713</td>\n",
       "      <td>0.393023</td>\n",
       "      <td>8.0</td>\n",
       "      <td>-172.929993</td>\n",
       "      <td>15.132300</td>\n",
       "      <td>241.194000</td>\n",
       "    </tr>\n",
       "    <tr>\n",
       "      <th>43897</th>\n",
       "      <td>2949</td>\n",
       "      <td>43898.0</td>\n",
       "      <td>1.086593</td>\n",
       "      <td>8.0</td>\n",
       "      <td>858.0</td>\n",
       "      <td>1.0</td>\n",
       "      <td>5.0</td>\n",
       "      <td>2.431986e+17</td>\n",
       "      <td>-0.436952</td>\n",
       "      <td>-0.024487</td>\n",
       "      <td>0.558772</td>\n",
       "      <td>8.0</td>\n",
       "      <td>-172.613998</td>\n",
       "      <td>11.967600</td>\n",
       "      <td>227.255005</td>\n",
       "    </tr>\n",
       "    <tr>\n",
       "      <th>43898</th>\n",
       "      <td>2949</td>\n",
       "      <td>43899.0</td>\n",
       "      <td>1.037051</td>\n",
       "      <td>8.0</td>\n",
       "      <td>858.0</td>\n",
       "      <td>2.0</td>\n",
       "      <td>4.0</td>\n",
       "      <td>3.152616e+16</td>\n",
       "      <td>-0.760795</td>\n",
       "      <td>-0.011636</td>\n",
       "      <td>1.015890</td>\n",
       "      <td>8.0</td>\n",
       "      <td>-172.335007</td>\n",
       "      <td>9.185590</td>\n",
       "      <td>212.824005</td>\n",
       "    </tr>\n",
       "    <tr>\n",
       "      <th>43899</th>\n",
       "      <td>2949</td>\n",
       "      <td>43900.0</td>\n",
       "      <td>1.074500</td>\n",
       "      <td>8.0</td>\n",
       "      <td>858.0</td>\n",
       "      <td>2.0</td>\n",
       "      <td>5.0</td>\n",
       "      <td>9.277431e+17</td>\n",
       "      <td>-0.474589</td>\n",
       "      <td>0.062368</td>\n",
       "      <td>0.675690</td>\n",
       "      <td>8.0</td>\n",
       "      <td>-171.798996</td>\n",
       "      <td>3.819890</td>\n",
       "      <td>222.281998</td>\n",
       "    </tr>\n",
       "    <tr>\n",
       "      <th>43900</th>\n",
       "      <td>2949</td>\n",
       "      <td>43901.0</td>\n",
       "      <td>1.153242</td>\n",
       "      <td>8.0</td>\n",
       "      <td>858.0</td>\n",
       "      <td>3.0</td>\n",
       "      <td>5.0</td>\n",
       "      <td>6.935673e+17</td>\n",
       "      <td>-0.185994</td>\n",
       "      <td>0.058127</td>\n",
       "      <td>0.238343</td>\n",
       "      <td>8.0</td>\n",
       "      <td>-171.990997</td>\n",
       "      <td>5.744300</td>\n",
       "      <td>245.468002</td>\n",
       "    </tr>\n",
       "    <tr>\n",
       "      <th>43901</th>\n",
       "      <td>2949</td>\n",
       "      <td>43902.0</td>\n",
       "      <td>1.188687</td>\n",
       "      <td>8.0</td>\n",
       "      <td>858.0</td>\n",
       "      <td>2.0</td>\n",
       "      <td>6.0</td>\n",
       "      <td>3.017529e+17</td>\n",
       "      <td>-0.386744</td>\n",
       "      <td>-0.026285</td>\n",
       "      <td>0.654403</td>\n",
       "      <td>8.0</td>\n",
       "      <td>-172.595993</td>\n",
       "      <td>11.790700</td>\n",
       "      <td>257.606995</td>\n",
       "    </tr>\n",
       "  </tbody>\n",
       "</table>\n",
       "<p>20128551 rows × 15 columns</p>\n",
       "</div>"
      ],
      "text/plain": [
       "      event_id   hit_id       eta  layer_id  module_id  nch0  nch1  \\\n",
       "20042     1000  20043.0 -0.372461       2.0       97.0   3.0   2.0   \n",
       "21826     1000  21827.0 -0.364603       2.0      112.0   1.0   2.0   \n",
       "29668     1000  29669.0 -0.455122       4.0      193.0   3.0   2.0   \n",
       "30703     1000  30704.0 -0.453312       4.0      224.0   1.0   3.0   \n",
       "37345     1000  37346.0 -0.480718       6.0      313.0   2.0   2.0   \n",
       "38162     1000  38163.0 -0.479987       6.0      364.0   2.0   2.0   \n",
       "43651     1000  43652.0 -0.494011       8.0      391.0   2.0   2.0   \n",
       "44183     1000  44184.0 -0.493657       8.0      468.0   2.0   3.0   \n",
       "20043     1000  20044.0 -1.095952       2.0       97.0   2.0   5.0   \n",
       "21914     1000  21915.0 -1.093295       2.0      112.0   1.0   5.0   \n",
       "28817     1000  28818.0 -1.113451       4.0      161.0   2.0   5.0   \n",
       "29629     1000  29630.0 -1.112944       4.0      192.0   1.0   5.0   \n",
       "36144     1000  36145.0 -1.119386       6.0      209.0   2.0   5.0   \n",
       "42695     1000  42696.0 -1.123841       8.0      236.0   1.0   5.0   \n",
       "20044     1000  20045.0 -0.444202       2.0       97.0   2.0   3.0   \n",
       "29706     1000  29707.0 -0.611055       4.0      194.0   2.0   3.0   \n",
       "36678     1000  36679.0 -0.660674       6.0      262.0   3.0   3.0   \n",
       "43643     1000  43644.0 -0.687908       8.0      391.0   3.0   3.0   \n",
       "20045     1000  20046.0 -0.375021       2.0       97.0   1.0   3.0   \n",
       "20189     1000  20190.0 -0.385834       2.0       98.0   2.0   3.0   \n",
       "29698     1000  29699.0 -0.510141       4.0      194.0   2.0   3.0   \n",
       "29752     1000  29753.0 -0.512882       4.0      195.0   2.0   3.0   \n",
       "37408     1000  37409.0 -0.550877       6.0      316.0   3.0   2.0   \n",
       "43673     1000  43674.0 -0.570195       8.0      395.0   2.0   3.0   \n",
       "20046     1000  20047.0  0.000687       2.0       97.0   1.0   3.0   \n",
       "21947     1000  21948.0 -0.009091       2.0      113.0   2.0   3.0   \n",
       "22152     1000  22153.0  0.029532       2.0      114.0   3.0   3.0   \n",
       "30789     1000  30790.0  0.337004       4.0      226.0   2.0   3.0   \n",
       "38210     1000  38211.0  0.433398       6.0      367.0   2.0   3.0   \n",
       "45494     1000  45495.0  0.484890       8.0      628.0   1.0   2.0   \n",
       "...        ...      ...       ...       ...        ...   ...   ...   \n",
       "43857     2949  43858.0  1.133360       8.0      853.0   1.0   4.0   \n",
       "43859     2949  43860.0  1.090091       8.0      853.0   3.0   6.0   \n",
       "43861     2949  43862.0  1.103009       8.0      853.0   3.0   5.0   \n",
       "43862     2949  43863.0  1.084209       8.0      853.0   2.0   4.0   \n",
       "43863     2949  43864.0  1.166144       8.0      853.0   5.0   4.0   \n",
       "43865     2949  43866.0  1.110827       8.0      854.0   4.0   3.0   \n",
       "43866     2949  43867.0  1.155412       8.0      854.0   2.0   4.0   \n",
       "43867     2949  43868.0  1.098493       8.0      854.0   1.0   4.0   \n",
       "43870     2949  43871.0  1.036007       8.0      854.0   2.0   1.0   \n",
       "43872     2949  43873.0  1.048490       8.0      854.0   3.0   5.0   \n",
       "43873     2949  43874.0  1.185632       8.0      855.0   2.0   5.0   \n",
       "43877     2949  43878.0  1.179845       8.0      855.0   2.0   6.0   \n",
       "43881     2949  43882.0  1.186802       8.0      856.0   2.0   5.0   \n",
       "43882     2949  43883.0  1.039002       8.0      856.0   3.0   3.0   \n",
       "43883     2949  43884.0  1.076290       8.0      856.0   1.0   4.0   \n",
       "43884     2949  43885.0  1.186399       8.0      856.0   2.0   2.0   \n",
       "43885     2949  43886.0  1.183109       8.0      856.0   3.0   6.0   \n",
       "43886     2949  43887.0  1.032094       8.0      857.0   1.0   5.0   \n",
       "43888     2949  43889.0  1.134160       8.0      857.0   1.0   4.0   \n",
       "43890     2949  43891.0  1.054062       8.0      857.0   2.0   5.0   \n",
       "43891     2949  43892.0  1.118681       8.0      857.0   2.0   3.0   \n",
       "43892     2949  43893.0  1.130824       8.0      857.0   2.0   6.0   \n",
       "43894     2949  43895.0  1.033466       8.0      858.0   2.0   5.0   \n",
       "43895     2949  43896.0  1.160027       8.0      858.0   1.0   4.0   \n",
       "43896     2949  43897.0  1.131829       8.0      858.0   2.0   4.0   \n",
       "43897     2949  43898.0  1.086593       8.0      858.0   1.0   5.0   \n",
       "43898     2949  43899.0  1.037051       8.0      858.0   2.0   4.0   \n",
       "43899     2949  43900.0  1.074500       8.0      858.0   2.0   5.0   \n",
       "43900     2949  43901.0  1.153242       8.0      858.0   3.0   5.0   \n",
       "43901     2949  43902.0  1.188687       8.0      858.0   2.0   6.0   \n",
       "\n",
       "        particle_id            tpx            tpy            tpz  volume_id  \\\n",
       "20042  1.080958e+17      -2.771100      -0.023715      -1.515780        8.0   \n",
       "21826  1.080958e+17      -2.771340      -0.024289      -1.515410        8.0   \n",
       "29668  1.080958e+17      -2.770970       0.000340      -1.514780        8.0   \n",
       "30703  1.080958e+17      -2.770980      -0.001129      -1.515090        8.0   \n",
       "37345  1.080958e+17      -2.768900       0.027852      -1.513700        8.0   \n",
       "38162  1.080958e+17      -2.768750       0.026067      -1.514100        8.0   \n",
       "43651  1.080958e+17      -2.768500       0.058717      -1.512330        8.0   \n",
       "44183  1.080958e+17      -2.768770       0.057969      -1.511960        8.0   \n",
       "20043  5.944780e+17      -0.319480       0.002672      -0.442060        8.0   \n",
       "21914  5.944780e+17      -0.319730       0.004456      -0.442086        8.0   \n",
       "28817  5.944780e+17      -0.317850      -0.021670      -0.441839        8.0   \n",
       "29629  5.944780e+17      -0.318506      -0.020061      -0.441521        8.0   \n",
       "36144  5.944780e+17      -0.315475      -0.047228      -0.440719        8.0   \n",
       "42695  5.944780e+17      -0.308661      -0.080400      -0.439943        8.0   \n",
       "20044  3.242789e+17      -0.173558      -0.040211      -0.141946        8.0   \n",
       "29706  3.242789e+17      -0.176376      -0.021280      -0.141222        8.0   \n",
       "36678  3.242789e+17      -0.175910       0.003210      -0.141995        8.0   \n",
       "43643  3.242789e+17      -0.166469       0.039125      -0.134691        8.0   \n",
       "20045  9.052242e+17      -0.562073      -0.241740      -0.400883        8.0   \n",
       "20189  9.052242e+17      -0.562552      -0.241164      -0.400475        8.0   \n",
       "29698  9.052242e+17      -0.570939      -0.219893      -0.400044        8.0   \n",
       "29752  9.052242e+17      -0.571077      -0.218620      -0.400455        8.0   \n",
       "37408  9.052242e+17      -0.580369      -0.193576      -0.399001        8.0   \n",
       "43673  9.052242e+17      -0.587155      -0.161078      -0.393518        8.0   \n",
       "20046  8.602094e+17      -0.394165      -0.084308       0.248263        8.0   \n",
       "21947  8.602094e+17      -0.394291      -0.084734       0.248000        8.0   \n",
       "22152  8.602094e+17      -0.394039      -0.085074       0.248064        8.0   \n",
       "30789  8.602094e+17      -0.388094      -0.106753       0.248100        8.0   \n",
       "38210  8.602094e+17      -0.379584      -0.132309       0.247433        8.0   \n",
       "45494  8.602094e+17      -0.365828      -0.162365       0.249284        8.0   \n",
       "...             ...            ...            ...            ...        ...   \n",
       "43857  7.160778e+17      -0.605595       0.243456       0.945856        8.0   \n",
       "43859  4.188423e+17      -0.145556       0.123365       0.330025        8.0   \n",
       "43861  5.314352e+17      -0.107506       0.110159       0.192544        8.0   \n",
       "43862  1.351226e+17      -2.327500       1.066320       2.945770        8.0   \n",
       "43863  0.000000e+00 -286412.000000  779388.000000  557246.000000        8.0   \n",
       "43865  0.000000e+00 -416695.000000  695395.000000  585484.000000        8.0   \n",
       "43866  6.079961e+17      -0.477454       0.114009       0.680334        8.0   \n",
       "43867  9.232410e+17      -0.279385       0.050235       0.328462        8.0   \n",
       "43870  7.206687e+16      -0.236331      -0.007293       0.056858        8.0   \n",
       "43872  3.963200e+17      -0.151325       0.147511       0.233659        8.0   \n",
       "43873  4.503635e+17      -0.468310       0.198389       0.762144        8.0   \n",
       "43877  2.206904e+17      -0.243302       0.110001       0.519695        8.0   \n",
       "43881  5.674551e+17      -0.374397       0.032974       0.538951        8.0   \n",
       "43882  8.196612e+17      -0.230445       0.101295       0.225757        8.0   \n",
       "43883  6.845513e+17      -0.219764      -0.013500       0.248687        8.0   \n",
       "43884  0.000000e+00 -881295.000000 -392329.000000  263432.000000        8.0   \n",
       "43885  2.206904e+17      -0.243336       0.111666       0.519085        8.0   \n",
       "43886  1.441167e+17      -0.760234       0.011245       1.072010        8.0   \n",
       "43888  3.557861e+17      -0.377281      -0.019195       0.393595        8.0   \n",
       "43890  1.981661e+17      -0.337182       0.096598       0.487484        8.0   \n",
       "43891  4.524078e+15      -0.374243       0.096627       0.365412        8.0   \n",
       "43892  0.000000e+00 -454820.000000 -207428.000000  866090.000000        8.0   \n",
       "43894  1.441167e+17      -0.759758       0.010258       1.072290        8.0   \n",
       "43895  4.503696e+16      -0.424738      -0.037711       0.514999        8.0   \n",
       "43896  3.557861e+17      -0.377651      -0.019713       0.393023        8.0   \n",
       "43897  2.431986e+17      -0.436952      -0.024487       0.558772        8.0   \n",
       "43898  3.152616e+16      -0.760795      -0.011636       1.015890        8.0   \n",
       "43899  9.277431e+17      -0.474589       0.062368       0.675690        8.0   \n",
       "43900  6.935673e+17      -0.185994       0.058127       0.238343        8.0   \n",
       "43901  3.017529e+17      -0.386744      -0.026285       0.654403        8.0   \n",
       "\n",
       "                x          y           z  \n",
       "20042  -33.674000  -0.446628  -12.835400  \n",
       "21826  -32.010101  -0.440721  -11.932400  \n",
       "29668  -73.471901  -0.615863  -34.606300  \n",
       "30703  -71.580399  -0.604620  -33.572201  \n",
       "37345 -117.384003  -0.393283  -58.627499  \n",
       "38162 -115.445999  -0.404245  -57.565300  \n",
       "43651 -172.957001   0.472070  -88.960899  \n",
       "44183 -170.962006   0.427640  -87.866699  \n",
       "20043  -34.331402   1.433860  -45.662899  \n",
       "21914  -31.905899   1.406340  -42.300098  \n",
       "28817  -73.185799   0.304351  -99.402702  \n",
       "29629  -71.128799   0.445410  -96.549103  \n",
       "36144 -116.559998  -4.449530 -159.598999  \n",
       "42695 -171.828003 -15.719700 -237.389999  \n",
       "20044  -30.644300  -9.111690  -14.672900  \n",
       "29706  -71.110397 -16.725300  -47.468300  \n",
       "36678 -114.474998 -18.998600  -82.365402  \n",
       "43643 -170.772003 -11.519400 -127.250999  \n",
       "20045  -29.223301 -13.176100  -12.305600  \n",
       "20189  -30.537399 -13.749600  -13.244600  \n",
       "29698  -65.824799 -28.113899  -38.118999  \n",
       "29752  -67.573898 -28.780800  -39.343399  \n",
       "37408 -108.681999 -43.473400  -67.793701  \n",
       "43673 -161.380005 -59.464100 -103.467003  \n",
       "20046  -29.652300 -11.948900    0.021978  \n",
       "21947  -29.165100 -11.842300   -0.286176  \n",
       "22152  -31.193300 -12.272100    0.990079  \n",
       "30789  -68.419701 -21.346701   24.613701  \n",
       "38210 -110.496002 -34.464199   51.749401  \n",
       "45494 -162.298996 -54.941299   86.378304  \n",
       "...           ...        ...         ...  \n",
       "43857 -154.587997  77.141701  240.501999  \n",
       "43859 -157.389999  68.178802  226.268997  \n",
       "43861 -154.944000  76.002403  231.373993  \n",
       "43862 -155.266006  74.972298  225.776993  \n",
       "43863 -156.113007  72.264397  249.270004  \n",
       "43865 -159.639008  67.347801  234.563004  \n",
       "43866 -161.936996  57.189301  245.621002  \n",
       "43867 -161.429993  59.429298  229.328003  \n",
       "43870 -162.112000  56.416302  211.391006  \n",
       "43872 -159.444000  68.208199  217.024994  \n",
       "43873 -165.063004  50.625801  256.147003  \n",
       "43877 -166.550003  40.217400  252.425995  \n",
       "43881 -168.529007  38.357498  256.786011  \n",
       "43882 -168.615005  36.957100  213.406006  \n",
       "43883 -169.022995  30.319099  222.628998  \n",
       "43884 -168.975006  31.096500  255.136993  \n",
       "43885 -168.363998  41.039600  256.316986  \n",
       "43886 -170.867996  14.170600  210.089996  \n",
       "43888 -170.888000  15.220400  239.063995  \n",
       "43890 -171.033005  22.782400  217.470993  \n",
       "43891 -170.987000  20.382000  235.403000  \n",
       "43892 -170.979004  19.975700  238.884995  \n",
       "43894 -172.835999  14.193200  212.871994  \n",
       "43895 -171.947006   5.300890  247.423996  \n",
       "43896 -172.929993  15.132300  241.194000  \n",
       "43897 -172.613998  11.967600  227.255005  \n",
       "43898 -172.335007   9.185590  212.824005  \n",
       "43899 -171.798996   3.819890  222.281998  \n",
       "43900 -171.990997   5.744300  245.468002  \n",
       "43901 -172.595993  11.790700  257.606995  \n",
       "\n",
       "[20128551 rows x 15 columns]"
      ]
     },
     "execution_count": 60,
     "metadata": {},
     "output_type": "execute_result"
    }
   ],
   "source": [
    "e1 = pd.read_pickle('ideal_final_data_cut.pkl')\n",
    "e2 = pd.read_pickle('final_data2_cut.pkl')\n",
    "e3 = pd.read_pickle('final_data3_cut.pkl')\n",
    "e4 = pd.read_pickle('final_data4_cut.pkl')\n",
    "e5 = pd.read_pickle('final_data5_cut.pkl')\n",
    "e6 = pd.read_pickle('final_data6_cut.pkl')\n",
    "e7 = pd.read_pickle('final_data7_cut.pkl')\n",
    "e8 = pd.read_pickle('final_data8_cut.pkl')\n",
    "e9 = pd.read_pickle('final_data9_cut.pkl')\n",
    "e10 = pd.read_pickle('final_data10_cut.pkl')\n",
    "e11 = pd.read_pickle('final_data11_cut.pkl')\n",
    "e12 = pd.read_pickle('final_data12_cut.pkl')\n",
    "e13 = pd.read_pickle('final_data13_cut.pkl')\n",
    "e14 = pd.read_pickle('final_data14_cut.pkl')\n",
    "e15 = pd.read_pickle('final_data15_cut.pkl')\n",
    "e161 = pd.read_pickle('final_data161_cut.pkl')\n",
    "e162 = pd.read_pickle('final_data162_cut.pkl')\n",
    "\n",
    "e17 = pd.read_pickle('final_data17_cut.pkl')\n",
    "e18 = pd.read_pickle('final_data18_cut.pkl')\n",
    "e19 = pd.read_pickle('final_data19_cut.pkl')\n",
    "e20 = pd.read_pickle('final_data20_cut.pkl')\n",
    "e21 = pd.read_pickle('final_data21_cut.pkl')\n",
    "e22 = pd.read_pickle('final_data22_cut.pkl')\n",
    "e23 = pd.read_pickle('final_data23_cut.pkl')\n",
    "e24 = pd.read_pickle('final_data24_cut.pkl')\n",
    "e25 = pd.read_pickle('final_data25_cut.pkl')\n",
    "e26 = pd.read_pickle('final_data26_cut.pkl')\n",
    "e27 = pd.read_pickle('final_data27_cut.pkl')\n",
    "e = pd.concat([e1, e2, e3, e4, e5, e6, e7, e8, e9, e10, e11, e12, e13, e14, e15, e161, e162, e17, e18, e19, e20, e21, e22, e23, e24, e25, e26, e27])\n",
    "e"
   ]
  },
  {
   "cell_type": "code",
   "execution_count": 61,
   "metadata": {},
   "outputs": [],
   "source": [
    "ha = 1\n",
    "number_of_events = len(e['event_id'].unique())\n",
    "#per event based purity. TPR & FPR will not change either per event or not, if not per event based, excluding ha and number_of_events terms in the last part of its calculation.\n",
    "def purity_evaluation(tpr, fpr):\n",
    "    purity = []\n",
    "    for i in range(len(tpr)):\n",
    "        if tpr[i] == 0:\n",
    "            purity.append(0)\n",
    "        else:\n",
    "            purity.append(1/(1+fpr[i]/tpr[i]*(len(falses_test)/ha)/(len(trues_test)/number_of_events)))\n",
    "    return np.array(purity)"
   ]
  },
  {
   "cell_type": "code",
   "execution_count": 62,
   "metadata": {},
   "outputs": [
    {
     "data": {
      "text/plain": [
       "1650"
      ]
     },
     "execution_count": 62,
     "metadata": {},
     "output_type": "execute_result"
    }
   ],
   "source": [
    "number_of_events"
   ]
  },
  {
   "cell_type": "code",
   "execution_count": 63,
   "metadata": {},
   "outputs": [
    {
     "data": {
      "text/plain": [
       "array([6.06060606e-04, 6.06060606e-04, 6.06060606e-04, ...,\n",
       "       1.00000000e+00, 1.00000000e+00, 1.00000000e+00])"
      ]
     },
     "execution_count": 63,
     "metadata": {},
     "output_type": "execute_result"
    }
   ],
   "source": [
    "haha = np.array([1/ha] * len(falses_test))\n",
    "hehe = np.array([1/number_of_events] * len(trues_test))\n",
    "weights = np.array(list(hehe) + list(haha))\n",
    "weights"
   ]
  },
  {
   "cell_type": "code",
   "execution_count": 64,
   "metadata": {},
   "outputs": [],
   "source": [
    "pure_clasify = purity_evaluation(tpr_clasify, fpr_clasify)\n",
    "pure_clasify_c = purity_evaluation(tpr_clasify_c, fpr_clasify_c)\n",
    "pure_clasify_t = purity_evaluation(tpr_clasify_t, fpr_clasify_t)"
   ]
  },
  {
   "cell_type": "code",
   "execution_count": 65,
   "metadata": {},
   "outputs": [
    {
     "data": {
      "text/plain": [
       "Text(0.5, 1.0, 'Efficiency vs Purity')"
      ]
     },
     "execution_count": 65,
     "metadata": {},
     "output_type": "execute_result"
    },
    {
     "data": {
      "image/png": "[encoded data removed]",
      "text/plain": [
       "<Figure size 432x288 with 1 Axes>"
      ]
     },
     "metadata": {
      "needs_background": "light"
     },
     "output_type": "display_data"
    }
   ],
   "source": [
    "plt.plot(pure_clasify, tpr_clasify)\n",
    "plt.plot(pure_clasify_c, tpr_clasify_c)\n",
    "plt.plot(pure_clasify_t, tpr_clasify_t)\n",
    "plt.ylabel('efficiency')\n",
    "plt.xlabel('purity')\n",
    "plt.legend(['x-y-z_prediction', 'ch1-num_prediction', 'combined_approach'])\n",
    "plt.title('Efficiency vs Purity')"
   ]
  },
  {
   "cell_type": "code",
   "execution_count": null,
   "metadata": {},
   "outputs": [],
   "source": []
  },
  {
   "cell_type": "code",
   "execution_count": null,
   "metadata": {},
   "outputs": [],
   "source": []
  },
  {
   "cell_type": "code",
   "execution_count": 66,
   "metadata": {},
   "outputs": [],
   "source": [
    "pur, eff, thr = precision_recall_curve(indicator_test, predictions_clasify, sample_weight = weights)\n",
    "pur_c, eff_c, thr_c = precision_recall_curve(indicator_test, predictions_clasify_c, sample_weight = weights)\n",
    "pur_t, eff_t, thr_t = precision_recall_curve(indicator_test, predictions_clasify_t, sample_weight = weights)"
   ]
  },
  {
   "cell_type": "code",
   "execution_count": 67,
   "metadata": {},
   "outputs": [
    {
     "data": {
      "image/png": "[encoded data removed]",
      "text/plain": [
       "<Figure size 432x288 with 1 Axes>"
      ]
     },
     "metadata": {
      "needs_background": "light"
     },
     "output_type": "display_data"
    }
   ],
   "source": [
    "plt.plot(pur, eff)\n",
    "plt.plot(pur_c, eff_c)\n",
    "plt.plot(pur_t, eff_t)\n",
    "plt.ylabel('efficiency')\n",
    "plt.xlabel('purity')\n",
    "plt.legend(['spatial', 'cluster', 'combined'])\n",
    "plt.title('Doublet Efficiency vs Purity')\n",
    "plt.savefig('doublet purity vs efficiency.pdf', bbox_inches='tight')"
   ]
  },
  {
   "cell_type": "code",
   "execution_count": 68,
   "metadata": {},
   "outputs": [
    {
     "data": {
      "text/plain": [
       "array([0.9691829 , 0.9691844 , 0.9691869 , ..., 0.99260527, 0.9926053 ,\n",
       "       0.9926054 ], dtype=float32)"
      ]
     },
     "execution_count": 68,
     "metadata": {},
     "output_type": "execute_result"
    }
   ],
   "source": [
    "the_cuts = np.array([j for i, j in zip(eff_t[:-1], thr_t) if (i >= 0.85 and i <= 0.95)])\n",
    "the_cuts"
   ]
  },
  {
   "cell_type": "code",
   "execution_count": 69,
   "metadata": {},
   "outputs": [
    {
     "data": {
      "text/plain": [
       "0.9853059"
      ]
     },
     "execution_count": 69,
     "metadata": {},
     "output_type": "execute_result"
    }
   ],
   "source": [
    "np.mean(the_cuts)"
   ]
  },
  {
   "cell_type": "code",
   "execution_count": 70,
   "metadata": {},
   "outputs": [],
   "source": [
    "model_clasify.save('ff_model_clasify_cut.h5')\n",
    "model_clasify_c.save('ff_model_clasify_c_cut.h5')\n",
    "model_clasify_t.save('ff_model_clasify_t_cut.h5')\n"
   ]
  },
  {
   "cell_type": "code",
   "execution_count": 71,
   "metadata": {},
   "outputs": [],
   "source": [
    "model_clasify = load_model('ff_model_clasify_cut.h5')\n",
    "model_clasify_c = load_model('ff_model_clasify_c_cut.h5')\n",
    "model_clasify_t = load_model('ff_model_clasify_t_cut.h5')"
   ]
  },
  {
   "cell_type": "code",
   "execution_count": null,
   "metadata": {},
   "outputs": [],
   "source": []
  }
 ],
 "metadata": {
  "kernelspec": {
   "display_name": "Python 2",
   "language": "python",
   "name": "python2"
  },
  "language_info": {
   "codemirror_mode": {
    "name": "ipython",
    "version": 3
   },
   "file_extension": ".py",
   "mimetype": "text/x-python",
   "name": "python",
   "nbconvert_exporter": "python",
   "pygments_lexer": "ipython3",
   "version": "3.5.2"
  }
 },
 "nbformat": 4,
 "nbformat_minor": 2
}
