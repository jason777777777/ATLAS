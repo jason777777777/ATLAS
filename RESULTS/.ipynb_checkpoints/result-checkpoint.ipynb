{
 "cells": [
  {
   "cell_type": "code",
   "execution_count": 1,
   "metadata": {},
   "outputs": [
    {
     "name": "stderr",
     "output_type": "stream",
     "text": [
      "Using TensorFlow backend.\n"
     ]
    }
   ],
   "source": [
    "from keras.models import Sequential\n",
    "from keras.models import load_model\n",
    "from keras.layers import Dense, Activation\n",
    "from keras.callbacks import EarlyStopping\n",
    "from keras import optimizers\n",
    "import numpy as np\n",
    "import matplotlib.pyplot as plt\n",
    "import pandas as pd\n",
    "import scipy as sp\n",
    "import numpy as np\n",
    "import matplotlib.pyplot as plt\n",
    "from mpl_toolkits.mplot3d import Axes3D\n",
    "from sklearn.metrics import roc_curve, precision_recall_curve "
   ]
  },
  {
   "cell_type": "code",
   "execution_count": 2,
   "metadata": {},
   "outputs": [],
   "source": [
    "ddiff1 = np.load('normalized_spatial_cluster_24_sig.npy')\n",
    "ddiff0 = np.load('normalized_spatial_cluster_24_bkg.npy')"
   ]
  },
  {
   "cell_type": "code",
   "execution_count": null,
   "metadata": {},
   "outputs": [],
   "source": [
    "fig, axs = plt.subplots(2, 3)\n",
    "b1 = np.linspace(-1, 1, 50)\n",
    "axs[0, 0].hist(ddiff1[:, 0], histtype='step', color = 'green', label='signal_dphi', density = True, bins = b1)\n",
    "axs[0, 0].hist(ddiff0[:, 0], histtype='step', color='green', linestyle='dashed', label='bkg_dphi', density = True, bins = b1)\n",
    "axs[0, 0].set_title('dphi')\n",
    "\n",
    "b2 = np.linspace(-3, 3, 50)\n",
    "axs[0, 1].hist(ddiff1[:, 1], histtype='step', color = 'yellow', label='signal_dz', density = True, bins = b2)\n",
    "axs[0, 1].hist(ddiff0[:, 1], histtype='step', color='yellow', linestyle='dashed', label='bkg_dz', density = True, bins = b2)\n",
    "axs[0, 1].set_title('dz')\n",
    "\n",
    "b3 = np.linspace(-3, 3, 50)\n",
    "axs[0, 2].hist(ddiff1[:, 2], histtype='step', color = 'red', label='signal_dr', density = True, bins = b3)\n",
    "axs[0, 2].hist(ddiff0[:, 2], histtype='step', color='red', linestyle='dashed', label='bkg_dr', density = True, bins = b3)\n",
    "axs[0, 2].set_title('dr')\n",
    "\n",
    "b4 = np.linspace(-1, 1, 50)\n",
    "axs[1, 0].hist(ddiff1[:, 3], histtype='step', color = 'blue', label='signal_phislope', density = True, bins = b4)\n",
    "axs[1, 0].hist(ddiff0[:, 3], histtype='step', color='blue', linestyle='dashed', label='bkg_phislope', density = True, bins = b4)\n",
    "axs[1, 0].set_title('phi_slope')\n",
    "\n",
    "b5 = np.linspace(-3, 3, 50)\n",
    "axs[1, 1].hist(ddiff1[:, 4], histtype='step', color = 'orange', label='signal_z0', density = True, bins = b5)\n",
    "axs[1, 1].hist(ddiff0[:, 4], histtype='step', color='orange', linestyle='dashed', label='bkg_z0', density = True, bins = b5)\n",
    "axs[1, 1].set_title('z0')\n",
    "\n",
    "b6 = np.linspace(-3, 3, 50)\n",
    "axs[1, 2].hist(ddiff1[:, 5], histtype='step', color = 'purple', label='signal_deta', density = True, bins = b5)\n",
    "axs[1, 2].hist(ddiff0[:, 5], histtype='step', color='purple', linestyle='dashed', label='bkg_deta', density = True, bins = b5)\n",
    "axs[1, 2].set_title('deta')\n",
    "plt.tight_layout()\n",
    "\n",
    "fig.legend(['sig', 'bkg'])\n",
    "fig.savefig('spatial parameters distribution.pdf', bbox_inches='tight')"
   ]
  },
  {
   "cell_type": "code",
   "execution_count": null,
   "metadata": {},
   "outputs": [],
   "source": [
    "num_triplets = np.load('numbers_of_spatial_triplets_testing.npy')\n",
    "num_triplets_c = np.load('numbers_of_cluster_triplets_testing.npy')\n",
    "num_triplets_t = np.load('numbers_of_combined_triplets_testing.npy')"
   ]
  },
  {
   "cell_type": "code",
   "execution_count": null,
   "metadata": {},
   "outputs": [],
   "source": [
    "fig, ax = plt.subplots()\n",
    "data_range = ('$\\eta$ [0, 1], $p_t$[0, 0.5]GeV', '$\\eta$[1, 1.5], $p_t$[0, 0.5]GeV', '$\\eta$[1.5, 2.1], $p_t$[0, 0.5]GeV',\n",
    "              '$\\eta$[0, 1], $p_t$[0.5, 1.0]GeV', '$\\eta$[1, 1.5], $p_t$[0.5, 1.0]GeV', '$\\eta$[1.5, 2.1], $p_t$[0.5, 1.0]GeV', \n",
    "              '$\\eta$[0, 1], $p_t$[1.0, 1000]GeV', '$\\eta$[1, 1.5], $p_t$[1.0, 1000]GeV', '$\\eta$[1.5, 2.1], $p_t$[1.0, 1000]GeV')\n",
    "y_pos = np.arange(len(data_range))\n",
    "height = 0.2\n",
    "\n",
    "\n",
    "rects1 = ax.barh(y_pos, num_triplets, height, align='center')\n",
    "rects2 = ax.barh(y_pos + 0.8*height, num_triplets_c, height, align='center')\n",
    "rects3 = ax.barh(y_pos - 0.8*height, num_triplets_t, height, align='center')                 \n",
    "\n",
    "ax.set_yticks(y_pos)\n",
    "ax.set_yticklabels(data_range)\n",
    "\n",
    "plt.legend(['spatial', 'cluster', 'combined'])\n",
    "plt.xlabel('number of triplets')\n",
    "plt.xscale('log')\n",
    "plt.title('all triplets for testing')\n",
    "plt.show()\n",
    "fig.savefig('pt eta distribution.pdf', bbox_inches='tight')"
   ]
  },
  {
   "cell_type": "code",
   "execution_count": null,
   "metadata": {},
   "outputs": [],
   "source": []
  },
  {
   "cell_type": "code",
   "execution_count": null,
   "metadata": {},
   "outputs": [],
   "source": [
    "predictions_spatial_sig = np.load('prediction_scores_spatial_sig.npy')\n",
    "predictions_spatial_bkg = np.load('prediction_scores_spatial_bkg.npy')\n",
    "predictions_cluster_sig = np.load('prediction_scores_cluster_sig.npy')\n",
    "predictions_cluster_bkg = np.load('prediction_scores_cluster_bkg.npy')\n",
    "predictions_combined_sig = np.load('prediction_scores_combined_sig.npy')\n",
    "predictions_combined_bkg = np.load('prediction_scores_combined_bkg.npy')"
   ]
  },
  {
   "cell_type": "code",
   "execution_count": null,
   "metadata": {},
   "outputs": [],
   "source": [
    "bb = np.linspace(0, 1, 50)\n",
    "plt.hist(predictions_spatial_sig, histtype='step', color='green', label='signal_sp', density=True, bins = bb)\n",
    "plt.hist(predictions_spatial_bkg, histtype='step', color='green', linestyle='dashed', label='bkg_sp', density =True, bins = bb)\n",
    "plt.hist(predictions_cluster_sig, histtype='step', color='orange', label='signal_cl', density =True, bins = bb)\n",
    "plt.hist(predictions_cluster_bkg, histtype='step', color='orange', linestyle='dashed', label='bkg_cl', density =True, bins = bb)\n",
    "plt.hist(predictions_combined_sig, histtype='step', color='blue', label='signal_comb', density =True, bins = bb)\n",
    "plt.hist(predictions_combined_bkg, histtype='step', color='blue', linestyle='dashed', label='bkg_comb', density =True, bins = bb)\n",
    "plt.yscale('log')\n",
    "plt.xlabel('indicator label')\n",
    "plt.ylabel('counts')\n",
    "plt.legend()\n",
    "plt.savefig('prediction score distribution.pdf', bbox_inches='tight')"
   ]
  },
  {
   "cell_type": "code",
   "execution_count": null,
   "metadata": {},
   "outputs": [],
   "source": [
    "tpr_clasify, fpr_clasify = np.load('tpr_spatial.npy'), np.load('fpr_spatial.npy')\n",
    "tpr_clasify_c, fpr_clasify_c = np.load('tpr_cluster.npy'), np.load('fpr_cluster.npy')\n",
    "tpr_clasify_t, fpr_clasify_t = np.load('tpr_combined.npy'), np.load('fpr_combined.npy')"
   ]
  },
  {
   "cell_type": "code",
   "execution_count": null,
   "metadata": {},
   "outputs": [],
   "source": [
    "plt.plot(fpr_clasify, tpr_clasify)\n",
    "plt.plot(fpr_clasify_c, tpr_clasify_c)\n",
    "plt.plot(fpr_clasify_t, tpr_clasify_t)\n",
    "plt.yscale('log')\n",
    "plt.xlabel('false positive rate')\n",
    "plt.ylabel('true positive rate')\n",
    "plt.legend(['spatial', 'cluster', 'combined'])\n",
    "plt.title('ROC-CURVE')\n",
    "plt.savefig('roc curve.pdf', bbox_inches='tight')"
   ]
  },
  {
   "cell_type": "code",
   "execution_count": null,
   "metadata": {},
   "outputs": [],
   "source": [
    "pur, eff = np.load('overall_purity_spatial.npy'), np.load('overall_efficiency_spatial.npy')\n",
    "pur_c, eff_c = np.load('overall_purity_cluster.npy'), np.load('overall_efficiency_cluster.npy')\n",
    "pur_t, eff_t = np.load('overall_purity_combined.npy'), np.load('overall_efficiency_combined.npy')"
   ]
  },
  {
   "cell_type": "code",
   "execution_count": null,
   "metadata": {},
   "outputs": [],
   "source": [
    "plt.plot(pur, eff)\n",
    "plt.plot(pur_c, eff_c)\n",
    "plt.plot(pur_t, eff_t)\n",
    "plt.ylabel('efficiency')\n",
    "plt.xlabel('purity')\n",
    "plt.legend(['spatial', 'cluster', 'combined'])\n",
    "plt.title('Efficiency vs Purity _sklearn')\n",
    "plt.savefig('purity vs efficiency.pdf', bbox_inches='tight')"
   ]
  },
  {
   "cell_type": "code",
   "execution_count": null,
   "metadata": {},
   "outputs": [],
   "source": []
  },
  {
   "cell_type": "code",
   "execution_count": null,
   "metadata": {},
   "outputs": [],
   "source": [
    "purities = np.load('purity_spatial.npy')\n",
    "purities_c = np.load('purity_cluster.npy')\n",
    "purities_t = np.load('purity_combined.npy')\n",
    "purities_uncertainty_ = np.load('purity_spatial_uncertainty.npy')\n",
    "purities_c_uncertainty_ = np.load('purity_cluster_uncertainty.npy')\n",
    "purities_t_uncertainty_ = np.load('purity_combined_uncertainty.npy')\n",
    "\n",
    "purities_uncertainty = np.array([i[1] - i[0] for i in purities_uncertainty_])\n",
    "purities_c_uncertainty = np.array([i[1] - i[0] for i in purities_c_uncertainty_])\n",
    "purities_t_uncertainty = np.array([i[1] - i[0] for i in purities_t_uncertainty_])"
   ]
  },
  {
   "cell_type": "code",
   "execution_count": null,
   "metadata": {},
   "outputs": [],
   "source": [
    "fig, ax = plt.subplots()\n",
    "data_range = ('$\\eta$ [0, 1], $p_t$[0, 0.5]GeV', '$\\eta$[1, 1.5], $p_t$[0, 0.5]GeV', '$\\eta$[1.5, 2.1], $p_t$[0, 0.5]GeV', \n",
    "              '$\\eta$[0, 1], $p_t$[0.5, 1.0]GeV', '$\\eta$[1, 1.5], $p_t$[0.5, 1.0]GeV', '$\\eta$[1.5, 2.1], $p_t$[0.5, 1.0]GeV',\n",
    "              '$\\eta$[0, 1], $p_t$[1.0, 1000]GeV', '$\\eta$[1, 1.5], $p_t$[1.0, 1000]GeV', '$\\eta$[1.5, 2.1], $p_t$[1.0, 1000]GeV')\n",
    "y_pos = np.arange(len(data_range))\n",
    "height = 0.2\n",
    "\n",
    "rects1 = ax.barh(y_pos, np.array(purities), height, align='center')\n",
    "rects2 = ax.barh(y_pos + 0.9*height, np.array(purities_c), height, align='center')\n",
    "rects3 = ax.barh(y_pos - 0.9*height, np.array(purities_t), height, align='center') \n",
    "rects1_ = ax.barh(y_pos, np.array(purities_uncertainty), height, align='center', left = np.array(purities_uncertainty_[:, 0]), color = 'C7', hatch = '////////')\n",
    "rects2_ = ax.barh(y_pos + 0.9*height, np.array(purities_c_uncertainty), height, align='center', left = np.array(purities_c_uncertainty_[:, 0]), color = 'C7', hatch = '////////')\n",
    "rects3_ = ax.barh(y_pos - 0.9*height, np.array(purities_t_uncertainty), height, align='center', left = np.array(purities_t_uncertainty_[:, 0]), color = 'C7', hatch = '////////')\n",
    "\n",
    "\n",
    "ax.set_yticks(y_pos)\n",
    "ax.set_yticklabels(data_range)\n",
    "\n",
    "plt.xlabel('purity at 97% efficiency')\n",
    "plt.legend(['spatial', 'cluster', 'combined', 'uncertainty'], loc = 'upper center')\n",
    "plt.xscale('log')\n",
    "plt.xlim([0.0000001, 1.3])\n",
    "\n",
    "plt.title('purities distribution')\n",
    "\n",
    "plt.show()\n",
    "fig.savefig('purity distribution.pdf', bbox_inches='tight')"
   ]
  }
 ],
 "metadata": {
  "kernelspec": {
   "display_name": "Python 3",
   "language": "python",
   "name": "python3"
  },
  "language_info": {
   "codemirror_mode": {
    "name": "ipython",
    "version": 3
   },
   "file_extension": ".py",
   "mimetype": "text/x-python",
   "name": "python",
   "nbconvert_exporter": "python",
   "pygments_lexer": "ipython3",
   "version": "3.5.2"
  }
 },
 "nbformat": 4,
 "nbformat_minor": 2
}
