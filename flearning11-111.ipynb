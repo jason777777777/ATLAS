{
 "cells": [
  {
   "cell_type": "code",
   "execution_count": 1,
   "metadata": {},
   "outputs": [
    {
     "name": "stderr",
     "output_type": "stream",
     "text": [
      "Using TensorFlow backend.\n"
     ]
    }
   ],
   "source": [
    "from keras.models import Sequential\n",
    "from keras.models import load_model\n",
    "from keras.layers import Dense, Activation\n",
    "from keras.callbacks import EarlyStopping\n",
    "from keras import optimizers\n",
    "import numpy as np\n",
    "import matplotlib.pyplot as plt\n",
    "import pandas as pd\n",
    "import scipy as sp\n",
    "import numpy as np\n",
    "import matplotlib.pyplot as plt\n",
    "from mpl_toolkits.mplot3d import Axes3D\n",
    "from sklearn.metrics import roc_curve, precision_recall_curve "
   ]
  },
  {
   "cell_type": "code",
   "execution_count": 2,
   "metadata": {},
   "outputs": [],
   "source": [
    "c1 = np.load('f_ideal_ch1_number_1_cut.npy')\n",
    "c2 = np.load('f_ideal_ch1_number_2_cut.npy')\n",
    "c3 = np.load('f_ideal_ch1_number_3_cut.npy')\n",
    "c4 = np.load('f_ideal_ch1_number_4_cut.npy')\n",
    "c5 = np.load('f_ideal_ch1_number_5_cut.npy')\n",
    "c6 = np.load('f_ideal_ch1_number_6_cut.npy')\n",
    "c7 = np.load('f_ideal_ch1_number_7_cut.npy')\n",
    "c8 = np.load('f_ideal_ch1_number_8_cut.npy')\n",
    "c9 = np.load('f_ideal_ch1_number_9_cut.npy')\n",
    "c10 = np.load('f_ideal_ch1_number_10_cut.npy')\n",
    "c11 = np.load('f_ideal_ch1_number_11_cut.npy')\n",
    "c12 = np.load('f_ideal_ch1_number_12_cut.npy')\n",
    "c13 = np.load('f_ideal_ch1_number_13_cut.npy')\n",
    "c14 = np.load('f_ideal_ch1_number_14_cut.npy')\n",
    "c15 = np.load('f_ideal_ch1_number_15_cut.npy')\n",
    "c161 = np.load('f_ideal_ch1_number_161_cut.npy')\n",
    "c162 = np.load('f_ideal_ch1_number_162_cut.npy')\n",
    "\n",
    "c17 = np.load('f_ideal_ch1_number_17_cut.npy')\n",
    "c18 = np.load('f_ideal_ch1_number_18_cut.npy')\n",
    "c19 = np.load('f_ideal_ch1_number_19_cut.npy')\n",
    "c20 = np.load('f_ideal_ch1_number_20_cut.npy')\n",
    "c21 = np.load('f_ideal_ch1_number_21_cut.npy')\n",
    "c22 = np.load('f_ideal_ch1_number_22_cut.npy')\n",
    "c23 = np.load('f_ideal_ch1_number_23_cut.npy')\n",
    "c24 = np.load('f_ideal_ch1_number_24_cut.npy')\n",
    "c25 = np.load('f_ideal_ch1_number_25_cut.npy')\n",
    "c26 = np.load('f_ideal_ch1_number_26_cut.npy')\n",
    "c27 = np.load('f_ideal_ch1_number_27_cut.npy')\n",
    "\n",
    "c1_0 = np.load('f_all_ch1_number_cut.npy')\n",
    "CH11 = np.concatenate((c1, c2, c3, c4, c5, c6, c7, c8, c9, c10, c11, c12, c13, c14, c15, c161, c162, c17, c18, c19, c20, c21, c22, c23, c24, c25, c26, c27)).copy()\n",
    "CH10 = np.copy(c1_0)"
   ]
  },
  {
   "cell_type": "code",
   "execution_count": 3,
   "metadata": {},
   "outputs": [
    {
     "data": {
      "text/plain": [
       "759690"
      ]
     },
     "execution_count": 3,
     "metadata": {},
     "output_type": "execute_result"
    }
   ],
   "source": [
    "len(c1) + len(c2) + len(c3) + len(c4) + len(c5) + len(c6) + len(c7) + len(c8) + len(c9) + len(c10)"
   ]
  },
  {
   "cell_type": "code",
   "execution_count": 4,
   "metadata": {},
   "outputs": [
    {
     "data": {
      "text/plain": [
       "5020738"
      ]
     },
     "execution_count": 4,
     "metadata": {},
     "output_type": "execute_result"
    }
   ],
   "source": [
    "len(CH11)"
   ]
  },
  {
   "cell_type": "code",
   "execution_count": 5,
   "metadata": {},
   "outputs": [],
   "source": [
    "d1 = np.load('f_ideal_diff_lay24_1_cut.npy')\n",
    "d2 = np.load('f_ideal_diff_lay24_2_cut.npy')\n",
    "d3 = np.load('f_ideal_diff_lay24_3_cut.npy')\n",
    "d4 = np.load('f_ideal_diff_lay24_4_cut.npy')\n",
    "d5 = np.load('f_ideal_diff_lay24_5_cut.npy')\n",
    "d6 = np.load('f_ideal_diff_lay24_6_cut.npy')\n",
    "d7 = np.load('f_ideal_diff_lay24_7_cut.npy')\n",
    "d8 = np.load('f_ideal_diff_lay24_8_cut.npy')\n",
    "d9 = np.load('f_ideal_diff_lay24_9_cut.npy')\n",
    "d10 = np.load('f_ideal_diff_lay24_10_cut.npy')\n",
    "d11 = np.load('f_ideal_diff_lay24_11_cut.npy')\n",
    "d12 = np.load('f_ideal_diff_lay24_12_cut.npy')\n",
    "d13 = np.load('f_ideal_diff_lay24_13_cut.npy')\n",
    "d14 = np.load('f_ideal_diff_lay24_14_cut.npy')\n",
    "d15 = np.load('f_ideal_diff_lay24_15_cut.npy')\n",
    "d161 = np.load('f_ideal_diff_lay24_161_cut.npy')\n",
    "d162 = np.load('f_ideal_diff_lay24_162_cut.npy')\n",
    "d17 = np.load('f_ideal_diff_lay24_17_cut.npy')\n",
    "d18 = np.load('f_ideal_diff_lay24_18_cut.npy')\n",
    "d19 = np.load('f_ideal_diff_lay24_19_cut.npy')\n",
    "d20 = np.load('f_ideal_diff_lay24_20_cut.npy')\n",
    "d21 = np.load('f_ideal_diff_lay24_21_cut.npy')\n",
    "d22 = np.load('f_ideal_diff_lay24_22_cut.npy')\n",
    "d23 = np.load('f_ideal_diff_lay24_23_cut.npy')\n",
    "d24 = np.load('f_ideal_diff_lay24_24_cut.npy')\n",
    "d25 = np.load('f_ideal_diff_lay24_25_cut.npy')\n",
    "d26 = np.load('f_ideal_diff_lay24_26_cut.npy')\n",
    "d27 = np.load('f_ideal_diff_lay24_27_cut.npy')\n",
    "\n",
    "e1 = np.load('f_ideal_diff_lay46_1_cut.npy')\n",
    "e2 = np.load('f_ideal_diff_lay46_2_cut.npy')\n",
    "e3 = np.load('f_ideal_diff_lay46_3_cut.npy')\n",
    "e4 = np.load('f_ideal_diff_lay46_4_cut.npy')\n",
    "e5 = np.load('f_ideal_diff_lay46_5_cut.npy')\n",
    "e6 = np.load('f_ideal_diff_lay46_6_cut.npy')\n",
    "e7 = np.load('f_ideal_diff_lay46_7_cut.npy')\n",
    "e8 = np.load('f_ideal_diff_lay46_8_cut.npy')\n",
    "e9 = np.load('f_ideal_diff_lay46_9_cut.npy')\n",
    "e10 = np.load('f_ideal_diff_lay46_10_cut.npy')\n",
    "e11 = np.load('f_ideal_diff_lay46_11_cut.npy')\n",
    "e12 = np.load('f_ideal_diff_lay46_12_cut.npy')\n",
    "e13 = np.load('f_ideal_diff_lay46_13_cut.npy')\n",
    "e14 = np.load('f_ideal_diff_lay46_14_cut.npy')\n",
    "e15 = np.load('f_ideal_diff_lay46_15_cut.npy')\n",
    "e161 = np.load('f_ideal_diff_lay46_161_cut.npy')\n",
    "e162 = np.load('f_ideal_diff_lay46_162_cut.npy')\n",
    "e17 = np.load('f_ideal_diff_lay46_17_cut.npy')\n",
    "e18 = np.load('f_ideal_diff_lay46_18_cut.npy')\n",
    "e19 = np.load('f_ideal_diff_lay46_19_cut.npy')\n",
    "e20 = np.load('f_ideal_diff_lay46_20_cut.npy')\n",
    "e21 = np.load('f_ideal_diff_lay46_21_cut.npy')\n",
    "e22 = np.load('f_ideal_diff_lay46_22_cut.npy')\n",
    "e23 = np.load('f_ideal_diff_lay46_23_cut.npy')\n",
    "e24 = np.load('f_ideal_diff_lay46_24_cut.npy')\n",
    "e25 = np.load('f_ideal_diff_lay46_25_cut.npy')\n",
    "e26 = np.load('f_ideal_diff_lay46_26_cut.npy')\n",
    "e27 = np.load('f_ideal_diff_lay46_27_cut.npy')\n",
    "\n",
    "ddiff1 = np.concatenate((d1, d2, d3, d4, d5, d6, d7, d8, d9, d10, d11, d12, d13, d14, d15, d161, d162, d17, d18, d19, d20, d21, d22, d23, d24, d25, d26, d27)).copy()\n",
    "dddiff1 = np.concatenate((e1, e2, e3, e4, e5, e6, e7, e8, e9, e10, e11, e12, e13, e14, e15, e161, e162, e17, e18, e19, e20, e21, e22, e23, e24, e25, e26, e27))[:, 0:6].copy()\n",
    "diff1 = np.c_[ddiff1, dddiff1]\n",
    "\n",
    "ddiff0 = np.load('f_all_diff_lay24_cut.npy')\n",
    "dddiff0 = np.load('f_all_diff_lay46_cut.npy')[:, 0:6].copy()\n",
    "diff0 = np.c_[ddiff0, dddiff0]"
   ]
  },
  {
   "cell_type": "code",
   "execution_count": 6,
   "metadata": {},
   "outputs": [],
   "source": [
    "ch11 = CH11[:, 0:2]\n",
    "ch10 = CH10[:, 0:2]\n",
    "\n",
    "di1 = diff1[:, 0:6]\n",
    "di0 = diff0[:, 0:6]"
   ]
  },
  {
   "cell_type": "code",
   "execution_count": 7,
   "metadata": {},
   "outputs": [
    {
     "data": {
      "text/plain": [
       "array([[2., 2., 2.],\n",
       "       [2., 2., 2.],\n",
       "       [2., 3., 2.],\n",
       "       ...,\n",
       "       [4., 4., 4.],\n",
       "       [3., 3., 3.],\n",
       "       [1., 1., 2.]])"
      ]
     },
     "execution_count": 7,
     "metadata": {},
     "output_type": "execute_result"
    }
   ],
   "source": [
    "CH11"
   ]
  },
  {
   "cell_type": "code",
   "execution_count": 8,
   "metadata": {},
   "outputs": [
    {
     "data": {
      "text/plain": [
       "60000000"
      ]
     },
     "execution_count": 8,
     "metadata": {},
     "output_type": "execute_result"
    }
   ],
   "source": [
    "len(diff0)"
   ]
  },
  {
   "cell_type": "code",
   "execution_count": 9,
   "metadata": {},
   "outputs": [],
   "source": [
    "trues = np.array(len(ch11)*[1])\n",
    "falses = np.array(len(ch10)*[0])"
   ]
  },
  {
   "cell_type": "code",
   "execution_count": 10,
   "metadata": {},
   "outputs": [
    {
     "data": {
      "text/plain": [
       "(60000000, 5020738)"
      ]
     },
     "execution_count": 10,
     "metadata": {},
     "output_type": "execute_result"
    }
   ],
   "source": [
    "len(falses), len(trues)"
   ]
  },
  {
   "cell_type": "code",
   "execution_count": 11,
   "metadata": {},
   "outputs": [
    {
     "data": {
      "text/plain": [
       "0.14336471150322416"
      ]
     },
     "execution_count": 11,
     "metadata": {},
     "output_type": "execute_result"
    }
   ],
   "source": [
    "5020738/(30000000+5020738)"
   ]
  },
  {
   "cell_type": "code",
   "execution_count": null,
   "metadata": {},
   "outputs": [],
   "source": []
  },
  {
   "cell_type": "code",
   "execution_count": 12,
   "metadata": {},
   "outputs": [],
   "source": [
    "train_number_signal = int(np.rint(len(ch11)*0))   \n",
    "validation_number_signal = int(np.rint(len(ch11)*0))\n",
    "test_number_signal = len(ch11)-train_number_signal-validation_number_signal\n",
    "\n",
    "train_number_background = int(np.rint(len(ch10)*0))\n",
    "validation_number_background = int(np.rint(len(ch10)*0))\n",
    "test_number_background = len(ch10)-train_number_background-validation_number_background"
   ]
  },
  {
   "cell_type": "code",
   "execution_count": 13,
   "metadata": {},
   "outputs": [
    {
     "data": {
      "text/plain": [
       "0"
      ]
     },
     "execution_count": 13,
     "metadata": {},
     "output_type": "execute_result"
    }
   ],
   "source": [
    "train_number_signal"
   ]
  },
  {
   "cell_type": "code",
   "execution_count": 14,
   "metadata": {},
   "outputs": [
    {
     "data": {
      "text/plain": [
       "0"
      ]
     },
     "execution_count": 14,
     "metadata": {},
     "output_type": "execute_result"
    }
   ],
   "source": [
    "train_number_background"
   ]
  },
  {
   "cell_type": "code",
   "execution_count": 15,
   "metadata": {},
   "outputs": [
    {
     "data": {
      "text/plain": [
       "60000000"
      ]
     },
     "execution_count": 15,
     "metadata": {},
     "output_type": "execute_result"
    }
   ],
   "source": [
    "test_number_background"
   ]
  },
  {
   "cell_type": "code",
   "execution_count": 16,
   "metadata": {},
   "outputs": [
    {
     "data": {
      "text/plain": [
       "5020738"
      ]
     },
     "execution_count": 16,
     "metadata": {},
     "output_type": "execute_result"
    }
   ],
   "source": [
    "test_number_signal"
   ]
  },
  {
   "cell_type": "code",
   "execution_count": 17,
   "metadata": {},
   "outputs": [],
   "source": [
    "np.random.seed(0)\n",
    "indices_1 = np.random.permutation(len(ch11))\n",
    "train_c1 = ch11[indices_1[:train_number_signal]]\n",
    "test_c1 = ch11[indices_1[train_number_signal+validation_number_signal:]]\n",
    "validate_c1 = ch11[indices_1[train_number_signal:train_number_signal+validation_number_signal]]\n",
    "\n",
    "train_1 = di1[indices_1[:train_number_signal]]\n",
    "test_1 = di1[indices_1[train_number_signal+validation_number_signal:]]\n",
    "validate_1 = di1[indices_1[train_number_signal:train_number_signal+validation_number_signal]]"
   ]
  },
  {
   "cell_type": "code",
   "execution_count": 18,
   "metadata": {},
   "outputs": [],
   "source": [
    "np.random.seed(1)\n",
    "indices_0 = np.random.permutation(len(ch10))\n",
    "train_c0 = ch10[indices_0[:train_number_background]]\n",
    "test_c0 = ch10[indices_0[train_number_background+validation_number_background:]]\n",
    "validate_c0 = ch10[indices_0[train_number_background:train_number_background+validation_number_background]]\n",
    "\n",
    "train_0 = di0[indices_0[:train_number_background]]\n",
    "test_0 = di0[indices_0[train_number_background+validation_number_background:]]\n",
    "validate_0 = di0[indices_0[train_number_background:train_number_background+validation_number_background]]"
   ]
  },
  {
   "cell_type": "code",
   "execution_count": 19,
   "metadata": {},
   "outputs": [
    {
     "data": {
      "text/plain": [
       "array([], shape=(0, 2), dtype=float64)"
      ]
     },
     "execution_count": 19,
     "metadata": {},
     "output_type": "execute_result"
    }
   ],
   "source": [
    "train_c0"
   ]
  },
  {
   "cell_type": "code",
   "execution_count": 20,
   "metadata": {},
   "outputs": [],
   "source": [
    "trues_train = trues[indices_1[:train_number_signal]]\n",
    "trues_test = trues[indices_1[train_number_signal+validation_number_signal:]]\n",
    "trues_validate = trues[indices_1[train_number_signal:train_number_signal+validation_number_signal]]\n",
    "falses_train = falses[indices_0[:train_number_background]]\n",
    "falses_test = falses[indices_0[train_number_background+validation_number_background:]]\n",
    "falses_validate = falses[indices_0[train_number_background:train_number_background+validation_number_background]]"
   ]
  },
  {
   "cell_type": "code",
   "execution_count": 21,
   "metadata": {},
   "outputs": [],
   "source": [
    "train_total_1 = np.c_[train_1, train_c1]\n",
    "test_total_1 = np.c_[test_1, test_c1]\n",
    "validate_total_1 = np.c_[validate_1, validate_c1]\n",
    "train_total_0 = np.c_[train_0, train_c0]\n",
    "test_total_0 = np.c_[test_0, test_c0]\n",
    "validate_total_0 = np.c_[validate_0, validate_c0]"
   ]
  },
  {
   "cell_type": "code",
   "execution_count": 22,
   "metadata": {},
   "outputs": [],
   "source": [
    "train = np.array(list(train_1) + list(train_0))\n",
    "test = np.array(list(test_1) + list(test_0))\n",
    "validate = np.array(list(validate_1) + list(validate_0))\n",
    "\n",
    "train_c = np.array(list(train_c1) + list(train_c0))\n",
    "test_c = np.array(list(test_c1) + list(test_c0))\n",
    "validate_c = np.array(list(validate_c1) + list(validate_c0))\n",
    "\n",
    "indicator_train = np.array(list(trues_train) + list(falses_train))\n",
    "indicator_test = np.array(list(trues_test) + list(falses_test))\n",
    "indicator_validate = np.array(list(trues_validate) + list(falses_validate))\n",
    "\n",
    "train_total = np.array(list(train_total_1) + list(train_total_0))\n",
    "test_total = np.array(list(test_total_1) + list(test_total_0))\n",
    "validate_total = np.array(list(validate_total_1) + list(validate_total_0))"
   ]
  },
  {
   "cell_type": "code",
   "execution_count": 23,
   "metadata": {},
   "outputs": [
    {
     "data": {
      "text/plain": [
       "array([[ 4.13467007e-02, -3.43034000e+01,  4.05592896e+01, ...,\n",
       "        -7.20282454e-02,  6.00000000e+00,  6.00000000e+00],\n",
       "       [ 2.83177831e-02, -2.25191994e+01,  3.92171944e+01, ...,\n",
       "         2.51132140e-01,  2.00000000e+00,  3.00000000e+00],\n",
       "       [-4.65456603e-02, -1.38558006e+01,  4.11778059e+01, ...,\n",
       "         3.72420230e-01,  2.00000000e+00,  2.00000000e+00],\n",
       "       ...,\n",
       "       [ 2.53101344e+00, -7.12932014e+00,  3.99135625e+01, ...,\n",
       "        -3.06356000e-01,  6.00000000e+00,  2.00000000e+00],\n",
       "       [ 1.49382489e+00,  7.79396019e+01,  4.05733879e+01, ...,\n",
       "         1.51878715e+00,  3.00000000e+00,  2.00000000e+00],\n",
       "       [-5.36966445e-01,  1.26668598e+02,  3.98040930e+01, ...,\n",
       "         1.76249956e+00,  1.00000000e+00,  5.00000000e+00]])"
      ]
     },
     "execution_count": 23,
     "metadata": {},
     "output_type": "execute_result"
    }
   ],
   "source": [
    "test_total"
   ]
  },
  {
   "cell_type": "code",
   "execution_count": 24,
   "metadata": {},
   "outputs": [
    {
     "data": {
      "text/plain": [
       "5020738"
      ]
     },
     "execution_count": 24,
     "metadata": {},
     "output_type": "execute_result"
    }
   ],
   "source": [
    "len(test_total_1)"
   ]
  },
  {
   "cell_type": "code",
   "execution_count": 25,
   "metadata": {},
   "outputs": [
    {
     "data": {
      "text/plain": [
       "array([ 2.00217083e-02, -3.46072006e+01,  3.98631344e+01,  5.02261266e-04,\n",
       "        5.10635231e+01, -8.02052783e-01,  4.00000000e+00,  3.00000000e+00])"
      ]
     },
     "execution_count": 25,
     "metadata": {},
     "output_type": "execute_result"
    }
   ],
   "source": [
    "test_total_1[-1, :]"
   ]
  },
  {
   "cell_type": "code",
   "execution_count": 26,
   "metadata": {},
   "outputs": [
    {
     "data": {
      "text/plain": [
       "array([ 2.00217083e-02, -3.46072006e+01,  3.98631344e+01,  5.02261266e-04,\n",
       "        5.10635231e+01, -8.02052783e-01,  4.00000000e+00,  3.00000000e+00])"
      ]
     },
     "execution_count": 26,
     "metadata": {},
     "output_type": "execute_result"
    }
   ],
   "source": [
    "test_total[len(test_total_1)-1, :]"
   ]
  },
  {
   "cell_type": "code",
   "execution_count": 27,
   "metadata": {},
   "outputs": [
    {
     "data": {
      "text/plain": [
       "5020738"
      ]
     },
     "execution_count": 27,
     "metadata": {},
     "output_type": "execute_result"
    }
   ],
   "source": [
    "len(trues_test)"
   ]
  },
  {
   "cell_type": "code",
   "execution_count": null,
   "metadata": {},
   "outputs": [],
   "source": []
  },
  {
   "cell_type": "code",
   "execution_count": 28,
   "metadata": {},
   "outputs": [
    {
     "data": {
      "text/plain": [
       "(0,)"
      ]
     },
     "execution_count": 28,
     "metadata": {},
     "output_type": "execute_result"
    }
   ],
   "source": [
    "np.shape(train)"
   ]
  },
  {
   "cell_type": "code",
   "execution_count": 29,
   "metadata": {},
   "outputs": [
    {
     "data": {
      "text/plain": [
       "array([], dtype=float64)"
      ]
     },
     "execution_count": 29,
     "metadata": {},
     "output_type": "execute_result"
    }
   ],
   "source": [
    "train"
   ]
  },
  {
   "cell_type": "code",
   "execution_count": null,
   "metadata": {},
   "outputs": [],
   "source": []
  },
  {
   "cell_type": "code",
   "execution_count": 30,
   "metadata": {},
   "outputs": [
    {
     "name": "stdout",
     "output_type": "stream",
     "text": [
      "WARNING:tensorflow:From /home/jsqason/.local/lib/python3.5/site-packages/tensorflow/python/framework/op_def_library.py:263: colocate_with (from tensorflow.python.framework.ops) is deprecated and will be removed in a future version.\n",
      "Instructions for updating:\n",
      "Colocations handled automatically by placer.\n",
      "WARNING:tensorflow:From /home/jsqason/.local/lib/python3.5/site-packages/tensorflow/python/ops/math_ops.py:3066: to_int32 (from tensorflow.python.ops.math_ops) is deprecated and will be removed in a future version.\n",
      "Instructions for updating:\n",
      "Use tf.cast instead.\n"
     ]
    }
   ],
   "source": [
    "model_clasify = load_model('ff_model_clasify_cut.h5')\n",
    "model_clasify_c = load_model('ff_model_clasify_c_cut.h5')\n",
    "model_clasify_t = load_model('ff_model_clasify_t_cut.h5')"
   ]
  },
  {
   "cell_type": "code",
   "execution_count": 31,
   "metadata": {},
   "outputs": [],
   "source": [
    "predictions_clasify = model_clasify.predict(test)\n",
    "predictions_clasify_c = model_clasify_c.predict(test_c)\n",
    "predictions_clasify_t = model_clasify_t.predict(test_total)\n",
    "fpr_clasify, tpr_clasify, _ = roc_curve(indicator_test, predictions_clasify)\n",
    "fpr_clasify_c, tpr_clasify_c, _ = roc_curve(indicator_test, predictions_clasify_c)\n",
    "fpr_clasify_t, tpr_clasify_t, _ = roc_curve(indicator_test, predictions_clasify_t)"
   ]
  },
  {
   "cell_type": "code",
   "execution_count": 32,
   "metadata": {},
   "outputs": [
    {
     "data": {
      "text/plain": [
       "65020738"
      ]
     },
     "execution_count": 32,
     "metadata": {},
     "output_type": "execute_result"
    }
   ],
   "source": [
    "len(predictions_clasify)"
   ]
  },
  {
   "cell_type": "code",
   "execution_count": 33,
   "metadata": {},
   "outputs": [
    {
     "data": {
      "text/plain": [
       "2147746"
      ]
     },
     "execution_count": 33,
     "metadata": {},
     "output_type": "execute_result"
    }
   ],
   "source": [
    "len(tpr_clasify)"
   ]
  },
  {
   "cell_type": "code",
   "execution_count": 34,
   "metadata": {},
   "outputs": [
    {
     "data": {
      "text/plain": [
       "Text(0.5, 1.0, 'ROC-CURVE')"
      ]
     },
     "execution_count": 34,
     "metadata": {},
     "output_type": "execute_result"
    },
    {
     "data": {
      "image/png": "[encoded data removed]",
      "text/plain": [
       "<Figure size 432x288 with 1 Axes>"
      ]
     },
     "metadata": {
      "needs_background": "light"
     },
     "output_type": "display_data"
    }
   ],
   "source": [
    "plt.plot(fpr_clasify, tpr_clasify)\n",
    "plt.plot(fpr_clasify_c, tpr_clasify_c)\n",
    "plt.plot(fpr_clasify_t, tpr_clasify_t)\n",
    "plt.xlabel('false positive rate')\n",
    "plt.ylabel('true positive rate')\n",
    "plt.legend(['x-y-z_prediction', 'ch1-num_prediction', 'combined_approach'])\n",
    "plt.title('ROC-CURVE')"
   ]
  },
  {
   "cell_type": "code",
   "execution_count": 35,
   "metadata": {},
   "outputs": [
    {
     "data": {
      "image/png": "[encoded data removed]",
      "text/plain": [
       "<Figure size 432x288 with 1 Axes>"
      ]
     },
     "metadata": {
      "needs_background": "light"
     },
     "output_type": "display_data"
    }
   ],
   "source": [
    "a_ = []\n",
    "for i in fpr_clasify:\n",
    "    if i == 0:\n",
    "        a_.append(test_number_background)\n",
    "    else:\n",
    "        a_.append(1.0/i)\n",
    "\n",
    "b_ = []\n",
    "for i in fpr_clasify_c:\n",
    "    if i == 0:\n",
    "        b_.append(test_number_background)\n",
    "    else:\n",
    "        b_.append(1.0/i)\n",
    "\n",
    "c_ = []\n",
    "for i in fpr_clasify_t:\n",
    "    if i == 0:\n",
    "        c_.append(test_number_background)\n",
    "    else:\n",
    "        c_.append(1.0/i)\n",
    "plt.plot(tpr_clasify, np.array(a_))\n",
    "plt.plot(tpr_clasify_c, np.array(b_))\n",
    "plt.plot(tpr_clasify_t, np.array(c_))\n",
    "plt.xlabel('true positive rate')\n",
    "plt.ylabel('1/false positive rate')\n",
    "plt.legend(['x-y-z_prediction', 'ch1-num_prediction', 'combined_approach'])\n",
    "plt.title('REVISED-ROC-CURVE')\n",
    "plt.yscale('log')"
   ]
  },
  {
   "cell_type": "code",
   "execution_count": null,
   "metadata": {},
   "outputs": [],
   "source": []
  },
  {
   "cell_type": "code",
   "execution_count": null,
   "metadata": {},
   "outputs": [],
   "source": []
  },
  {
   "cell_type": "code",
   "execution_count": null,
   "metadata": {},
   "outputs": [],
   "source": []
  },
  {
   "cell_type": "code",
   "execution_count": null,
   "metadata": {},
   "outputs": [],
   "source": []
  },
  {
   "cell_type": "code",
   "execution_count": 36,
   "metadata": {},
   "outputs": [
    {
     "data": {
      "text/html": [
       "<div>\n",
       "<style scoped>\n",
       "    .dataframe tbody tr th:only-of-type {\n",
       "        vertical-align: middle;\n",
       "    }\n",
       "\n",
       "    .dataframe tbody tr th {\n",
       "        vertical-align: top;\n",
       "    }\n",
       "\n",
       "    .dataframe thead th {\n",
       "        text-align: right;\n",
       "    }\n",
       "</style>\n",
       "<table border=\"1\" class=\"dataframe\">\n",
       "  <thead>\n",
       "    <tr style=\"text-align: right;\">\n",
       "      <th></th>\n",
       "      <th>event_id</th>\n",
       "      <th>hit_id</th>\n",
       "      <th>eta</th>\n",
       "      <th>layer_id</th>\n",
       "      <th>module_id</th>\n",
       "      <th>nch0</th>\n",
       "      <th>nch1</th>\n",
       "      <th>particle_id</th>\n",
       "      <th>tpx</th>\n",
       "      <th>tpy</th>\n",
       "      <th>tpz</th>\n",
       "      <th>volume_id</th>\n",
       "      <th>x</th>\n",
       "      <th>y</th>\n",
       "      <th>z</th>\n",
       "    </tr>\n",
       "  </thead>\n",
       "  <tbody>\n",
       "    <tr>\n",
       "      <th>20042</th>\n",
       "      <td>1000</td>\n",
       "      <td>20043.0</td>\n",
       "      <td>-0.372461</td>\n",
       "      <td>2.0</td>\n",
       "      <td>97.0</td>\n",
       "      <td>3.0</td>\n",
       "      <td>2.0</td>\n",
       "      <td>1.080958e+17</td>\n",
       "      <td>-2.771100</td>\n",
       "      <td>-0.023715</td>\n",
       "      <td>-1.515780</td>\n",
       "      <td>8.0</td>\n",
       "      <td>-33.674000</td>\n",
       "      <td>-0.446628</td>\n",
       "      <td>-12.835400</td>\n",
       "    </tr>\n",
       "    <tr>\n",
       "      <th>21826</th>\n",
       "      <td>1000</td>\n",
       "      <td>21827.0</td>\n",
       "      <td>-0.364603</td>\n",
       "      <td>2.0</td>\n",
       "      <td>112.0</td>\n",
       "      <td>1.0</td>\n",
       "      <td>2.0</td>\n",
       "      <td>1.080958e+17</td>\n",
       "      <td>-2.771340</td>\n",
       "      <td>-0.024289</td>\n",
       "      <td>-1.515410</td>\n",
       "      <td>8.0</td>\n",
       "      <td>-32.010101</td>\n",
       "      <td>-0.440721</td>\n",
       "      <td>-11.932400</td>\n",
       "    </tr>\n",
       "    <tr>\n",
       "      <th>29668</th>\n",
       "      <td>1000</td>\n",
       "      <td>29669.0</td>\n",
       "      <td>-0.455122</td>\n",
       "      <td>4.0</td>\n",
       "      <td>193.0</td>\n",
       "      <td>3.0</td>\n",
       "      <td>2.0</td>\n",
       "      <td>1.080958e+17</td>\n",
       "      <td>-2.770970</td>\n",
       "      <td>0.000340</td>\n",
       "      <td>-1.514780</td>\n",
       "      <td>8.0</td>\n",
       "      <td>-73.471901</td>\n",
       "      <td>-0.615863</td>\n",
       "      <td>-34.606300</td>\n",
       "    </tr>\n",
       "    <tr>\n",
       "      <th>30703</th>\n",
       "      <td>1000</td>\n",
       "      <td>30704.0</td>\n",
       "      <td>-0.453312</td>\n",
       "      <td>4.0</td>\n",
       "      <td>224.0</td>\n",
       "      <td>1.0</td>\n",
       "      <td>3.0</td>\n",
       "      <td>1.080958e+17</td>\n",
       "      <td>-2.770980</td>\n",
       "      <td>-0.001129</td>\n",
       "      <td>-1.515090</td>\n",
       "      <td>8.0</td>\n",
       "      <td>-71.580399</td>\n",
       "      <td>-0.604620</td>\n",
       "      <td>-33.572201</td>\n",
       "    </tr>\n",
       "    <tr>\n",
       "      <th>37345</th>\n",
       "      <td>1000</td>\n",
       "      <td>37346.0</td>\n",
       "      <td>-0.480718</td>\n",
       "      <td>6.0</td>\n",
       "      <td>313.0</td>\n",
       "      <td>2.0</td>\n",
       "      <td>2.0</td>\n",
       "      <td>1.080958e+17</td>\n",
       "      <td>-2.768900</td>\n",
       "      <td>0.027852</td>\n",
       "      <td>-1.513700</td>\n",
       "      <td>8.0</td>\n",
       "      <td>-117.384003</td>\n",
       "      <td>-0.393283</td>\n",
       "      <td>-58.627499</td>\n",
       "    </tr>\n",
       "    <tr>\n",
       "      <th>38162</th>\n",
       "      <td>1000</td>\n",
       "      <td>38163.0</td>\n",
       "      <td>-0.479987</td>\n",
       "      <td>6.0</td>\n",
       "      <td>364.0</td>\n",
       "      <td>2.0</td>\n",
       "      <td>2.0</td>\n",
       "      <td>1.080958e+17</td>\n",
       "      <td>-2.768750</td>\n",
       "      <td>0.026067</td>\n",
       "      <td>-1.514100</td>\n",
       "      <td>8.0</td>\n",
       "      <td>-115.445999</td>\n",
       "      <td>-0.404245</td>\n",
       "      <td>-57.565300</td>\n",
       "    </tr>\n",
       "    <tr>\n",
       "      <th>43651</th>\n",
       "      <td>1000</td>\n",
       "      <td>43652.0</td>\n",
       "      <td>-0.494011</td>\n",
       "      <td>8.0</td>\n",
       "      <td>391.0</td>\n",
       "      <td>2.0</td>\n",
       "      <td>2.0</td>\n",
       "      <td>1.080958e+17</td>\n",
       "      <td>-2.768500</td>\n",
       "      <td>0.058717</td>\n",
       "      <td>-1.512330</td>\n",
       "      <td>8.0</td>\n",
       "      <td>-172.957001</td>\n",
       "      <td>0.472070</td>\n",
       "      <td>-88.960899</td>\n",
       "    </tr>\n",
       "    <tr>\n",
       "      <th>44183</th>\n",
       "      <td>1000</td>\n",
       "      <td>44184.0</td>\n",
       "      <td>-0.493657</td>\n",
       "      <td>8.0</td>\n",
       "      <td>468.0</td>\n",
       "      <td>2.0</td>\n",
       "      <td>3.0</td>\n",
       "      <td>1.080958e+17</td>\n",
       "      <td>-2.768770</td>\n",
       "      <td>0.057969</td>\n",
       "      <td>-1.511960</td>\n",
       "      <td>8.0</td>\n",
       "      <td>-170.962006</td>\n",
       "      <td>0.427640</td>\n",
       "      <td>-87.866699</td>\n",
       "    </tr>\n",
       "    <tr>\n",
       "      <th>20043</th>\n",
       "      <td>1000</td>\n",
       "      <td>20044.0</td>\n",
       "      <td>-1.095952</td>\n",
       "      <td>2.0</td>\n",
       "      <td>97.0</td>\n",
       "      <td>2.0</td>\n",
       "      <td>5.0</td>\n",
       "      <td>5.944780e+17</td>\n",
       "      <td>-0.319480</td>\n",
       "      <td>0.002672</td>\n",
       "      <td>-0.442060</td>\n",
       "      <td>8.0</td>\n",
       "      <td>-34.331402</td>\n",
       "      <td>1.433860</td>\n",
       "      <td>-45.662899</td>\n",
       "    </tr>\n",
       "    <tr>\n",
       "      <th>21914</th>\n",
       "      <td>1000</td>\n",
       "      <td>21915.0</td>\n",
       "      <td>-1.093295</td>\n",
       "      <td>2.0</td>\n",
       "      <td>112.0</td>\n",
       "      <td>1.0</td>\n",
       "      <td>5.0</td>\n",
       "      <td>5.944780e+17</td>\n",
       "      <td>-0.319730</td>\n",
       "      <td>0.004456</td>\n",
       "      <td>-0.442086</td>\n",
       "      <td>8.0</td>\n",
       "      <td>-31.905899</td>\n",
       "      <td>1.406340</td>\n",
       "      <td>-42.300098</td>\n",
       "    </tr>\n",
       "    <tr>\n",
       "      <th>28817</th>\n",
       "      <td>1000</td>\n",
       "      <td>28818.0</td>\n",
       "      <td>-1.113451</td>\n",
       "      <td>4.0</td>\n",
       "      <td>161.0</td>\n",
       "      <td>2.0</td>\n",
       "      <td>5.0</td>\n",
       "      <td>5.944780e+17</td>\n",
       "      <td>-0.317850</td>\n",
       "      <td>-0.021670</td>\n",
       "      <td>-0.441839</td>\n",
       "      <td>8.0</td>\n",
       "      <td>-73.185799</td>\n",
       "      <td>0.304351</td>\n",
       "      <td>-99.402702</td>\n",
       "    </tr>\n",
       "    <tr>\n",
       "      <th>29629</th>\n",
       "      <td>1000</td>\n",
       "      <td>29630.0</td>\n",
       "      <td>-1.112944</td>\n",
       "      <td>4.0</td>\n",
       "      <td>192.0</td>\n",
       "      <td>1.0</td>\n",
       "      <td>5.0</td>\n",
       "      <td>5.944780e+17</td>\n",
       "      <td>-0.318506</td>\n",
       "      <td>-0.020061</td>\n",
       "      <td>-0.441521</td>\n",
       "      <td>8.0</td>\n",
       "      <td>-71.128799</td>\n",
       "      <td>0.445410</td>\n",
       "      <td>-96.549103</td>\n",
       "    </tr>\n",
       "    <tr>\n",
       "      <th>36144</th>\n",
       "      <td>1000</td>\n",
       "      <td>36145.0</td>\n",
       "      <td>-1.119386</td>\n",
       "      <td>6.0</td>\n",
       "      <td>209.0</td>\n",
       "      <td>2.0</td>\n",
       "      <td>5.0</td>\n",
       "      <td>5.944780e+17</td>\n",
       "      <td>-0.315475</td>\n",
       "      <td>-0.047228</td>\n",
       "      <td>-0.440719</td>\n",
       "      <td>8.0</td>\n",
       "      <td>-116.559998</td>\n",
       "      <td>-4.449530</td>\n",
       "      <td>-159.598999</td>\n",
       "    </tr>\n",
       "    <tr>\n",
       "      <th>42695</th>\n",
       "      <td>1000</td>\n",
       "      <td>42696.0</td>\n",
       "      <td>-1.123841</td>\n",
       "      <td>8.0</td>\n",
       "      <td>236.0</td>\n",
       "      <td>1.0</td>\n",
       "      <td>5.0</td>\n",
       "      <td>5.944780e+17</td>\n",
       "      <td>-0.308661</td>\n",
       "      <td>-0.080400</td>\n",
       "      <td>-0.439943</td>\n",
       "      <td>8.0</td>\n",
       "      <td>-171.828003</td>\n",
       "      <td>-15.719700</td>\n",
       "      <td>-237.389999</td>\n",
       "    </tr>\n",
       "    <tr>\n",
       "      <th>20044</th>\n",
       "      <td>1000</td>\n",
       "      <td>20045.0</td>\n",
       "      <td>-0.444202</td>\n",
       "      <td>2.0</td>\n",
       "      <td>97.0</td>\n",
       "      <td>2.0</td>\n",
       "      <td>3.0</td>\n",
       "      <td>3.242789e+17</td>\n",
       "      <td>-0.173558</td>\n",
       "      <td>-0.040211</td>\n",
       "      <td>-0.141946</td>\n",
       "      <td>8.0</td>\n",
       "      <td>-30.644300</td>\n",
       "      <td>-9.111690</td>\n",
       "      <td>-14.672900</td>\n",
       "    </tr>\n",
       "    <tr>\n",
       "      <th>29706</th>\n",
       "      <td>1000</td>\n",
       "      <td>29707.0</td>\n",
       "      <td>-0.611055</td>\n",
       "      <td>4.0</td>\n",
       "      <td>194.0</td>\n",
       "      <td>2.0</td>\n",
       "      <td>3.0</td>\n",
       "      <td>3.242789e+17</td>\n",
       "      <td>-0.176376</td>\n",
       "      <td>-0.021280</td>\n",
       "      <td>-0.141222</td>\n",
       "      <td>8.0</td>\n",
       "      <td>-71.110397</td>\n",
       "      <td>-16.725300</td>\n",
       "      <td>-47.468300</td>\n",
       "    </tr>\n",
       "    <tr>\n",
       "      <th>36678</th>\n",
       "      <td>1000</td>\n",
       "      <td>36679.0</td>\n",
       "      <td>-0.660674</td>\n",
       "      <td>6.0</td>\n",
       "      <td>262.0</td>\n",
       "      <td>3.0</td>\n",
       "      <td>3.0</td>\n",
       "      <td>3.242789e+17</td>\n",
       "      <td>-0.175910</td>\n",
       "      <td>0.003210</td>\n",
       "      <td>-0.141995</td>\n",
       "      <td>8.0</td>\n",
       "      <td>-114.474998</td>\n",
       "      <td>-18.998600</td>\n",
       "      <td>-82.365402</td>\n",
       "    </tr>\n",
       "    <tr>\n",
       "      <th>43643</th>\n",
       "      <td>1000</td>\n",
       "      <td>43644.0</td>\n",
       "      <td>-0.687908</td>\n",
       "      <td>8.0</td>\n",
       "      <td>391.0</td>\n",
       "      <td>3.0</td>\n",
       "      <td>3.0</td>\n",
       "      <td>3.242789e+17</td>\n",
       "      <td>-0.166469</td>\n",
       "      <td>0.039125</td>\n",
       "      <td>-0.134691</td>\n",
       "      <td>8.0</td>\n",
       "      <td>-170.772003</td>\n",
       "      <td>-11.519400</td>\n",
       "      <td>-127.250999</td>\n",
       "    </tr>\n",
       "    <tr>\n",
       "      <th>20045</th>\n",
       "      <td>1000</td>\n",
       "      <td>20046.0</td>\n",
       "      <td>-0.375021</td>\n",
       "      <td>2.0</td>\n",
       "      <td>97.0</td>\n",
       "      <td>1.0</td>\n",
       "      <td>3.0</td>\n",
       "      <td>9.052242e+17</td>\n",
       "      <td>-0.562073</td>\n",
       "      <td>-0.241740</td>\n",
       "      <td>-0.400883</td>\n",
       "      <td>8.0</td>\n",
       "      <td>-29.223301</td>\n",
       "      <td>-13.176100</td>\n",
       "      <td>-12.305600</td>\n",
       "    </tr>\n",
       "    <tr>\n",
       "      <th>20189</th>\n",
       "      <td>1000</td>\n",
       "      <td>20190.0</td>\n",
       "      <td>-0.385834</td>\n",
       "      <td>2.0</td>\n",
       "      <td>98.0</td>\n",
       "      <td>2.0</td>\n",
       "      <td>3.0</td>\n",
       "      <td>9.052242e+17</td>\n",
       "      <td>-0.562552</td>\n",
       "      <td>-0.241164</td>\n",
       "      <td>-0.400475</td>\n",
       "      <td>8.0</td>\n",
       "      <td>-30.537399</td>\n",
       "      <td>-13.749600</td>\n",
       "      <td>-13.244600</td>\n",
       "    </tr>\n",
       "    <tr>\n",
       "      <th>29698</th>\n",
       "      <td>1000</td>\n",
       "      <td>29699.0</td>\n",
       "      <td>-0.510141</td>\n",
       "      <td>4.0</td>\n",
       "      <td>194.0</td>\n",
       "      <td>2.0</td>\n",
       "      <td>3.0</td>\n",
       "      <td>9.052242e+17</td>\n",
       "      <td>-0.570939</td>\n",
       "      <td>-0.219893</td>\n",
       "      <td>-0.400044</td>\n",
       "      <td>8.0</td>\n",
       "      <td>-65.824799</td>\n",
       "      <td>-28.113899</td>\n",
       "      <td>-38.118999</td>\n",
       "    </tr>\n",
       "    <tr>\n",
       "      <th>29752</th>\n",
       "      <td>1000</td>\n",
       "      <td>29753.0</td>\n",
       "      <td>-0.512882</td>\n",
       "      <td>4.0</td>\n",
       "      <td>195.0</td>\n",
       "      <td>2.0</td>\n",
       "      <td>3.0</td>\n",
       "      <td>9.052242e+17</td>\n",
       "      <td>-0.571077</td>\n",
       "      <td>-0.218620</td>\n",
       "      <td>-0.400455</td>\n",
       "      <td>8.0</td>\n",
       "      <td>-67.573898</td>\n",
       "      <td>-28.780800</td>\n",
       "      <td>-39.343399</td>\n",
       "    </tr>\n",
       "    <tr>\n",
       "      <th>37408</th>\n",
       "      <td>1000</td>\n",
       "      <td>37409.0</td>\n",
       "      <td>-0.550877</td>\n",
       "      <td>6.0</td>\n",
       "      <td>316.0</td>\n",
       "      <td>3.0</td>\n",
       "      <td>2.0</td>\n",
       "      <td>9.052242e+17</td>\n",
       "      <td>-0.580369</td>\n",
       "      <td>-0.193576</td>\n",
       "      <td>-0.399001</td>\n",
       "      <td>8.0</td>\n",
       "      <td>-108.681999</td>\n",
       "      <td>-43.473400</td>\n",
       "      <td>-67.793701</td>\n",
       "    </tr>\n",
       "    <tr>\n",
       "      <th>43673</th>\n",
       "      <td>1000</td>\n",
       "      <td>43674.0</td>\n",
       "      <td>-0.570195</td>\n",
       "      <td>8.0</td>\n",
       "      <td>395.0</td>\n",
       "      <td>2.0</td>\n",
       "      <td>3.0</td>\n",
       "      <td>9.052242e+17</td>\n",
       "      <td>-0.587155</td>\n",
       "      <td>-0.161078</td>\n",
       "      <td>-0.393518</td>\n",
       "      <td>8.0</td>\n",
       "      <td>-161.380005</td>\n",
       "      <td>-59.464100</td>\n",
       "      <td>-103.467003</td>\n",
       "    </tr>\n",
       "    <tr>\n",
       "      <th>20046</th>\n",
       "      <td>1000</td>\n",
       "      <td>20047.0</td>\n",
       "      <td>0.000687</td>\n",
       "      <td>2.0</td>\n",
       "      <td>97.0</td>\n",
       "      <td>1.0</td>\n",
       "      <td>3.0</td>\n",
       "      <td>8.602094e+17</td>\n",
       "      <td>-0.394165</td>\n",
       "      <td>-0.084308</td>\n",
       "      <td>0.248263</td>\n",
       "      <td>8.0</td>\n",
       "      <td>-29.652300</td>\n",
       "      <td>-11.948900</td>\n",
       "      <td>0.021978</td>\n",
       "    </tr>\n",
       "    <tr>\n",
       "      <th>21947</th>\n",
       "      <td>1000</td>\n",
       "      <td>21948.0</td>\n",
       "      <td>-0.009091</td>\n",
       "      <td>2.0</td>\n",
       "      <td>113.0</td>\n",
       "      <td>2.0</td>\n",
       "      <td>3.0</td>\n",
       "      <td>8.602094e+17</td>\n",
       "      <td>-0.394291</td>\n",
       "      <td>-0.084734</td>\n",
       "      <td>0.248000</td>\n",
       "      <td>8.0</td>\n",
       "      <td>-29.165100</td>\n",
       "      <td>-11.842300</td>\n",
       "      <td>-0.286176</td>\n",
       "    </tr>\n",
       "    <tr>\n",
       "      <th>22152</th>\n",
       "      <td>1000</td>\n",
       "      <td>22153.0</td>\n",
       "      <td>0.029532</td>\n",
       "      <td>2.0</td>\n",
       "      <td>114.0</td>\n",
       "      <td>3.0</td>\n",
       "      <td>3.0</td>\n",
       "      <td>8.602094e+17</td>\n",
       "      <td>-0.394039</td>\n",
       "      <td>-0.085074</td>\n",
       "      <td>0.248064</td>\n",
       "      <td>8.0</td>\n",
       "      <td>-31.193300</td>\n",
       "      <td>-12.272100</td>\n",
       "      <td>0.990079</td>\n",
       "    </tr>\n",
       "    <tr>\n",
       "      <th>30789</th>\n",
       "      <td>1000</td>\n",
       "      <td>30790.0</td>\n",
       "      <td>0.337004</td>\n",
       "      <td>4.0</td>\n",
       "      <td>226.0</td>\n",
       "      <td>2.0</td>\n",
       "      <td>3.0</td>\n",
       "      <td>8.602094e+17</td>\n",
       "      <td>-0.388094</td>\n",
       "      <td>-0.106753</td>\n",
       "      <td>0.248100</td>\n",
       "      <td>8.0</td>\n",
       "      <td>-68.419701</td>\n",
       "      <td>-21.346701</td>\n",
       "      <td>24.613701</td>\n",
       "    </tr>\n",
       "    <tr>\n",
       "      <th>38210</th>\n",
       "      <td>1000</td>\n",
       "      <td>38211.0</td>\n",
       "      <td>0.433398</td>\n",
       "      <td>6.0</td>\n",
       "      <td>367.0</td>\n",
       "      <td>2.0</td>\n",
       "      <td>3.0</td>\n",
       "      <td>8.602094e+17</td>\n",
       "      <td>-0.379584</td>\n",
       "      <td>-0.132309</td>\n",
       "      <td>0.247433</td>\n",
       "      <td>8.0</td>\n",
       "      <td>-110.496002</td>\n",
       "      <td>-34.464199</td>\n",
       "      <td>51.749401</td>\n",
       "    </tr>\n",
       "    <tr>\n",
       "      <th>45494</th>\n",
       "      <td>1000</td>\n",
       "      <td>45495.0</td>\n",
       "      <td>0.484890</td>\n",
       "      <td>8.0</td>\n",
       "      <td>628.0</td>\n",
       "      <td>1.0</td>\n",
       "      <td>2.0</td>\n",
       "      <td>8.602094e+17</td>\n",
       "      <td>-0.365828</td>\n",
       "      <td>-0.162365</td>\n",
       "      <td>0.249284</td>\n",
       "      <td>8.0</td>\n",
       "      <td>-162.298996</td>\n",
       "      <td>-54.941299</td>\n",
       "      <td>86.378304</td>\n",
       "    </tr>\n",
       "    <tr>\n",
       "      <th>...</th>\n",
       "      <td>...</td>\n",
       "      <td>...</td>\n",
       "      <td>...</td>\n",
       "      <td>...</td>\n",
       "      <td>...</td>\n",
       "      <td>...</td>\n",
       "      <td>...</td>\n",
       "      <td>...</td>\n",
       "      <td>...</td>\n",
       "      <td>...</td>\n",
       "      <td>...</td>\n",
       "      <td>...</td>\n",
       "      <td>...</td>\n",
       "      <td>...</td>\n",
       "      <td>...</td>\n",
       "    </tr>\n",
       "    <tr>\n",
       "      <th>35844</th>\n",
       "      <td>2949</td>\n",
       "      <td>35845.0</td>\n",
       "      <td>-0.528577</td>\n",
       "      <td>6.0</td>\n",
       "      <td>361.0</td>\n",
       "      <td>1.0</td>\n",
       "      <td>4.0</td>\n",
       "      <td>3.738241e+17</td>\n",
       "      <td>-0.243140</td>\n",
       "      <td>0.053761</td>\n",
       "      <td>-0.288825</td>\n",
       "      <td>8.0</td>\n",
       "      <td>-108.197998</td>\n",
       "      <td>40.179199</td>\n",
       "      <td>-63.887699</td>\n",
       "    </tr>\n",
       "    <tr>\n",
       "      <th>35863</th>\n",
       "      <td>2949</td>\n",
       "      <td>35864.0</td>\n",
       "      <td>-0.537016</td>\n",
       "      <td>6.0</td>\n",
       "      <td>362.0</td>\n",
       "      <td>1.0</td>\n",
       "      <td>4.0</td>\n",
       "      <td>3.738241e+17</td>\n",
       "      <td>-0.243682</td>\n",
       "      <td>0.052485</td>\n",
       "      <td>-0.288552</td>\n",
       "      <td>8.0</td>\n",
       "      <td>-110.009003</td>\n",
       "      <td>40.562302</td>\n",
       "      <td>-66.034798</td>\n",
       "    </tr>\n",
       "    <tr>\n",
       "      <th>41252</th>\n",
       "      <td>2949</td>\n",
       "      <td>41253.0</td>\n",
       "      <td>-0.698083</td>\n",
       "      <td>8.0</td>\n",
       "      <td>465.0</td>\n",
       "      <td>1.0</td>\n",
       "      <td>4.0</td>\n",
       "      <td>3.738241e+17</td>\n",
       "      <td>-0.249011</td>\n",
       "      <td>0.017406</td>\n",
       "      <td>-0.287289</td>\n",
       "      <td>8.0</td>\n",
       "      <td>-164.889999</td>\n",
       "      <td>48.335201</td>\n",
       "      <td>-129.932999</td>\n",
       "    </tr>\n",
       "    <tr>\n",
       "      <th>22772</th>\n",
       "      <td>2949</td>\n",
       "      <td>22773.0</td>\n",
       "      <td>0.437166</td>\n",
       "      <td>2.0</td>\n",
       "      <td>127.0</td>\n",
       "      <td>2.0</td>\n",
       "      <td>6.0</td>\n",
       "      <td>3.738140e+17</td>\n",
       "      <td>-0.938095</td>\n",
       "      <td>0.573982</td>\n",
       "      <td>-1.940110</td>\n",
       "      <td>8.0</td>\n",
       "      <td>-27.070200</td>\n",
       "      <td>16.246901</td>\n",
       "      <td>14.245800</td>\n",
       "    </tr>\n",
       "    <tr>\n",
       "      <th>29040</th>\n",
       "      <td>2949</td>\n",
       "      <td>29041.0</td>\n",
       "      <td>-0.739207</td>\n",
       "      <td>4.0</td>\n",
       "      <td>222.0</td>\n",
       "      <td>2.0</td>\n",
       "      <td>6.0</td>\n",
       "      <td>3.738140e+17</td>\n",
       "      <td>-0.922583</td>\n",
       "      <td>0.594412</td>\n",
       "      <td>-1.940850</td>\n",
       "      <td>8.0</td>\n",
       "      <td>-62.162701</td>\n",
       "      <td>38.309898</td>\n",
       "      <td>-59.028301</td>\n",
       "    </tr>\n",
       "    <tr>\n",
       "      <th>35050</th>\n",
       "      <td>2949</td>\n",
       "      <td>35051.0</td>\n",
       "      <td>-0.993253</td>\n",
       "      <td>6.0</td>\n",
       "      <td>308.0</td>\n",
       "      <td>2.0</td>\n",
       "      <td>6.0</td>\n",
       "      <td>3.738140e+17</td>\n",
       "      <td>-0.909623</td>\n",
       "      <td>0.614463</td>\n",
       "      <td>-1.940230</td>\n",
       "      <td>8.0</td>\n",
       "      <td>-98.140999</td>\n",
       "      <td>62.025200</td>\n",
       "      <td>-135.233002</td>\n",
       "    </tr>\n",
       "    <tr>\n",
       "      <th>40263</th>\n",
       "      <td>2949</td>\n",
       "      <td>40264.0</td>\n",
       "      <td>-1.114462</td>\n",
       "      <td>8.0</td>\n",
       "      <td>305.0</td>\n",
       "      <td>2.0</td>\n",
       "      <td>6.0</td>\n",
       "      <td>3.738140e+17</td>\n",
       "      <td>-0.889414</td>\n",
       "      <td>0.640325</td>\n",
       "      <td>-1.940650</td>\n",
       "      <td>8.0</td>\n",
       "      <td>-143.350998</td>\n",
       "      <td>93.562401</td>\n",
       "      <td>-232.794006</td>\n",
       "    </tr>\n",
       "    <tr>\n",
       "      <th>22828</th>\n",
       "      <td>2949</td>\n",
       "      <td>22829.0</td>\n",
       "      <td>1.073182</td>\n",
       "      <td>2.0</td>\n",
       "      <td>127.0</td>\n",
       "      <td>3.0</td>\n",
       "      <td>2.0</td>\n",
       "      <td>1.351138e+17</td>\n",
       "      <td>-0.591919</td>\n",
       "      <td>0.522993</td>\n",
       "      <td>0.355914</td>\n",
       "      <td>8.0</td>\n",
       "      <td>-24.662201</td>\n",
       "      <td>21.243900</td>\n",
       "      <td>42.034801</td>\n",
       "    </tr>\n",
       "    <tr>\n",
       "      <th>29997</th>\n",
       "      <td>2949</td>\n",
       "      <td>29998.0</td>\n",
       "      <td>0.756611</td>\n",
       "      <td>4.0</td>\n",
       "      <td>253.0</td>\n",
       "      <td>2.0</td>\n",
       "      <td>2.0</td>\n",
       "      <td>1.351138e+17</td>\n",
       "      <td>-0.575437</td>\n",
       "      <td>0.537762</td>\n",
       "      <td>0.357029</td>\n",
       "      <td>8.0</td>\n",
       "      <td>-54.017399</td>\n",
       "      <td>47.891102</td>\n",
       "      <td>59.982498</td>\n",
       "    </tr>\n",
       "    <tr>\n",
       "      <th>37162</th>\n",
       "      <td>2949</td>\n",
       "      <td>37163.0</td>\n",
       "      <td>0.643752</td>\n",
       "      <td>6.0</td>\n",
       "      <td>462.0</td>\n",
       "      <td>2.0</td>\n",
       "      <td>2.0</td>\n",
       "      <td>1.351138e+17</td>\n",
       "      <td>-0.558016</td>\n",
       "      <td>0.555067</td>\n",
       "      <td>0.356864</td>\n",
       "      <td>8.0</td>\n",
       "      <td>-85.312599</td>\n",
       "      <td>78.068901</td>\n",
       "      <td>79.694000</td>\n",
       "    </tr>\n",
       "    <tr>\n",
       "      <th>42979</th>\n",
       "      <td>2949</td>\n",
       "      <td>42980.0</td>\n",
       "      <td>0.578561</td>\n",
       "      <td>8.0</td>\n",
       "      <td>693.0</td>\n",
       "      <td>2.0</td>\n",
       "      <td>3.0</td>\n",
       "      <td>1.351138e+17</td>\n",
       "      <td>-0.533065</td>\n",
       "      <td>0.579053</td>\n",
       "      <td>0.355749</td>\n",
       "      <td>8.0</td>\n",
       "      <td>-124.561996</td>\n",
       "      <td>118.857002</td>\n",
       "      <td>105.262001</td>\n",
       "    </tr>\n",
       "    <tr>\n",
       "      <th>22829</th>\n",
       "      <td>2949</td>\n",
       "      <td>22830.0</td>\n",
       "      <td>0.290142</td>\n",
       "      <td>2.0</td>\n",
       "      <td>127.0</td>\n",
       "      <td>2.0</td>\n",
       "      <td>1.0</td>\n",
       "      <td>5.674761e+17</td>\n",
       "      <td>-0.745167</td>\n",
       "      <td>0.550013</td>\n",
       "      <td>0.011465</td>\n",
       "      <td>8.0</td>\n",
       "      <td>-25.587099</td>\n",
       "      <td>19.324600</td>\n",
       "      <td>9.434380</td>\n",
       "    </tr>\n",
       "    <tr>\n",
       "      <th>30002</th>\n",
       "      <td>2949</td>\n",
       "      <td>30003.0</td>\n",
       "      <td>0.139724</td>\n",
       "      <td>4.0</td>\n",
       "      <td>253.0</td>\n",
       "      <td>1.0</td>\n",
       "      <td>1.0</td>\n",
       "      <td>5.674761e+17</td>\n",
       "      <td>-0.758359</td>\n",
       "      <td>0.530681</td>\n",
       "      <td>0.013907</td>\n",
       "      <td>8.0</td>\n",
       "      <td>-57.463100</td>\n",
       "      <td>42.235802</td>\n",
       "      <td>9.996880</td>\n",
       "    </tr>\n",
       "    <tr>\n",
       "      <th>36575</th>\n",
       "      <td>2949</td>\n",
       "      <td>36576.0</td>\n",
       "      <td>0.092559</td>\n",
       "      <td>6.0</td>\n",
       "      <td>411.0</td>\n",
       "      <td>2.0</td>\n",
       "      <td>1.0</td>\n",
       "      <td>5.674761e+17</td>\n",
       "      <td>-0.773232</td>\n",
       "      <td>0.507661</td>\n",
       "      <td>0.015529</td>\n",
       "      <td>8.0</td>\n",
       "      <td>-93.753304</td>\n",
       "      <td>66.828300</td>\n",
       "      <td>10.671900</td>\n",
       "    </tr>\n",
       "    <tr>\n",
       "      <th>42443</th>\n",
       "      <td>2949</td>\n",
       "      <td>42444.0</td>\n",
       "      <td>0.068668</td>\n",
       "      <td>8.0</td>\n",
       "      <td>617.0</td>\n",
       "      <td>2.0</td>\n",
       "      <td>1.0</td>\n",
       "      <td>5.674761e+17</td>\n",
       "      <td>-0.790539</td>\n",
       "      <td>0.478312</td>\n",
       "      <td>0.018382</td>\n",
       "      <td>8.0</td>\n",
       "      <td>-141.632996</td>\n",
       "      <td>96.994904</td>\n",
       "      <td>11.796900</td>\n",
       "    </tr>\n",
       "    <tr>\n",
       "      <th>22853</th>\n",
       "      <td>2949</td>\n",
       "      <td>22854.0</td>\n",
       "      <td>1.016058</td>\n",
       "      <td>2.0</td>\n",
       "      <td>128.0</td>\n",
       "      <td>2.0</td>\n",
       "      <td>4.0</td>\n",
       "      <td>5.854844e+17</td>\n",
       "      <td>-0.219285</td>\n",
       "      <td>0.029741</td>\n",
       "      <td>0.188190</td>\n",
       "      <td>8.0</td>\n",
       "      <td>-31.330299</td>\n",
       "      <td>2.818730</td>\n",
       "      <td>37.752399</td>\n",
       "    </tr>\n",
       "    <tr>\n",
       "      <th>30911</th>\n",
       "      <td>2949</td>\n",
       "      <td>30912.0</td>\n",
       "      <td>0.882333</td>\n",
       "      <td>4.0</td>\n",
       "      <td>288.0</td>\n",
       "      <td>3.0</td>\n",
       "      <td>4.0</td>\n",
       "      <td>5.854844e+17</td>\n",
       "      <td>-0.213912</td>\n",
       "      <td>0.054748</td>\n",
       "      <td>0.187901</td>\n",
       "      <td>8.0</td>\n",
       "      <td>-72.054802</td>\n",
       "      <td>10.731800</td>\n",
       "      <td>72.948502</td>\n",
       "    </tr>\n",
       "    <tr>\n",
       "      <th>37225</th>\n",
       "      <td>2949</td>\n",
       "      <td>37226.0</td>\n",
       "      <td>0.836968</td>\n",
       "      <td>6.0</td>\n",
       "      <td>467.0</td>\n",
       "      <td>3.0</td>\n",
       "      <td>4.0</td>\n",
       "      <td>5.854844e+17</td>\n",
       "      <td>-0.208171</td>\n",
       "      <td>0.081171</td>\n",
       "      <td>0.183785</td>\n",
       "      <td>8.0</td>\n",
       "      <td>-114.205002</td>\n",
       "      <td>24.357599</td>\n",
       "      <td>109.553001</td>\n",
       "    </tr>\n",
       "    <tr>\n",
       "      <th>43458</th>\n",
       "      <td>2949</td>\n",
       "      <td>43459.0</td>\n",
       "      <td>0.814300</td>\n",
       "      <td>8.0</td>\n",
       "      <td>777.0</td>\n",
       "      <td>2.0</td>\n",
       "      <td>3.0</td>\n",
       "      <td>5.854844e+17</td>\n",
       "      <td>-0.192662</td>\n",
       "      <td>0.112237</td>\n",
       "      <td>0.183284</td>\n",
       "      <td>8.0</td>\n",
       "      <td>-164.815002</td>\n",
       "      <td>48.859100</td>\n",
       "      <td>155.973007</td>\n",
       "    </tr>\n",
       "    <tr>\n",
       "      <th>22926</th>\n",
       "      <td>2949</td>\n",
       "      <td>22927.0</td>\n",
       "      <td>1.013291</td>\n",
       "      <td>2.0</td>\n",
       "      <td>128.0</td>\n",
       "      <td>1.0</td>\n",
       "      <td>3.0</td>\n",
       "      <td>4.143466e+17</td>\n",
       "      <td>-0.231299</td>\n",
       "      <td>0.020606</td>\n",
       "      <td>-0.170488</td>\n",
       "      <td>8.0</td>\n",
       "      <td>-31.404200</td>\n",
       "      <td>1.508480</td>\n",
       "      <td>37.596901</td>\n",
       "    </tr>\n",
       "    <tr>\n",
       "      <th>30108</th>\n",
       "      <td>2949</td>\n",
       "      <td>30109.0</td>\n",
       "      <td>0.107918</td>\n",
       "      <td>4.0</td>\n",
       "      <td>256.0</td>\n",
       "      <td>2.0</td>\n",
       "      <td>3.0</td>\n",
       "      <td>4.143466e+17</td>\n",
       "      <td>-0.226689</td>\n",
       "      <td>0.045381</td>\n",
       "      <td>-0.170823</td>\n",
       "      <td>8.0</td>\n",
       "      <td>-71.418800</td>\n",
       "      <td>7.373710</td>\n",
       "      <td>7.763390</td>\n",
       "    </tr>\n",
       "    <tr>\n",
       "      <th>35883</th>\n",
       "      <td>2949</td>\n",
       "      <td>35884.0</td>\n",
       "      <td>-0.219755</td>\n",
       "      <td>6.0</td>\n",
       "      <td>363.0</td>\n",
       "      <td>2.0</td>\n",
       "      <td>3.0</td>\n",
       "      <td>4.143466e+17</td>\n",
       "      <td>-0.217343</td>\n",
       "      <td>0.071652</td>\n",
       "      <td>-0.172453</td>\n",
       "      <td>8.0</td>\n",
       "      <td>-114.435997</td>\n",
       "      <td>18.774799</td>\n",
       "      <td>-25.689699</td>\n",
       "    </tr>\n",
       "    <tr>\n",
       "      <th>41265</th>\n",
       "      <td>2949</td>\n",
       "      <td>41266.0</td>\n",
       "      <td>-0.389867</td>\n",
       "      <td>8.0</td>\n",
       "      <td>466.0</td>\n",
       "      <td>3.0</td>\n",
       "      <td>3.0</td>\n",
       "      <td>4.143466e+17</td>\n",
       "      <td>-0.203867</td>\n",
       "      <td>0.102309</td>\n",
       "      <td>-0.172311</td>\n",
       "      <td>8.0</td>\n",
       "      <td>-167.891998</td>\n",
       "      <td>40.653999</td>\n",
       "      <td>-69.066299</td>\n",
       "    </tr>\n",
       "    <tr>\n",
       "      <th>41888</th>\n",
       "      <td>2949</td>\n",
       "      <td>41889.0</td>\n",
       "      <td>-0.387004</td>\n",
       "      <td>8.0</td>\n",
       "      <td>543.0</td>\n",
       "      <td>2.0</td>\n",
       "      <td>4.0</td>\n",
       "      <td>4.143466e+17</td>\n",
       "      <td>-0.204696</td>\n",
       "      <td>0.101609</td>\n",
       "      <td>-0.171820</td>\n",
       "      <td>8.0</td>\n",
       "      <td>-166.582001</td>\n",
       "      <td>39.996498</td>\n",
       "      <td>-67.967499</td>\n",
       "    </tr>\n",
       "    <tr>\n",
       "      <th>41898</th>\n",
       "      <td>2949</td>\n",
       "      <td>41899.0</td>\n",
       "      <td>-0.390921</td>\n",
       "      <td>8.0</td>\n",
       "      <td>544.0</td>\n",
       "      <td>3.0</td>\n",
       "      <td>3.0</td>\n",
       "      <td>4.143466e+17</td>\n",
       "      <td>-0.204234</td>\n",
       "      <td>0.102369</td>\n",
       "      <td>-0.171724</td>\n",
       "      <td>8.0</td>\n",
       "      <td>-168.373001</td>\n",
       "      <td>40.893299</td>\n",
       "      <td>-69.472397</td>\n",
       "    </tr>\n",
       "    <tr>\n",
       "      <th>22930</th>\n",
       "      <td>2949</td>\n",
       "      <td>22931.0</td>\n",
       "      <td>0.436630</td>\n",
       "      <td>2.0</td>\n",
       "      <td>128.0</td>\n",
       "      <td>2.0</td>\n",
       "      <td>1.0</td>\n",
       "      <td>2.432048e+17</td>\n",
       "      <td>-0.265857</td>\n",
       "      <td>0.026639</td>\n",
       "      <td>0.067491</td>\n",
       "      <td>8.0</td>\n",
       "      <td>-31.122200</td>\n",
       "      <td>6.507610</td>\n",
       "      <td>14.328100</td>\n",
       "    </tr>\n",
       "    <tr>\n",
       "      <th>30096</th>\n",
       "      <td>2949</td>\n",
       "      <td>30097.0</td>\n",
       "      <td>0.335522</td>\n",
       "      <td>4.0</td>\n",
       "      <td>256.0</td>\n",
       "      <td>2.0</td>\n",
       "      <td>1.0</td>\n",
       "      <td>2.432048e+17</td>\n",
       "      <td>-0.261506</td>\n",
       "      <td>0.049987</td>\n",
       "      <td>0.068825</td>\n",
       "      <td>8.0</td>\n",
       "      <td>-71.626900</td>\n",
       "      <td>12.346200</td>\n",
       "      <td>24.846901</td>\n",
       "    </tr>\n",
       "    <tr>\n",
       "      <th>36644</th>\n",
       "      <td>2949</td>\n",
       "      <td>36645.0</td>\n",
       "      <td>0.308692</td>\n",
       "      <td>6.0</td>\n",
       "      <td>415.0</td>\n",
       "      <td>2.0</td>\n",
       "      <td>2.0</td>\n",
       "      <td>2.432048e+17</td>\n",
       "      <td>-0.254034</td>\n",
       "      <td>0.075850</td>\n",
       "      <td>0.070696</td>\n",
       "      <td>8.0</td>\n",
       "      <td>-113.779999</td>\n",
       "      <td>22.662001</td>\n",
       "      <td>36.384300</td>\n",
       "    </tr>\n",
       "    <tr>\n",
       "      <th>42469</th>\n",
       "      <td>2949</td>\n",
       "      <td>42470.0</td>\n",
       "      <td>0.296593</td>\n",
       "      <td>8.0</td>\n",
       "      <td>621.0</td>\n",
       "      <td>2.0</td>\n",
       "      <td>2.0</td>\n",
       "      <td>2.432048e+17</td>\n",
       "      <td>-0.242348</td>\n",
       "      <td>0.105090</td>\n",
       "      <td>0.071886</td>\n",
       "      <td>8.0</td>\n",
       "      <td>-165.869995</td>\n",
       "      <td>41.476601</td>\n",
       "      <td>51.457298</td>\n",
       "    </tr>\n",
       "    <tr>\n",
       "      <th>42482</th>\n",
       "      <td>2949</td>\n",
       "      <td>42483.0</td>\n",
       "      <td>0.296320</td>\n",
       "      <td>8.0</td>\n",
       "      <td>622.0</td>\n",
       "      <td>2.0</td>\n",
       "      <td>2.0</td>\n",
       "      <td>2.432048e+17</td>\n",
       "      <td>-0.241543</td>\n",
       "      <td>0.106198</td>\n",
       "      <td>0.072751</td>\n",
       "      <td>8.0</td>\n",
       "      <td>-167.789993</td>\n",
       "      <td>42.319199</td>\n",
       "      <td>52.030300</td>\n",
       "    </tr>\n",
       "  </tbody>\n",
       "</table>\n",
       "<p>12546346 rows × 15 columns</p>\n",
       "</div>"
      ],
      "text/plain": [
       "      event_id   hit_id       eta  layer_id  module_id  nch0  nch1  \\\n",
       "20042     1000  20043.0 -0.372461       2.0       97.0   3.0   2.0   \n",
       "21826     1000  21827.0 -0.364603       2.0      112.0   1.0   2.0   \n",
       "29668     1000  29669.0 -0.455122       4.0      193.0   3.0   2.0   \n",
       "30703     1000  30704.0 -0.453312       4.0      224.0   1.0   3.0   \n",
       "37345     1000  37346.0 -0.480718       6.0      313.0   2.0   2.0   \n",
       "38162     1000  38163.0 -0.479987       6.0      364.0   2.0   2.0   \n",
       "43651     1000  43652.0 -0.494011       8.0      391.0   2.0   2.0   \n",
       "44183     1000  44184.0 -0.493657       8.0      468.0   2.0   3.0   \n",
       "20043     1000  20044.0 -1.095952       2.0       97.0   2.0   5.0   \n",
       "21914     1000  21915.0 -1.093295       2.0      112.0   1.0   5.0   \n",
       "28817     1000  28818.0 -1.113451       4.0      161.0   2.0   5.0   \n",
       "29629     1000  29630.0 -1.112944       4.0      192.0   1.0   5.0   \n",
       "36144     1000  36145.0 -1.119386       6.0      209.0   2.0   5.0   \n",
       "42695     1000  42696.0 -1.123841       8.0      236.0   1.0   5.0   \n",
       "20044     1000  20045.0 -0.444202       2.0       97.0   2.0   3.0   \n",
       "29706     1000  29707.0 -0.611055       4.0      194.0   2.0   3.0   \n",
       "36678     1000  36679.0 -0.660674       6.0      262.0   3.0   3.0   \n",
       "43643     1000  43644.0 -0.687908       8.0      391.0   3.0   3.0   \n",
       "20045     1000  20046.0 -0.375021       2.0       97.0   1.0   3.0   \n",
       "20189     1000  20190.0 -0.385834       2.0       98.0   2.0   3.0   \n",
       "29698     1000  29699.0 -0.510141       4.0      194.0   2.0   3.0   \n",
       "29752     1000  29753.0 -0.512882       4.0      195.0   2.0   3.0   \n",
       "37408     1000  37409.0 -0.550877       6.0      316.0   3.0   2.0   \n",
       "43673     1000  43674.0 -0.570195       8.0      395.0   2.0   3.0   \n",
       "20046     1000  20047.0  0.000687       2.0       97.0   1.0   3.0   \n",
       "21947     1000  21948.0 -0.009091       2.0      113.0   2.0   3.0   \n",
       "22152     1000  22153.0  0.029532       2.0      114.0   3.0   3.0   \n",
       "30789     1000  30790.0  0.337004       4.0      226.0   2.0   3.0   \n",
       "38210     1000  38211.0  0.433398       6.0      367.0   2.0   3.0   \n",
       "45494     1000  45495.0  0.484890       8.0      628.0   1.0   2.0   \n",
       "...        ...      ...       ...       ...        ...   ...   ...   \n",
       "35844     2949  35845.0 -0.528577       6.0      361.0   1.0   4.0   \n",
       "35863     2949  35864.0 -0.537016       6.0      362.0   1.0   4.0   \n",
       "41252     2949  41253.0 -0.698083       8.0      465.0   1.0   4.0   \n",
       "22772     2949  22773.0  0.437166       2.0      127.0   2.0   6.0   \n",
       "29040     2949  29041.0 -0.739207       4.0      222.0   2.0   6.0   \n",
       "35050     2949  35051.0 -0.993253       6.0      308.0   2.0   6.0   \n",
       "40263     2949  40264.0 -1.114462       8.0      305.0   2.0   6.0   \n",
       "22828     2949  22829.0  1.073182       2.0      127.0   3.0   2.0   \n",
       "29997     2949  29998.0  0.756611       4.0      253.0   2.0   2.0   \n",
       "37162     2949  37163.0  0.643752       6.0      462.0   2.0   2.0   \n",
       "42979     2949  42980.0  0.578561       8.0      693.0   2.0   3.0   \n",
       "22829     2949  22830.0  0.290142       2.0      127.0   2.0   1.0   \n",
       "30002     2949  30003.0  0.139724       4.0      253.0   1.0   1.0   \n",
       "36575     2949  36576.0  0.092559       6.0      411.0   2.0   1.0   \n",
       "42443     2949  42444.0  0.068668       8.0      617.0   2.0   1.0   \n",
       "22853     2949  22854.0  1.016058       2.0      128.0   2.0   4.0   \n",
       "30911     2949  30912.0  0.882333       4.0      288.0   3.0   4.0   \n",
       "37225     2949  37226.0  0.836968       6.0      467.0   3.0   4.0   \n",
       "43458     2949  43459.0  0.814300       8.0      777.0   2.0   3.0   \n",
       "22926     2949  22927.0  1.013291       2.0      128.0   1.0   3.0   \n",
       "30108     2949  30109.0  0.107918       4.0      256.0   2.0   3.0   \n",
       "35883     2949  35884.0 -0.219755       6.0      363.0   2.0   3.0   \n",
       "41265     2949  41266.0 -0.389867       8.0      466.0   3.0   3.0   \n",
       "41888     2949  41889.0 -0.387004       8.0      543.0   2.0   4.0   \n",
       "41898     2949  41899.0 -0.390921       8.0      544.0   3.0   3.0   \n",
       "22930     2949  22931.0  0.436630       2.0      128.0   2.0   1.0   \n",
       "30096     2949  30097.0  0.335522       4.0      256.0   2.0   1.0   \n",
       "36644     2949  36645.0  0.308692       6.0      415.0   2.0   2.0   \n",
       "42469     2949  42470.0  0.296593       8.0      621.0   2.0   2.0   \n",
       "42482     2949  42483.0  0.296320       8.0      622.0   2.0   2.0   \n",
       "\n",
       "        particle_id       tpx       tpy       tpz  volume_id           x  \\\n",
       "20042  1.080958e+17 -2.771100 -0.023715 -1.515780        8.0  -33.674000   \n",
       "21826  1.080958e+17 -2.771340 -0.024289 -1.515410        8.0  -32.010101   \n",
       "29668  1.080958e+17 -2.770970  0.000340 -1.514780        8.0  -73.471901   \n",
       "30703  1.080958e+17 -2.770980 -0.001129 -1.515090        8.0  -71.580399   \n",
       "37345  1.080958e+17 -2.768900  0.027852 -1.513700        8.0 -117.384003   \n",
       "38162  1.080958e+17 -2.768750  0.026067 -1.514100        8.0 -115.445999   \n",
       "43651  1.080958e+17 -2.768500  0.058717 -1.512330        8.0 -172.957001   \n",
       "44183  1.080958e+17 -2.768770  0.057969 -1.511960        8.0 -170.962006   \n",
       "20043  5.944780e+17 -0.319480  0.002672 -0.442060        8.0  -34.331402   \n",
       "21914  5.944780e+17 -0.319730  0.004456 -0.442086        8.0  -31.905899   \n",
       "28817  5.944780e+17 -0.317850 -0.021670 -0.441839        8.0  -73.185799   \n",
       "29629  5.944780e+17 -0.318506 -0.020061 -0.441521        8.0  -71.128799   \n",
       "36144  5.944780e+17 -0.315475 -0.047228 -0.440719        8.0 -116.559998   \n",
       "42695  5.944780e+17 -0.308661 -0.080400 -0.439943        8.0 -171.828003   \n",
       "20044  3.242789e+17 -0.173558 -0.040211 -0.141946        8.0  -30.644300   \n",
       "29706  3.242789e+17 -0.176376 -0.021280 -0.141222        8.0  -71.110397   \n",
       "36678  3.242789e+17 -0.175910  0.003210 -0.141995        8.0 -114.474998   \n",
       "43643  3.242789e+17 -0.166469  0.039125 -0.134691        8.0 -170.772003   \n",
       "20045  9.052242e+17 -0.562073 -0.241740 -0.400883        8.0  -29.223301   \n",
       "20189  9.052242e+17 -0.562552 -0.241164 -0.400475        8.0  -30.537399   \n",
       "29698  9.052242e+17 -0.570939 -0.219893 -0.400044        8.0  -65.824799   \n",
       "29752  9.052242e+17 -0.571077 -0.218620 -0.400455        8.0  -67.573898   \n",
       "37408  9.052242e+17 -0.580369 -0.193576 -0.399001        8.0 -108.681999   \n",
       "43673  9.052242e+17 -0.587155 -0.161078 -0.393518        8.0 -161.380005   \n",
       "20046  8.602094e+17 -0.394165 -0.084308  0.248263        8.0  -29.652300   \n",
       "21947  8.602094e+17 -0.394291 -0.084734  0.248000        8.0  -29.165100   \n",
       "22152  8.602094e+17 -0.394039 -0.085074  0.248064        8.0  -31.193300   \n",
       "30789  8.602094e+17 -0.388094 -0.106753  0.248100        8.0  -68.419701   \n",
       "38210  8.602094e+17 -0.379584 -0.132309  0.247433        8.0 -110.496002   \n",
       "45494  8.602094e+17 -0.365828 -0.162365  0.249284        8.0 -162.298996   \n",
       "...             ...       ...       ...       ...        ...         ...   \n",
       "35844  3.738241e+17 -0.243140  0.053761 -0.288825        8.0 -108.197998   \n",
       "35863  3.738241e+17 -0.243682  0.052485 -0.288552        8.0 -110.009003   \n",
       "41252  3.738241e+17 -0.249011  0.017406 -0.287289        8.0 -164.889999   \n",
       "22772  3.738140e+17 -0.938095  0.573982 -1.940110        8.0  -27.070200   \n",
       "29040  3.738140e+17 -0.922583  0.594412 -1.940850        8.0  -62.162701   \n",
       "35050  3.738140e+17 -0.909623  0.614463 -1.940230        8.0  -98.140999   \n",
       "40263  3.738140e+17 -0.889414  0.640325 -1.940650        8.0 -143.350998   \n",
       "22828  1.351138e+17 -0.591919  0.522993  0.355914        8.0  -24.662201   \n",
       "29997  1.351138e+17 -0.575437  0.537762  0.357029        8.0  -54.017399   \n",
       "37162  1.351138e+17 -0.558016  0.555067  0.356864        8.0  -85.312599   \n",
       "42979  1.351138e+17 -0.533065  0.579053  0.355749        8.0 -124.561996   \n",
       "22829  5.674761e+17 -0.745167  0.550013  0.011465        8.0  -25.587099   \n",
       "30002  5.674761e+17 -0.758359  0.530681  0.013907        8.0  -57.463100   \n",
       "36575  5.674761e+17 -0.773232  0.507661  0.015529        8.0  -93.753304   \n",
       "42443  5.674761e+17 -0.790539  0.478312  0.018382        8.0 -141.632996   \n",
       "22853  5.854844e+17 -0.219285  0.029741  0.188190        8.0  -31.330299   \n",
       "30911  5.854844e+17 -0.213912  0.054748  0.187901        8.0  -72.054802   \n",
       "37225  5.854844e+17 -0.208171  0.081171  0.183785        8.0 -114.205002   \n",
       "43458  5.854844e+17 -0.192662  0.112237  0.183284        8.0 -164.815002   \n",
       "22926  4.143466e+17 -0.231299  0.020606 -0.170488        8.0  -31.404200   \n",
       "30108  4.143466e+17 -0.226689  0.045381 -0.170823        8.0  -71.418800   \n",
       "35883  4.143466e+17 -0.217343  0.071652 -0.172453        8.0 -114.435997   \n",
       "41265  4.143466e+17 -0.203867  0.102309 -0.172311        8.0 -167.891998   \n",
       "41888  4.143466e+17 -0.204696  0.101609 -0.171820        8.0 -166.582001   \n",
       "41898  4.143466e+17 -0.204234  0.102369 -0.171724        8.0 -168.373001   \n",
       "22930  2.432048e+17 -0.265857  0.026639  0.067491        8.0  -31.122200   \n",
       "30096  2.432048e+17 -0.261506  0.049987  0.068825        8.0  -71.626900   \n",
       "36644  2.432048e+17 -0.254034  0.075850  0.070696        8.0 -113.779999   \n",
       "42469  2.432048e+17 -0.242348  0.105090  0.071886        8.0 -165.869995   \n",
       "42482  2.432048e+17 -0.241543  0.106198  0.072751        8.0 -167.789993   \n",
       "\n",
       "                y           z  \n",
       "20042   -0.446628  -12.835400  \n",
       "21826   -0.440721  -11.932400  \n",
       "29668   -0.615863  -34.606300  \n",
       "30703   -0.604620  -33.572201  \n",
       "37345   -0.393283  -58.627499  \n",
       "38162   -0.404245  -57.565300  \n",
       "43651    0.472070  -88.960899  \n",
       "44183    0.427640  -87.866699  \n",
       "20043    1.433860  -45.662899  \n",
       "21914    1.406340  -42.300098  \n",
       "28817    0.304351  -99.402702  \n",
       "29629    0.445410  -96.549103  \n",
       "36144   -4.449530 -159.598999  \n",
       "42695  -15.719700 -237.389999  \n",
       "20044   -9.111690  -14.672900  \n",
       "29706  -16.725300  -47.468300  \n",
       "36678  -18.998600  -82.365402  \n",
       "43643  -11.519400 -127.250999  \n",
       "20045  -13.176100  -12.305600  \n",
       "20189  -13.749600  -13.244600  \n",
       "29698  -28.113899  -38.118999  \n",
       "29752  -28.780800  -39.343399  \n",
       "37408  -43.473400  -67.793701  \n",
       "43673  -59.464100 -103.467003  \n",
       "20046  -11.948900    0.021978  \n",
       "21947  -11.842300   -0.286176  \n",
       "22152  -12.272100    0.990079  \n",
       "30789  -21.346701   24.613701  \n",
       "38210  -34.464199   51.749401  \n",
       "45494  -54.941299   86.378304  \n",
       "...           ...         ...  \n",
       "35844   40.179199  -63.887699  \n",
       "35863   40.562302  -66.034798  \n",
       "41252   48.335201 -129.932999  \n",
       "22772   16.246901   14.245800  \n",
       "29040   38.309898  -59.028301  \n",
       "35050   62.025200 -135.233002  \n",
       "40263   93.562401 -232.794006  \n",
       "22828   21.243900   42.034801  \n",
       "29997   47.891102   59.982498  \n",
       "37162   78.068901   79.694000  \n",
       "42979  118.857002  105.262001  \n",
       "22829   19.324600    9.434380  \n",
       "30002   42.235802    9.996880  \n",
       "36575   66.828300   10.671900  \n",
       "42443   96.994904   11.796900  \n",
       "22853    2.818730   37.752399  \n",
       "30911   10.731800   72.948502  \n",
       "37225   24.357599  109.553001  \n",
       "43458   48.859100  155.973007  \n",
       "22926    1.508480   37.596901  \n",
       "30108    7.373710    7.763390  \n",
       "35883   18.774799  -25.689699  \n",
       "41265   40.653999  -69.066299  \n",
       "41888   39.996498  -67.967499  \n",
       "41898   40.893299  -69.472397  \n",
       "22930    6.507610   14.328100  \n",
       "30096   12.346200   24.846901  \n",
       "36644   22.662001   36.384300  \n",
       "42469   41.476601   51.457298  \n",
       "42482   42.319199   52.030300  \n",
       "\n",
       "[12546346 rows x 15 columns]"
      ]
     },
     "execution_count": 36,
     "metadata": {},
     "output_type": "execute_result"
    }
   ],
   "source": [
    "f1 = pd.read_pickle('ideal_final_data_cut.pkl')\n",
    "f2 = pd.read_pickle('ideal_final_data2_cut.pkl')\n",
    "f3 = pd.read_pickle('ideal_final_data3_cut.pkl')\n",
    "f4 = pd.read_pickle('ideal_final_data4_cut.pkl')\n",
    "f5 = pd.read_pickle('ideal_final_data5_cut.pkl')\n",
    "f6 = pd.read_pickle('ideal_final_data6_cut.pkl')\n",
    "f7 = pd.read_pickle('ideal_final_data7_cut.pkl')\n",
    "f8 = pd.read_pickle('ideal_final_data8_cut.pkl')\n",
    "f9 = pd.read_pickle('ideal_final_data9_cut.pkl')\n",
    "f10 = pd.read_pickle('ideal_final_data10_cut.pkl')\n",
    "f11 = pd.read_pickle('ideal_final_data11_cut.pkl')\n",
    "f12 = pd.read_pickle('ideal_final_data12_cut.pkl')\n",
    "f13 = pd.read_pickle('ideal_final_data13_cut.pkl')\n",
    "f14 = pd.read_pickle('ideal_final_data14_cut.pkl')\n",
    "f15 = pd.read_pickle('ideal_final_data15_cut.pkl')\n",
    "f161 = pd.read_pickle('ideal_final_data161_cut.pkl')\n",
    "f162 = pd.read_pickle('ideal_final_data162_cut.pkl')\n",
    "\n",
    "f17 = pd.read_pickle('ideal_final_data17_cut.pkl')\n",
    "f18 = pd.read_pickle('ideal_final_data18_cut.pkl')\n",
    "f19 = pd.read_pickle('ideal_final_data19_cut.pkl')\n",
    "f20 = pd.read_pickle('ideal_final_data20_cut.pkl')\n",
    "f21 = pd.read_pickle('ideal_final_data21_cut.pkl')\n",
    "f22 = pd.read_pickle('ideal_final_data22_cut.pkl')\n",
    "f23 = pd.read_pickle('ideal_final_data23_cut.pkl')\n",
    "f24 = pd.read_pickle('ideal_final_data24_cut.pkl')\n",
    "f25 = pd.read_pickle('ideal_final_data25_cut.pkl')\n",
    "f26 = pd.read_pickle('ideal_final_data26_cut.pkl')\n",
    "f27 = pd.read_pickle('ideal_final_data27_cut.pkl')\n",
    "f = pd.concat([f1, f2, f3, f4, f5, f6, f7, f8, f9, f10, f11, f12, f13, f14, f15, f161, f162, f17, f18, f19, f20, f21, f22, f23, f24, f25, f26, f27])\n",
    "f"
   ]
  },
  {
   "cell_type": "code",
   "execution_count": 37,
   "metadata": {},
   "outputs": [],
   "source": [
    "ha = len(ch10)/33652695375\n",
    "number_of_events = len(f['event_id'].unique())\n",
    "#per event based purity. TPR & FPR will not change either per event or not, if not per event based, excluding ha and number_of_events terms in the last part of its calculation.\n",
    "def purity_evaluation(tpr, fpr):\n",
    "    purity = []\n",
    "    for i in range(len(tpr)):\n",
    "        if tpr[i] == 0:\n",
    "            purity.append(0)\n",
    "        else:\n",
    "            purity.append(1/(1+fpr[i]/tpr[i]*(len(falses_test)/ha)/(len(trues_test)/number_of_events)))\n",
    "    return np.array(purity)"
   ]
  },
  {
   "cell_type": "code",
   "execution_count": null,
   "metadata": {},
   "outputs": [],
   "source": []
  },
  {
   "cell_type": "code",
   "execution_count": 38,
   "metadata": {},
   "outputs": [
    {
     "data": {
      "text/plain": [
       "array([6.06060606e-04, 6.06060606e-04, 6.06060606e-04, ...,\n",
       "       5.60878256e+02, 5.60878256e+02, 5.60878256e+02])"
      ]
     },
     "execution_count": 38,
     "metadata": {},
     "output_type": "execute_result"
    }
   ],
   "source": [
    "haha = np.array([1/ha] * len(falses_test))\n",
    "hehe = np.array([1/number_of_events] * len(trues_test))\n",
    "weights = np.array(list(hehe) + list(haha))\n",
    "weights"
   ]
  },
  {
   "cell_type": "code",
   "execution_count": 39,
   "metadata": {},
   "outputs": [],
   "source": [
    "pure_clasify = purity_evaluation(tpr_clasify, fpr_clasify)\n",
    "pure_clasify_c = purity_evaluation(tpr_clasify_c, fpr_clasify_c)\n",
    "pure_clasify_t = purity_evaluation(tpr_clasify_t, fpr_clasify_t)"
   ]
  },
  {
   "cell_type": "code",
   "execution_count": 40,
   "metadata": {},
   "outputs": [
    {
     "data": {
      "text/plain": [
       "Text(0.5, 1.0, 'Efficiency vs Purity')"
      ]
     },
     "execution_count": 40,
     "metadata": {},
     "output_type": "execute_result"
    },
    {
     "data": {
      "image/png": "[encoded data removed]",
      "text/plain": [
       "<Figure size 432x288 with 1 Axes>"
      ]
     },
     "metadata": {
      "needs_background": "light"
     },
     "output_type": "display_data"
    }
   ],
   "source": [
    "plt.plot(pure_clasify, tpr_clasify)\n",
    "plt.plot(pure_clasify_c, tpr_clasify_c)\n",
    "plt.plot(pure_clasify_t, tpr_clasify_t)\n",
    "plt.ylabel('efficiency')\n",
    "plt.xlabel('purity')\n",
    "plt.yscale('log')\n",
    "plt.legend(['x-y-z_prediction', 'ch1-num_prediction','combined_approach'])\n",
    "plt.title('Efficiency vs Purity')"
   ]
  },
  {
   "cell_type": "code",
   "execution_count": null,
   "metadata": {},
   "outputs": [],
   "source": []
  },
  {
   "cell_type": "code",
   "execution_count": null,
   "metadata": {},
   "outputs": [],
   "source": []
  },
  {
   "cell_type": "code",
   "execution_count": 41,
   "metadata": {},
   "outputs": [],
   "source": [
    "pur, eff, thr = precision_recall_curve(indicator_test, predictions_clasify, sample_weight = weights)\n",
    "pur_c, eff_c, thr_c = precision_recall_curve(indicator_test, predictions_clasify_c, sample_weight = weights)\n",
    "pur_t, eff_t, thr_t = precision_recall_curve(indicator_test, predictions_clasify_t, sample_weight = weights)"
   ]
  },
  {
   "cell_type": "code",
   "execution_count": 42,
   "metadata": {},
   "outputs": [
    {
     "data": {
      "text/plain": [
       "Text(0.5, 1.0, 'Efficiency vs Purity _sklearn')"
      ]
     },
     "execution_count": 42,
     "metadata": {},
     "output_type": "execute_result"
    },
    {
     "data": {
      "image/png": "[encoded data removed]",
      "text/plain": [
       "<Figure size 432x288 with 1 Axes>"
      ]
     },
     "metadata": {
      "needs_background": "light"
     },
     "output_type": "display_data"
    }
   ],
   "source": [
    "plt.plot(pur, eff)\n",
    "plt.plot(pur_c, eff_c)\n",
    "plt.plot(pur_t, eff_t)\n",
    "plt.yscale('log')\n",
    "plt.ylabel('efficiency')\n",
    "plt.xlabel('purity')\n",
    "plt.legend(['x-y-z_prediction', 'ch1-num_prediction', 'combined_approach'])\n",
    "plt.title('Efficiency vs Purity _sklearn')"
   ]
  },
  {
   "cell_type": "markdown",
   "metadata": {},
   "source": [
    "help_effs = np.abs(np.array([i-0.8 for i in eff[:-1]]))\n",
    "help_effs_c = np.abs(np.array([i-0.8 for i in eff_c[:-1]]))\n",
    "help_effs_t = np.abs(np.array([i-0.8 for i in eff_t[:-1]]))\n",
    "\n",
    "help_eff, help_eff_c, help_eff_t = min(help_effs), min(help_effs_c), min(help_effs_t)"
   ]
  },
  {
   "cell_type": "code",
   "execution_count": 43,
   "metadata": {},
   "outputs": [],
   "source": [
    "help_effs = np.abs(np.array([i-0.98 for i in eff[:-1]]))\n",
    "help_effs_c = np.abs(np.array([i-0.98 for i in eff_c[:-1]]))\n",
    "help_effs_t = np.abs(np.array([i-0.98 for i in eff_t[:-1]]))\n",
    "\n",
    "help_eff, help_eff_c, help_eff_t = min(help_effs), min(help_effs_c), min(help_effs_t)"
   ]
  },
  {
   "cell_type": "code",
   "execution_count": 44,
   "metadata": {},
   "outputs": [],
   "source": [
    "the_effs = np.array([i for i, j in zip(eff[:-1], help_effs) if j == help_eff])\n",
    "the_effs_c = np.array([i for i, j in zip(eff_c[:-1], help_effs_c) if j == help_eff_c])\n",
    "the_effs_t = np.array([i for i, j in zip(eff_t[:-1], help_effs_t) if j == help_eff_t])\n",
    "\n",
    "the_eff, the_eff_c, the_eff_t = the_effs[-1], the_effs_c[-1], the_effs_t[-1]"
   ]
  },
  {
   "cell_type": "code",
   "execution_count": 45,
   "metadata": {},
   "outputs": [
    {
     "data": {
      "text/plain": [
       "(0.9799997530243563, 0.9967176140240738, 0.9799999521982625)"
      ]
     },
     "execution_count": 45,
     "metadata": {},
     "output_type": "execute_result"
    }
   ],
   "source": [
    "the_eff, the_eff_c, the_eff_t"
   ]
  },
  {
   "cell_type": "code",
   "execution_count": 46,
   "metadata": {},
   "outputs": [],
   "source": [
    "the_cuts = np.array([j for i, j in zip(eff[:-1], thr) if i == the_eff])\n",
    "the_cuts_c = np.array([j for i, j in zip(eff_c[:-1], thr_c) if i == the_eff_c])\n",
    "the_cuts_t = np.array([j for i, j in zip(eff_t[:-1], thr_t) if i == the_eff_t])"
   ]
  },
  {
   "cell_type": "code",
   "execution_count": 47,
   "metadata": {},
   "outputs": [],
   "source": [
    "the_cut = np.mean(the_cuts)\n",
    "the_cut_c = np.mean(the_cuts_c)\n",
    "the_cut_t = np.mean(the_cuts_t)"
   ]
  },
  {
   "cell_type": "code",
   "execution_count": 48,
   "metadata": {},
   "outputs": [
    {
     "data": {
      "text/plain": [
       "(0.36919457, 0.42910615, 0.8395293)"
      ]
     },
     "execution_count": 48,
     "metadata": {},
     "output_type": "execute_result"
    }
   ],
   "source": [
    "the_cut, the_cut_c, the_cut_t"
   ]
  },
  {
   "cell_type": "code",
   "execution_count": 49,
   "metadata": {},
   "outputs": [],
   "source": [
    "test_positions = np.array([i for i, j in zip(np.array(list(range(len(test)))), predictions_clasify) if j >= the_cut])\n",
    "test_positions_c = np.array([i for i, j in zip(np.array(list(range(len(test_c)))), predictions_clasify_c) if j >= the_cut_c])\n",
    "test_positions_t = np.array([i for i, j in zip(np.array(list(range(len(test_total)))), predictions_clasify_t) if j >= the_cut_t])"
   ]
  },
  {
   "cell_type": "markdown",
   "metadata": {},
   "source": [
    "test_positionss = np.array([i for i, j in zip(np.array(list(range(len(test)))), predictions_clasify) if j[0] >= the_cut])\n",
    "np.array_equal(test_positions, test_positionss)"
   ]
  },
  {
   "cell_type": "code",
   "execution_count": null,
   "metadata": {},
   "outputs": [],
   "source": []
  },
  {
   "cell_type": "code",
   "execution_count": 50,
   "metadata": {},
   "outputs": [],
   "source": [
    "p1 = np.array([i for i in test_positions if i < len(test_1)])\n",
    "p0 = np.array([i-len(test_1) for i in test_positions if i >= len(test_1)])\n",
    "\n",
    "p1_c = np.array([i for i in test_positions_c if i < len(test_c1)])\n",
    "p0_c = np.array([i-len(test_c1) for i in test_positions_c if i >= len(test_c1)])\n",
    "\n",
    "p1_t = np.array([i for i in test_positions_t if i < len(test_total_1)])\n",
    "p0_t = np.array([i-len(test_total_1) for i in test_positions_t if i >= len(test_total_1)])"
   ]
  },
  {
   "cell_type": "code",
   "execution_count": 51,
   "metadata": {},
   "outputs": [
    {
     "data": {
      "text/plain": [
       "(4920323, 313811)"
      ]
     },
     "execution_count": 51,
     "metadata": {},
     "output_type": "execute_result"
    }
   ],
   "source": [
    "len(p1_t), len(p0_t)"
   ]
  },
  {
   "cell_type": "code",
   "execution_count": 52,
   "metadata": {},
   "outputs": [
    {
     "data": {
      "text/plain": [
       "(5004258, 27496352)"
      ]
     },
     "execution_count": 52,
     "metadata": {},
     "output_type": "execute_result"
    }
   ],
   "source": [
    "len(p1_c), len(p0_c) "
   ]
  },
  {
   "cell_type": "code",
   "execution_count": 53,
   "metadata": {},
   "outputs": [
    {
     "data": {
      "text/plain": [
       "(4920322, 1924741)"
      ]
     },
     "execution_count": 53,
     "metadata": {},
     "output_type": "execute_result"
    }
   ],
   "source": [
    "len(p1), len(p0)"
   ]
  },
  {
   "cell_type": "code",
   "execution_count": null,
   "metadata": {},
   "outputs": [],
   "source": []
  },
  {
   "cell_type": "code",
   "execution_count": 54,
   "metadata": {},
   "outputs": [
    {
     "data": {
      "text/plain": [
       "array([2., 2., 2.])"
      ]
     },
     "execution_count": 54,
     "metadata": {},
     "output_type": "execute_result"
    }
   ],
   "source": [
    "CH11[0]"
   ]
  },
  {
   "cell_type": "code",
   "execution_count": null,
   "metadata": {},
   "outputs": [],
   "source": []
  },
  {
   "cell_type": "code",
   "execution_count": null,
   "metadata": {},
   "outputs": [],
   "source": []
  },
  {
   "cell_type": "code",
   "execution_count": 55,
   "metadata": {},
   "outputs": [],
   "source": [
    "position1 = indices_1[p1]\n",
    "position0 = indices_0[p0]\n",
    "\n",
    "position1_c = indices_1[p1_c]\n",
    "position0_c = indices_0[p0_c]\n",
    "\n",
    "position1_t = indices_1[p1_t]\n",
    "position0_t = indices_0[p0_t]\n",
    "\n",
    "new_diff1 = diff1[position1]\n",
    "new_diff0 = diff0[position0]\n",
    "new_CH11_c = CH11[position1_c]\n",
    "new_CH10_c = CH10[position0_c]\n",
    "\n",
    "new_CH11_t = CH11[position1_t]\n",
    "new_CH10_t = CH10[position0_t]\n",
    "new_diff1_t = diff1[position1_t]\n",
    "new_diff0_t = diff0[position0_t]\n",
    "\n",
    "\n",
    "\n"
   ]
  },
  {
   "cell_type": "code",
   "execution_count": 56,
   "metadata": {},
   "outputs": [
    {
     "data": {
      "text/plain": [
       "array([3583089, 4891044, 4467619, ..., 2215104, 1484405, 4500015])"
      ]
     },
     "execution_count": 56,
     "metadata": {},
     "output_type": "execute_result"
    }
   ],
   "source": [
    "position1"
   ]
  },
  {
   "cell_type": "code",
   "execution_count": null,
   "metadata": {},
   "outputs": [],
   "source": []
  },
  {
   "cell_type": "code",
   "execution_count": 58,
   "metadata": {},
   "outputs": [],
   "source": [
    "np.save('new_diff1.npy', new_diff1)\n",
    "np.save('new_diff0.npy', new_diff0)\n",
    "np.save('new_ch1_c.npy', new_CH11_c)\n",
    "np.save('new_ch0_c.npy', new_CH10_c)\n",
    "np.save('new_ch1_t.npy', new_CH11_t)\n",
    "np.save('new_ch0_t.npy', new_CH10_t)\n",
    "np.save('new_diff1_t.npy', new_diff1_t)\n",
    "np.save('new_diff0_t.npy', new_diff0_t)\n",
    "\n",
    "\n",
    "np.save('position1.npy', position1)\n",
    "np.save('position0.npy', position0)\n",
    "\n",
    "np.save('position1_c.npy', position1_c)\n",
    "np.save('position0_c.npy', position0_c)\n",
    "\n",
    "np.save('position1_t.npy', position1_t)\n",
    "np.save('position0_t.npy', position0_t)"
   ]
  },
  {
   "cell_type": "markdown",
   "metadata": {},
   "source": [
    "p1 = []\n",
    "p0 = []\n",
    "\n",
    "\n",
    "for i in range(len(test_total_1)):\n",
    "    if test_total_1[i] in the_tests:\n",
    "        p1.append(i)\n",
    "for i in range(len(test_total_0)):\n",
    "    if test_total_0[i] in the_tests:\n",
    "        p0.append(i)\n",
    "\n",
    "position1 = indices_1[np.array(p1)]\n",
    "position0 = indices_0[np.array(p0)]\n",
    "\n",
    "new_CH11 = CH11[position1]\n",
    "new_CH10 = CH10[position0]\n",
    "new_diff1 = diff1[position1]\n",
    "new_diff0 = diff0[position0]\n"
   ]
  },
  {
   "cell_type": "code",
   "execution_count": null,
   "metadata": {},
   "outputs": [],
   "source": []
  },
  {
   "cell_type": "code",
   "execution_count": null,
   "metadata": {},
   "outputs": [],
   "source": []
  },
  {
   "cell_type": "code",
   "execution_count": null,
   "metadata": {},
   "outputs": [],
   "source": []
  }
 ],
 "metadata": {
  "kernelspec": {
   "display_name": "Python 2",
   "language": "python",
   "name": "python2"
  },
  "language_info": {
   "codemirror_mode": {
    "name": "ipython",
    "version": 3
   },
   "file_extension": ".py",
   "mimetype": "text/x-python",
   "name": "python",
   "nbconvert_exporter": "python",
   "pygments_lexer": "ipython3",
   "version": "3.5.2"
  }
 },
 "nbformat": 4,
 "nbformat_minor": 2
}
